{
  "nbformat": 4,
  "nbformat_minor": 0,
  "metadata": {
    "colab": {
      "provenance": [],
      "authorship_tag": "ABX9TyPK5BiZOwPHNhEzC1eUCKnB",
      "include_colab_link": true
    },
    "kernelspec": {
      "name": "python3",
      "display_name": "Python 3"
    },
    "language_info": {
      "name": "python"
    },
    "accelerator": "GPU",
    "gpuClass": "standard"
  },
  "cells": [
    {
      "cell_type": "markdown",
      "metadata": {
        "id": "view-in-github",
        "colab_type": "text"
      },
      "source": [
        "<a href=\"https://colab.research.google.com/github/cbg11/Neural-Machine-Translator-for-English-Afaan-Oromo/blob/main/NMT_Inference_eng_to_ao.ipynb\" target=\"_parent\"><img src=\"https://colab.research.google.com/assets/colab-badge.svg\" alt=\"Open In Colab\"/></a>"
      ]
    },
    {
      "cell_type": "markdown",
      "source": [
        "# Inference for Neural machine translation with attention"
      ],
      "metadata": {
        "id": "PyabcClNQXje"
      }
    },
    {
      "cell_type": "markdown",
      "source": [
        "## Setup"
      ],
      "metadata": {
        "id": "oG5RcYf8QfEd"
      }
    },
    {
      "cell_type": "code",
      "source": [
        "import numpy as np\n",
        "import tensorflow as tf"
      ],
      "metadata": {
        "id": "XKBn_m4hQaRe"
      },
      "execution_count": 1,
      "outputs": []
    },
    {
      "cell_type": "code",
      "source": [
        "# Path to saved file\n",
        "import pathlib\n",
        "from google.colab import drive\n",
        "drive.mount('/content/drive/', force_remount=True)\n",
        "%cd /content/drive/My Drive/TTS"
      ],
      "metadata": {
        "colab": {
          "base_uri": "https://localhost:8080/"
        },
        "id": "jHLtNCSDQfv8",
        "outputId": "5b4f5a69-0692-4fc8-d9c9-a967ac6f4157"
      },
      "execution_count": 2,
      "outputs": [
        {
          "output_type": "stream",
          "name": "stdout",
          "text": [
            "Mounted at /content/drive/\n",
            "/content/drive/My Drive/TTS\n"
          ]
        }
      ]
    },
    {
      "cell_type": "code",
      "source": [
        "inputs = [\n",
        "    \"It's very cold here.\", # \"As baayyee qorra.\"\n",
        "    \"This is my life.\", # \"Kun jireenya kooti.\"\n",
        "    \"His room is a mess\" # \"Kutaan isaa jeequmsa.\"\n",
        "]"
      ],
      "metadata": {
        "id": "YtCHrz4YQ-Gu"
      },
      "execution_count": 11,
      "outputs": []
    },
    {
      "cell_type": "code",
      "source": [
        "%%time\n",
        "reloaded = tf.saved_model.load('eng_translator')"
      ],
      "metadata": {
        "colab": {
          "base_uri": "https://localhost:8080/"
        },
        "id": "Bv65J9-gQy6w",
        "outputId": "d771ed8a-f10a-42bd-934f-4c578c49f502"
      },
      "execution_count": 4,
      "outputs": [
        {
          "output_type": "stream",
          "name": "stdout",
          "text": [
            "CPU times: user 31.2 s, sys: 2.61 s, total: 33.8 s\n",
            "Wall time: 38.5 s\n"
          ]
        }
      ]
    },
    {
      "cell_type": "code",
      "source": [
        "%%time\n",
        "result = reloaded.translate(tf.constant(inputs))\n",
        "\n",
        "print(result[0].numpy().decode())\n",
        "print(result[1].numpy().decode())\n",
        "print(result[2].numpy().decode())\n",
        "print()"
      ],
      "metadata": {
        "colab": {
          "base_uri": "https://localhost:8080/"
        },
        "id": "I6i0h7NJQ6Om",
        "outputId": "51786505-53a3-43c7-f179-0979c9716eff"
      },
      "execution_count": 12,
      "outputs": [
        {
          "output_type": "stream",
          "name": "stdout",
          "text": [
            "asitti baay'ee qorri jira.                                            \n",
            "kun jireenya kooti.                                             \n",
            "kutaan isaa jeequmsa guddaa qabuudha.                                           \n",
            "\n",
            "CPU times: user 159 ms, sys: 16.2 ms, total: 175 ms\n",
            "Wall time: 268 ms\n"
          ]
        }
      ]
    },
    {
      "cell_type": "code",
      "source": [
        "result = reloaded.translate([\"I love you!\"])\n",
        "print(result[0].numpy().decode())"
      ],
      "metadata": {
        "colab": {
          "base_uri": "https://localhost:8080/"
        },
        "id": "3GkE-djZQ8m2",
        "outputId": "dc9c1813-503b-40b5-8a9c-19a137bb7565"
      },
      "execution_count": 6,
      "outputs": [
        {
          "output_type": "stream",
          "name": "stdout",
          "text": [
            "si jaalladha!                                              \n"
          ]
        }
      ]
    },
    {
      "cell_type": "code",
      "source": [],
      "metadata": {
        "id": "cQ2ge1_NWl3l"
      },
      "execution_count": 6,
      "outputs": []
    }
  ]
}