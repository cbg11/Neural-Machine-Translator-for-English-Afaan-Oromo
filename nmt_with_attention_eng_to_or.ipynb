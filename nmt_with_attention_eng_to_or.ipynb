{
  "cells": [
    {
      "cell_type": "markdown",
      "metadata": {
        "id": "view-in-github",
        "colab_type": "text"
      },
      "source": [
        "<a href=\"https://colab.research.google.com/github/cbg11/Neural-Machine-Translator-for-English-Afaan-Oromo/blob/main/nmt_with_attention_eng_to_or.ipynb\" target=\"_parent\"><img src=\"https://colab.research.google.com/assets/colab-badge.svg\" alt=\"Open In Colab\"/></a>"
      ]
    },
    {
      "cell_type": "markdown",
      "metadata": {
        "id": "J0Qjg6vuaHNt"
      },
      "source": [
        "# Neural machine translation with attention"
      ]
    },
    {
      "cell_type": "markdown",
      "metadata": {
        "id": "yAmSR1FaqKrl"
      },
      "source": [
        "## Setup"
      ]
    },
    {
      "cell_type": "code",
      "execution_count": 1,
      "metadata": {
        "id": "DGFTkuRvzWqc",
        "colab": {
          "base_uri": "https://localhost:8080/"
        },
        "outputId": "ce03d375-e5d6-4bb5-a0c6-7b395e9bc239"
      },
      "outputs": [
        {
          "output_type": "stream",
          "name": "stdout",
          "text": [
            "Looking in indexes: https://pypi.org/simple, https://us-python.pkg.dev/colab-wheels/public/simple/\n",
            "Collecting tensorflow-text>=2.10\n",
            "  Downloading tensorflow_text-2.11.0-cp38-cp38-manylinux_2_17_x86_64.manylinux2014_x86_64.whl (5.8 MB)\n",
            "\u001b[2K     \u001b[90m━━━━━━━━━━━━━━━━━━━━━━━━━━━━━━━━━━━━━━━━\u001b[0m \u001b[32m5.8/5.8 MB\u001b[0m \u001b[31m29.4 MB/s\u001b[0m eta \u001b[36m0:00:00\u001b[0m\n",
            "\u001b[?25hRequirement already satisfied: tensorflow<2.12,>=2.11.0 in /usr/local/lib/python3.8/dist-packages (from tensorflow-text>=2.10) (2.11.0)\n",
            "Requirement already satisfied: tensorflow-hub>=0.8.0 in /usr/local/lib/python3.8/dist-packages (from tensorflow-text>=2.10) (0.12.0)\n",
            "Requirement already satisfied: setuptools in /usr/local/lib/python3.8/dist-packages (from tensorflow<2.12,>=2.11.0->tensorflow-text>=2.10) (57.4.0)\n",
            "Requirement already satisfied: tensorboard<2.12,>=2.11 in /usr/local/lib/python3.8/dist-packages (from tensorflow<2.12,>=2.11.0->tensorflow-text>=2.10) (2.11.2)\n",
            "Requirement already satisfied: typing-extensions>=3.6.6 in /usr/local/lib/python3.8/dist-packages (from tensorflow<2.12,>=2.11.0->tensorflow-text>=2.10) (4.5.0)\n",
            "Requirement already satisfied: packaging in /usr/local/lib/python3.8/dist-packages (from tensorflow<2.12,>=2.11.0->tensorflow-text>=2.10) (23.0)\n",
            "Requirement already satisfied: libclang>=13.0.0 in /usr/local/lib/python3.8/dist-packages (from tensorflow<2.12,>=2.11.0->tensorflow-text>=2.10) (15.0.6.1)\n",
            "Requirement already satisfied: termcolor>=1.1.0 in /usr/local/lib/python3.8/dist-packages (from tensorflow<2.12,>=2.11.0->tensorflow-text>=2.10) (2.2.0)\n",
            "Requirement already satisfied: numpy>=1.20 in /usr/local/lib/python3.8/dist-packages (from tensorflow<2.12,>=2.11.0->tensorflow-text>=2.10) (1.22.4)\n",
            "Requirement already satisfied: astunparse>=1.6.0 in /usr/local/lib/python3.8/dist-packages (from tensorflow<2.12,>=2.11.0->tensorflow-text>=2.10) (1.6.3)\n",
            "Requirement already satisfied: flatbuffers>=2.0 in /usr/local/lib/python3.8/dist-packages (from tensorflow<2.12,>=2.11.0->tensorflow-text>=2.10) (23.1.21)\n",
            "Requirement already satisfied: keras<2.12,>=2.11.0 in /usr/local/lib/python3.8/dist-packages (from tensorflow<2.12,>=2.11.0->tensorflow-text>=2.10) (2.11.0)\n",
            "Requirement already satisfied: tensorflow-io-gcs-filesystem>=0.23.1 in /usr/local/lib/python3.8/dist-packages (from tensorflow<2.12,>=2.11.0->tensorflow-text>=2.10) (0.30.0)\n",
            "Requirement already satisfied: grpcio<2.0,>=1.24.3 in /usr/local/lib/python3.8/dist-packages (from tensorflow<2.12,>=2.11.0->tensorflow-text>=2.10) (1.51.1)\n",
            "Requirement already satisfied: gast<=0.4.0,>=0.2.1 in /usr/local/lib/python3.8/dist-packages (from tensorflow<2.12,>=2.11.0->tensorflow-text>=2.10) (0.4.0)\n",
            "Requirement already satisfied: opt-einsum>=2.3.2 in /usr/local/lib/python3.8/dist-packages (from tensorflow<2.12,>=2.11.0->tensorflow-text>=2.10) (3.3.0)\n",
            "Requirement already satisfied: google-pasta>=0.1.1 in /usr/local/lib/python3.8/dist-packages (from tensorflow<2.12,>=2.11.0->tensorflow-text>=2.10) (0.2.0)\n",
            "Requirement already satisfied: h5py>=2.9.0 in /usr/local/lib/python3.8/dist-packages (from tensorflow<2.12,>=2.11.0->tensorflow-text>=2.10) (3.1.0)\n",
            "Requirement already satisfied: absl-py>=1.0.0 in /usr/local/lib/python3.8/dist-packages (from tensorflow<2.12,>=2.11.0->tensorflow-text>=2.10) (1.4.0)\n",
            "Requirement already satisfied: six>=1.12.0 in /usr/local/lib/python3.8/dist-packages (from tensorflow<2.12,>=2.11.0->tensorflow-text>=2.10) (1.15.0)\n",
            "Requirement already satisfied: tensorflow-estimator<2.12,>=2.11.0 in /usr/local/lib/python3.8/dist-packages (from tensorflow<2.12,>=2.11.0->tensorflow-text>=2.10) (2.11.0)\n",
            "Requirement already satisfied: protobuf<3.20,>=3.9.2 in /usr/local/lib/python3.8/dist-packages (from tensorflow<2.12,>=2.11.0->tensorflow-text>=2.10) (3.19.6)\n",
            "Requirement already satisfied: wrapt>=1.11.0 in /usr/local/lib/python3.8/dist-packages (from tensorflow<2.12,>=2.11.0->tensorflow-text>=2.10) (1.14.1)\n",
            "Requirement already satisfied: wheel<1.0,>=0.23.0 in /usr/local/lib/python3.8/dist-packages (from astunparse>=1.6.0->tensorflow<2.12,>=2.11.0->tensorflow-text>=2.10) (0.38.4)\n",
            "Requirement already satisfied: google-auth<3,>=1.6.3 in /usr/local/lib/python3.8/dist-packages (from tensorboard<2.12,>=2.11->tensorflow<2.12,>=2.11.0->tensorflow-text>=2.10) (2.16.1)\n",
            "Requirement already satisfied: tensorboard-data-server<0.7.0,>=0.6.0 in /usr/local/lib/python3.8/dist-packages (from tensorboard<2.12,>=2.11->tensorflow<2.12,>=2.11.0->tensorflow-text>=2.10) (0.6.1)\n",
            "Requirement already satisfied: requests<3,>=2.21.0 in /usr/local/lib/python3.8/dist-packages (from tensorboard<2.12,>=2.11->tensorflow<2.12,>=2.11.0->tensorflow-text>=2.10) (2.25.1)\n",
            "Requirement already satisfied: tensorboard-plugin-wit>=1.6.0 in /usr/local/lib/python3.8/dist-packages (from tensorboard<2.12,>=2.11->tensorflow<2.12,>=2.11.0->tensorflow-text>=2.10) (1.8.1)\n",
            "Requirement already satisfied: werkzeug>=1.0.1 in /usr/local/lib/python3.8/dist-packages (from tensorboard<2.12,>=2.11->tensorflow<2.12,>=2.11.0->tensorflow-text>=2.10) (1.0.1)\n",
            "Requirement already satisfied: markdown>=2.6.8 in /usr/local/lib/python3.8/dist-packages (from tensorboard<2.12,>=2.11->tensorflow<2.12,>=2.11.0->tensorflow-text>=2.10) (3.4.1)\n",
            "Requirement already satisfied: google-auth-oauthlib<0.5,>=0.4.1 in /usr/local/lib/python3.8/dist-packages (from tensorboard<2.12,>=2.11->tensorflow<2.12,>=2.11.0->tensorflow-text>=2.10) (0.4.6)\n",
            "Requirement already satisfied: pyasn1-modules>=0.2.1 in /usr/local/lib/python3.8/dist-packages (from google-auth<3,>=1.6.3->tensorboard<2.12,>=2.11->tensorflow<2.12,>=2.11.0->tensorflow-text>=2.10) (0.2.8)\n",
            "Requirement already satisfied: rsa<5,>=3.1.4 in /usr/local/lib/python3.8/dist-packages (from google-auth<3,>=1.6.3->tensorboard<2.12,>=2.11->tensorflow<2.12,>=2.11.0->tensorflow-text>=2.10) (4.9)\n",
            "Requirement already satisfied: cachetools<6.0,>=2.0.0 in /usr/local/lib/python3.8/dist-packages (from google-auth<3,>=1.6.3->tensorboard<2.12,>=2.11->tensorflow<2.12,>=2.11.0->tensorflow-text>=2.10) (5.3.0)\n",
            "Requirement already satisfied: requests-oauthlib>=0.7.0 in /usr/local/lib/python3.8/dist-packages (from google-auth-oauthlib<0.5,>=0.4.1->tensorboard<2.12,>=2.11->tensorflow<2.12,>=2.11.0->tensorflow-text>=2.10) (1.3.1)\n",
            "Requirement already satisfied: importlib-metadata>=4.4 in /usr/local/lib/python3.8/dist-packages (from markdown>=2.6.8->tensorboard<2.12,>=2.11->tensorflow<2.12,>=2.11.0->tensorflow-text>=2.10) (6.0.0)\n",
            "Requirement already satisfied: chardet<5,>=3.0.2 in /usr/local/lib/python3.8/dist-packages (from requests<3,>=2.21.0->tensorboard<2.12,>=2.11->tensorflow<2.12,>=2.11.0->tensorflow-text>=2.10) (4.0.0)\n",
            "Requirement already satisfied: idna<3,>=2.5 in /usr/local/lib/python3.8/dist-packages (from requests<3,>=2.21.0->tensorboard<2.12,>=2.11->tensorflow<2.12,>=2.11.0->tensorflow-text>=2.10) (2.10)\n",
            "Requirement already satisfied: certifi>=2017.4.17 in /usr/local/lib/python3.8/dist-packages (from requests<3,>=2.21.0->tensorboard<2.12,>=2.11->tensorflow<2.12,>=2.11.0->tensorflow-text>=2.10) (2022.12.7)\n",
            "Requirement already satisfied: urllib3<1.27,>=1.21.1 in /usr/local/lib/python3.8/dist-packages (from requests<3,>=2.21.0->tensorboard<2.12,>=2.11->tensorflow<2.12,>=2.11.0->tensorflow-text>=2.10) (1.24.3)\n",
            "Requirement already satisfied: zipp>=0.5 in /usr/local/lib/python3.8/dist-packages (from importlib-metadata>=4.4->markdown>=2.6.8->tensorboard<2.12,>=2.11->tensorflow<2.12,>=2.11.0->tensorflow-text>=2.10) (3.14.0)\n",
            "Requirement already satisfied: pyasn1<0.5.0,>=0.4.6 in /usr/local/lib/python3.8/dist-packages (from pyasn1-modules>=0.2.1->google-auth<3,>=1.6.3->tensorboard<2.12,>=2.11->tensorflow<2.12,>=2.11.0->tensorflow-text>=2.10) (0.4.8)\n",
            "Requirement already satisfied: oauthlib>=3.0.0 in /usr/local/lib/python3.8/dist-packages (from requests-oauthlib>=0.7.0->google-auth-oauthlib<0.5,>=0.4.1->tensorboard<2.12,>=2.11->tensorflow<2.12,>=2.11.0->tensorflow-text>=2.10) (3.2.2)\n",
            "Installing collected packages: tensorflow-text\n",
            "Successfully installed tensorflow-text-2.11.0\n",
            "Looking in indexes: https://pypi.org/simple, https://us-python.pkg.dev/colab-wheels/public/simple/\n",
            "Collecting einops\n",
            "  Downloading einops-0.6.0-py3-none-any.whl (41 kB)\n",
            "\u001b[2K     \u001b[90m━━━━━━━━━━━━━━━━━━━━━━━━━━━━━━━━━━━━━━━\u001b[0m \u001b[32m41.6/41.6 KB\u001b[0m \u001b[31m789.5 kB/s\u001b[0m eta \u001b[36m0:00:00\u001b[0m\n",
            "\u001b[?25hInstalling collected packages: einops\n",
            "Successfully installed einops-0.6.0\n"
          ]
        }
      ],
      "source": [
        "!pip install \"tensorflow-text>=2.10\"\n",
        "!pip install einops"
      ]
    },
    {
      "cell_type": "code",
      "execution_count": 2,
      "metadata": {
        "id": "tnxXKDjq3jEL"
      },
      "outputs": [],
      "source": [
        "import numpy as np\n",
        "\n",
        "import typing\n",
        "from typing import Any, Tuple\n",
        "\n",
        "import einops\n",
        "import matplotlib.pyplot as plt\n",
        "import matplotlib.ticker as ticker\n",
        "\n",
        "import tensorflow as tf\n",
        "import tensorflow_text as tf_text"
      ]
    },
    {
      "cell_type": "markdown",
      "metadata": {
        "id": "l_yq8kvIqoqQ"
      },
      "source": [
        "This class is used to check shapes throughout the project.\n"
      ]
    },
    {
      "cell_type": "code",
      "execution_count": 3,
      "metadata": {
        "id": "KqFqKi4fqN9X"
      },
      "outputs": [],
      "source": [
        "class ShapeChecker():\n",
        "  def __init__(self):\n",
        "    # Keep a cache of every axis-name seen\n",
        "    self.shapes = {}\n",
        "\n",
        "  def __call__(self, tensor, names, broadcast=False):\n",
        "    if not tf.executing_eagerly():\n",
        "      return\n",
        "\n",
        "    parsed = einops.parse_shape(tensor, names)\n",
        "\n",
        "    for name, new_dim in parsed.items():\n",
        "      old_dim = self.shapes.get(name, None)\n",
        "      \n",
        "      if (broadcast and new_dim == 1):\n",
        "        continue\n",
        "\n",
        "      if old_dim is None:\n",
        "        # If the axis name is new, add its length to the cache.\n",
        "        self.shapes[name] = new_dim\n",
        "        continue\n",
        "\n",
        "      if new_dim != old_dim:\n",
        "        raise ValueError(f\"Shape mismatch for dimension: '{name}'\\n\"\n",
        "                         f\"    found: {new_dim}\\n\"\n",
        "                         f\"    expected: {old_dim}\\n\")"
      ]
    },
    {
      "cell_type": "markdown",
      "metadata": {
        "id": "gjUROhJfH3ML"
      },
      "source": [
        "## The data"
      ]
    },
    {
      "cell_type": "markdown",
      "metadata": {
        "id": "puE_K74DIE9W"
      },
      "source": [
        "The Project uses a language dataset similar with provided by [Anki](http://www.manythings.org/anki/). This dataset contains language translation pairs separated by tab in the format:\n",
        "\n",
        "```\n",
        "I know a few things.\tWaan muraasa beeka.\n",
        "```"
      ]
    },
    {
      "cell_type": "markdown",
      "metadata": {
        "id": "wfodePkj3jEa"
      },
      "source": [
        "### Download and prepare the dataset"
      ]
    },
    {
      "cell_type": "code",
      "execution_count": 4,
      "metadata": {
        "id": "kRVATYOgJs1b",
        "colab": {
          "base_uri": "https://localhost:8080/"
        },
        "outputId": "2809e80b-41a8-453a-efa7-5f9815c9c984"
      },
      "outputs": [
        {
          "output_type": "stream",
          "name": "stdout",
          "text": [
            "Mounted at /content/drive/\n",
            "/content/drive/My Drive/MT\n"
          ]
        }
      ],
      "source": [
        "# Download the file\n",
        "import pathlib\n",
        "from google.colab import drive\n",
        "drive.mount('/content/drive/', force_remount=True)\n",
        "%cd /content/drive/My Drive/MT\n",
        "path_to_file = \"eng_or_tr_final.txt\""
      ]
    },
    {
      "cell_type": "code",
      "source": [
        "def data_loader(f_name):\n",
        "    target = []\n",
        "    context = []\n",
        "    with open(f_name, 'r', encoding='utf-8') as f:\n",
        "        for line in f:\n",
        "            trg, cnt = line.strip().split('\\t')\n",
        "            target.append(trg)\n",
        "            context.append(cnt)\n",
        "    return np.array(target), np.array(context)"
      ],
      "metadata": {
        "id": "Ump1tLruRzc_"
      },
      "execution_count": 5,
      "outputs": []
    },
    {
      "cell_type": "code",
      "execution_count": 6,
      "metadata": {
        "id": "cTbSbBz55QtF",
        "colab": {
          "base_uri": "https://localhost:8080/"
        },
        "outputId": "2b2a193d-bf5c-4fc0-c0bb-16d93be87fcb"
      },
      "outputs": [
        {
          "output_type": "stream",
          "name": "stdout",
          "text": [
            "Length of the dataset:  120169\n",
            "Sample sentece on line 800: I can sing.\n",
            "Sample transcription on line 800: Sirbuu nan danda'a.\n"
          ]
        }
      ],
      "source": [
        "context_raw, target_raw = data_loader(path_to_file)\n",
        "print(\"Length of the dataset: \", len(context_raw))\n",
        "print(\"Sample sentece on line 800:\", context_raw[800])\n",
        "print(\"Sample transcription on line 800:\", target_raw[800])\n"
      ]
    },
    {
      "cell_type": "markdown",
      "metadata": {
        "id": "rgCLkfv5uO3d"
      },
      "source": [
        "### Create a tf.data dataset"
      ]
    },
    {
      "cell_type": "code",
      "execution_count": 7,
      "metadata": {
        "id": "3rZFgz69nMPa"
      },
      "outputs": [],
      "source": [
        "BUFFER_SIZE = len(context_raw)\n",
        "BATCH_SIZE = 64\n",
        "\n",
        "is_train = np.random.uniform(size=(len(target_raw),)) < 0.8\n",
        "\n",
        "train_raw = (\n",
        "    tf.data.Dataset\n",
        "    .from_tensor_slices((context_raw[is_train], target_raw[is_train]))\n",
        "    .shuffle(BUFFER_SIZE)\n",
        "    .batch(BATCH_SIZE))\n",
        "val_raw = (\n",
        "    tf.data.Dataset\n",
        "    .from_tensor_slices((context_raw[~is_train], target_raw[~is_train]))\n",
        "    .shuffle(BUFFER_SIZE)\n",
        "    .batch(BATCH_SIZE))"
      ]
    },
    {
      "cell_type": "code",
      "execution_count": 8,
      "metadata": {
        "id": "qc6-NK1GtWQt",
        "colab": {
          "base_uri": "https://localhost:8080/"
        },
        "outputId": "3769e90d-f001-4d6b-f50f-ad7b80a71d4e"
      },
      "outputs": [
        {
          "output_type": "stream",
          "name": "stdout",
          "text": [
            "tf.Tensor(\n",
            "[b'He is such a bad person that everybody dislikes him.'\n",
            " b\"I don't want to be seen in his company.\"\n",
            " b\"I'll show you how to separate gold from sand.\"\n",
            " b'My grandma made us some meat and potato stew.'\n",
            " b'Tom showed his passport to the man at the gate.'], shape=(5,), dtype=string)\n",
            "\n",
            "tf.Tensor(\n",
            "[b\"Nama hamaa waan ta'eef namni hundi isa jibba.\"\n",
            " b\"Dhaabbata isaa keessatti akkan mul'atu hin barbaadu.\"\n",
            " b'Warqee fi cirracha akkamitti akka adda baasan isinitti agarsiisa.'\n",
            " b'Adaadaan koo foon fi boqqolloo nyaata nuuf tolchite.'\n",
            " b'Toom nama karra irra jirutti paaspoortii isaa agarsiise.'], shape=(5,), dtype=string)\n"
          ]
        }
      ],
      "source": [
        "for example_context_strings, example_target_strings in train_raw.take(1):\n",
        "  print(example_context_strings[:5])\n",
        "  print()\n",
        "  print(example_target_strings[:5])\n",
        "  break"
      ]
    },
    {
      "cell_type": "markdown",
      "metadata": {
        "id": "zCoxLcuN3bwv"
      },
      "source": [
        "### Text preprocessing"
      ]
    },
    {
      "cell_type": "markdown",
      "metadata": {
        "id": "EOQ5n55X4uDB"
      },
      "source": [
        "#### Standardization"
      ]
    },
    {
      "cell_type": "code",
      "execution_count": 9,
      "metadata": {
        "id": "chTF5N885F0P"
      },
      "outputs": [],
      "source": [
        "def tf_lower_and_split_punct(text):\n",
        "  # Split accented characters.\n",
        "  #text = tf_text.normalize_utf8(text, 'NFKD')\n",
        "  text = tf.strings.lower(text)\n",
        "  # Keep space, a to z, and selected punctuation.\n",
        "  text = tf.strings.regex_replace(text, \"[^ a-z.?!,']\", '')\n",
        "  # Add spaces around punctuation.\n",
        "  text = tf.strings.regex_replace(text, '[.?!,]', r' \\0 ')\n",
        "  # Strip whitespace.\n",
        "  text = tf.strings.strip(text)\n",
        "\n",
        "  text = tf.strings.join(['<s>', text, '</s>'], separator=' ')\n",
        "  return text"
      ]
    },
    {
      "cell_type": "code",
      "source": [
        "example_text = example_context_strings[0]"
      ],
      "metadata": {
        "id": "ij83pTCnq_L6"
      },
      "execution_count": 10,
      "outputs": []
    },
    {
      "cell_type": "code",
      "execution_count": 11,
      "metadata": {
        "id": "UREvDg3sEKYa",
        "colab": {
          "base_uri": "https://localhost:8080/"
        },
        "outputId": "c678a649-4cc7-4695-afcb-585ae88f60af"
      },
      "outputs": [
        {
          "output_type": "stream",
          "name": "stdout",
          "text": [
            "He is such a bad person that everybody dislikes him.\n",
            "<s> he is such a bad person that everybody dislikes him . </s>\n"
          ]
        }
      ],
      "source": [
        "print(example_text.numpy().decode())\n",
        "print(tf_lower_and_split_punct(example_text).numpy().decode())"
      ]
    },
    {
      "cell_type": "markdown",
      "metadata": {
        "id": "4q-sKsSI7xRZ"
      },
      "source": [
        "#### Text Vectorization"
      ]
    },
    {
      "cell_type": "code",
      "execution_count": 12,
      "metadata": {
        "id": "eAY9k49G3jE_"
      },
      "outputs": [],
      "source": [
        "max_vocab_size = 30000\n",
        "\n",
        "context_text_processor = tf.keras.layers.TextVectorization(\n",
        "    standardize=tf_lower_and_split_punct,\n",
        "    max_tokens=max_vocab_size,\n",
        "    ragged=True)"
      ]
    },
    {
      "cell_type": "markdown",
      "metadata": {
        "id": "7kbC6ODP8IK_"
      },
      "source": [
        "The `TextVectorization` layer and many other [Keras preprocessing layers](https://www.tensorflow.org/guide/keras/preprocessing_layers) have an `adapt` method. This method reads one epoch of the training data, and works a lot like `Model.fit`. This `adapt` method initializes the layer based on the data. Here it determines the vocabulary:"
      ]
    },
    {
      "cell_type": "code",
      "execution_count": 13,
      "metadata": {
        "id": "bmsI1Yql8FYe",
        "colab": {
          "base_uri": "https://localhost:8080/"
        },
        "outputId": "cf6c09df-0cc5-4372-d06b-fa2dee7e92dd"
      },
      "outputs": [
        {
          "output_type": "stream",
          "name": "stderr",
          "text": [
            "WARNING:tensorflow:From /usr/local/lib/python3.8/dist-packages/tensorflow/python/autograph/pyct/static_analysis/liveness.py:83: Analyzer.lamba_check (from tensorflow.python.autograph.pyct.static_analysis.liveness) is deprecated and will be removed after 2023-09-23.\n",
            "Instructions for updating:\n",
            "Lambda fuctions will be no more assumed to be used in the statement where they are used, or at least in the same block. https://github.com/tensorflow/tensorflow/issues/56089\n"
          ]
        },
        {
          "output_type": "execute_result",
          "data": {
            "text/plain": [
              "['', '[UNK]', '<s>', '</s>', '.', 'the', 'to', 'i', 'tom', 'you']"
            ]
          },
          "metadata": {},
          "execution_count": 13
        }
      ],
      "source": [
        "context_text_processor.adapt(train_raw.map(lambda context, target: context))\n",
        "\n",
        "# Here are the first 10 words from the vocabulary:\n",
        "context_text_processor.get_vocabulary()[:10]"
      ]
    },
    {
      "cell_type": "code",
      "source": [
        "print(\"Length of vocabulary of English:\", len(context_text_processor.get_vocabulary()))"
      ],
      "metadata": {
        "colab": {
          "base_uri": "https://localhost:8080/"
        },
        "id": "yiOzVQULqm09",
        "outputId": "a936b267-26b9-4d4d-fcb9-4a42e9553137"
      },
      "execution_count": 14,
      "outputs": [
        {
          "output_type": "stream",
          "name": "stdout",
          "text": [
            "Length of vocabulary of English: 17137\n"
          ]
        }
      ]
    },
    {
      "cell_type": "markdown",
      "metadata": {
        "id": "9kGjIFjX8_Wp"
      },
      "source": [
        "That's the Afaan Oromoo `TextVectorization` layer, now build and `.adapt()` the English one:"
      ]
    },
    {
      "cell_type": "code",
      "execution_count": 15,
      "metadata": {
        "id": "jlC4xuZnKLBS",
        "colab": {
          "base_uri": "https://localhost:8080/"
        },
        "outputId": "a628918e-356e-4546-ef86-a7e50c3ff4bf"
      },
      "outputs": [
        {
          "output_type": "execute_result",
          "data": {
            "text/plain": [
              "['', '[UNK]', '<s>', '</s>', '.', 'hin', 'toom', '?', 'akka', 'ture']"
            ]
          },
          "metadata": {},
          "execution_count": 15
        }
      ],
      "source": [
        "target_text_processor = tf.keras.layers.TextVectorization(\n",
        "    standardize=tf_lower_and_split_punct,\n",
        "    max_tokens=max_vocab_size,\n",
        "    ragged=True)\n",
        "\n",
        "target_text_processor.adapt(train_raw.map(lambda context, target: target))\n",
        "target_text_processor.get_vocabulary()[:10]"
      ]
    },
    {
      "cell_type": "code",
      "source": [
        "print(\"Length of vocabulary of Afaan Oromoo:\", len(target_text_processor.get_vocabulary()))"
      ],
      "metadata": {
        "colab": {
          "base_uri": "https://localhost:8080/"
        },
        "id": "HXAYigZjmYuK",
        "outputId": "96757a99-31dc-4676-83b0-e5cd656947f2"
      },
      "execution_count": 16,
      "outputs": [
        {
          "output_type": "stream",
          "name": "stdout",
          "text": [
            "Length of vocabulary of Afaan Oromoo: 27436\n"
          ]
        }
      ]
    },
    {
      "cell_type": "markdown",
      "metadata": {
        "id": "BWQqlP_s9eIv"
      },
      "source": [
        "Now these layers can convert a batch of strings into a batch of token IDs:"
      ]
    },
    {
      "cell_type": "code",
      "execution_count": 17,
      "metadata": {
        "id": "9KZxj8IrNZ9S",
        "colab": {
          "base_uri": "https://localhost:8080/"
        },
        "outputId": "fe507e41-96e5-46f0-b04f-9ffe5408b93b"
      },
      "outputs": [
        {
          "output_type": "execute_result",
          "data": {
            "text/plain": [
              "<tf.RaggedTensor [[2, 15, 12, 422, 10, 251, 291, 17, 437, 4868, 46, 4, 3],\n",
              " [2, 7, 26, 39, 6, 36, 284, 13, 34, 474, 4, 3],\n",
              " [2, 83, 379, 9, 54, 6, 2912, 1112, 65, 2260, 4, 3]]>"
            ]
          },
          "metadata": {},
          "execution_count": 17
        }
      ],
      "source": [
        "example_tokens = context_text_processor(example_context_strings)\n",
        "example_tokens[:3, :]"
      ]
    },
    {
      "cell_type": "markdown",
      "metadata": {
        "id": "AA9rUn9G9n78"
      },
      "source": [
        "The `get_vocabulary` method can be used to convert token IDs back to text:"
      ]
    },
    {
      "cell_type": "code",
      "execution_count": 18,
      "metadata": {
        "id": "98g9rcxGQY0I",
        "colab": {
          "base_uri": "https://localhost:8080/"
        },
        "outputId": "dcb31ea4-99dd-4c9a-ccdc-a1d36b36094e"
      },
      "outputs": [
        {
          "output_type": "execute_result",
          "data": {
            "text/plain": [
              "<tf.Tensor: shape=(13,), dtype=int64, numpy=\n",
              "array([   2,   15,   12,  422,   10,  251,  291,   17,  437, 4868,   46,\n",
              "          4,    3])>"
            ]
          },
          "metadata": {},
          "execution_count": 18
        }
      ],
      "source": [
        "example_tokens[0]"
      ]
    },
    {
      "cell_type": "code",
      "source": [
        "context_vocab = np.array(context_text_processor.get_vocabulary())\n",
        "tokens = context_vocab[example_tokens[0].numpy()]\n",
        "' '.join(tokens)"
      ],
      "metadata": {
        "colab": {
          "base_uri": "https://localhost:8080/",
          "height": 35
        },
        "id": "wKtkvmHbDJsO",
        "outputId": "e73b5766-3e47-4c5b-8ab2-00047106e5a6"
      },
      "execution_count": 19,
      "outputs": [
        {
          "output_type": "execute_result",
          "data": {
            "text/plain": [
              "'<s> he is such a bad person that everybody dislikes him . </s>'"
            ],
            "application/vnd.google.colaboratory.intrinsic+json": {
              "type": "string"
            }
          },
          "metadata": {},
          "execution_count": 19
        }
      ]
    },
    {
      "cell_type": "markdown",
      "metadata": {
        "id": "Ot0aCL9t-Ghi"
      },
      "source": [
        "The returned token IDs are zero-padded. This can easily be turned into a mask:"
      ]
    },
    {
      "cell_type": "code",
      "execution_count": 20,
      "metadata": {
        "id": "_jx4Or_eFRSz",
        "colab": {
          "base_uri": "https://localhost:8080/",
          "height": 298
        },
        "outputId": "dc49fe42-3ff4-4f28-dd14-b10d84453229"
      },
      "outputs": [
        {
          "output_type": "execute_result",
          "data": {
            "text/plain": [
              "Text(0.5, 1.0, 'Mask')"
            ]
          },
          "metadata": {},
          "execution_count": 20
        },
        {
          "output_type": "display_data",
          "data": {
            "text/plain": [
              "<Figure size 432x288 with 2 Axes>"
            ],
            "image/png": "[encoded data removed]"
          },
          "metadata": {
            "needs_background": "light"
          }
        }
      ],
      "source": [
        "plt.subplot(1, 2, 1)\n",
        "plt.pcolormesh(example_tokens.to_tensor())\n",
        "plt.title('Token IDs')\n",
        "\n",
        "plt.subplot(1, 2, 2)\n",
        "plt.pcolormesh(example_tokens.to_tensor() != 0)\n",
        "plt.title('Mask')"
      ]
    },
    {
      "cell_type": "markdown",
      "metadata": {
        "id": "3O0B4XdFlRgc"
      },
      "source": [
        "### Process the dataset\n",
        "\n"
      ]
    },
    {
      "cell_type": "markdown",
      "metadata": {
        "id": "rVCuyuSp_whd"
      },
      "source": [
        "The `process_text` function below converts the `Datasets` of strings, into  0-padded tensors of token IDs. It also converts from a `(context, target)` pair to an `((context, target_in), target_out)` pair for training with `keras.Model.fit`. Keras expects `(inputs, labels)` pairs, the inputs are the `(context, target_in)` and the labels are `target_out`. The difference between `target_in` and `target_out` is that they are shifted by one step relative to eachother, so that at each location the label is the next token."
      ]
    },
    {
      "cell_type": "code",
      "execution_count": 21,
      "metadata": {
        "id": "wk5tbZWQl5u1"
      },
      "outputs": [],
      "source": [
        "def process_text(context, target):\n",
        "  context = context_text_processor(context).to_tensor()\n",
        "  target = target_text_processor(target)\n",
        "  targ_in = target[:,:-1].to_tensor()\n",
        "  targ_out = target[:,1:].to_tensor()\n",
        "  return (context, targ_in), targ_out\n",
        "\n",
        "\n",
        "train_ds = train_raw.map(process_text, tf.data.AUTOTUNE)\n",
        "val_ds = val_raw.map(process_text, tf.data.AUTOTUNE)"
      ]
    },
    {
      "cell_type": "markdown",
      "metadata": {
        "id": "4iGi7X2m_tbM"
      },
      "source": [
        "Here is the first sequence of each, from the first batch:"
      ]
    },
    {
      "cell_type": "code",
      "execution_count": 22,
      "metadata": {
        "id": "woQBWAjLsJkr",
        "colab": {
          "base_uri": "https://localhost:8080/"
        },
        "outputId": "9ee20fc8-d907-4503-ff23-b8ea4456c889"
      },
      "outputs": [
        {
          "output_type": "stream",
          "name": "stdout",
          "text": [
            "[   2    5  564 1481   40   84   25  398    4    3]\n",
            "\n",
            "[   2 4230  119  736 2181   52   55    4    0    0]\n",
            "[4230  119  736 2181   52   55    4    3    0    0]\n"
          ]
        }
      ],
      "source": [
        "for (ex_context_tok, ex_tar_in), ex_tar_out in train_ds.take(1):\n",
        "  print(ex_context_tok[0, :10].numpy()) \n",
        "  print()\n",
        "  print(ex_tar_in[0, :10].numpy()) \n",
        "  print(ex_tar_out[0, :10].numpy()) "
      ]
    },
    {
      "cell_type": "markdown",
      "metadata": {
        "id": "TNfHIF71ulLu"
      },
      "source": [
        "## The encoder/decoder\n"
      ]
    },
    {
      "cell_type": "markdown",
      "metadata": {
        "id": "gzQWx2saImMV"
      },
      "source": [
        "Before getting into it define constants for the model:"
      ]
    },
    {
      "cell_type": "code",
      "execution_count": 23,
      "metadata": {
        "id": "_a9uNz3-IrF-"
      },
      "outputs": [],
      "source": [
        "UNITS = 256"
      ]
    },
    {
      "cell_type": "markdown",
      "metadata": {
        "id": "blNgVbLSzpsr"
      },
      "source": [
        "### The encoder"
      ]
    },
    {
      "cell_type": "code",
      "execution_count": 24,
      "metadata": {
        "id": "nZ2rI24i3jFg"
      },
      "outputs": [],
      "source": [
        "class Encoder(tf.keras.layers.Layer):\n",
        "  def __init__(self, text_processor, units):\n",
        "    super(Encoder, self).__init__()\n",
        "    self.text_processor = text_processor\n",
        "    self.vocab_size = text_processor.vocabulary_size()\n",
        "    self.units = units\n",
        "    \n",
        "    # The embedding layer converts tokens to vectors\n",
        "    self.embedding = tf.keras.layers.Embedding(self.vocab_size, units,\n",
        "                                               mask_zero=True)\n",
        "\n",
        "    # The RNN layer processes those vectors sequentially.\n",
        "    self.rnn = tf.keras.layers.Bidirectional(\n",
        "        merge_mode='sum',\n",
        "        layer=tf.keras.layers.GRU(units,\n",
        "                            # Return the sequence and state\n",
        "                            return_sequences=True,\n",
        "                            recurrent_initializer='glorot_uniform'))\n",
        "\n",
        "  def call(self, x):\n",
        "    shape_checker = ShapeChecker()\n",
        "    shape_checker(x, 'batch s')\n",
        "\n",
        "    # 2. The embedding layer looks up the embedding vector for each token.\n",
        "    x = self.embedding(x)\n",
        "    shape_checker(x, 'batch s units')\n",
        "\n",
        "    # 3. The GRU processes the sequence of embeddings.\n",
        "    x = self.rnn(x)\n",
        "    shape_checker(x, 'batch s units')\n",
        "\n",
        "    # 4. Returns the new sequence of embeddings.\n",
        "    return x\n",
        "\n",
        "  def convert_input(self, texts):\n",
        "    texts = tf.convert_to_tensor(texts)\n",
        "    if len(texts.shape) == 0:\n",
        "      texts = tf.convert_to_tensor(texts)[tf.newaxis]\n",
        "    context = self.text_processor(texts).to_tensor()\n",
        "    context = self(context)\n",
        "    return context"
      ]
    },
    {
      "cell_type": "markdown",
      "metadata": {
        "id": "D3SKkaQeGn-Q"
      },
      "source": [
        "Try it out:"
      ]
    },
    {
      "cell_type": "code",
      "execution_count": 25,
      "metadata": {
        "id": "60gSVh05Jl6l",
        "colab": {
          "base_uri": "https://localhost:8080/"
        },
        "outputId": "9eab1ba9-7528-4a8f-9b5e-e2f34f14ec1f"
      },
      "outputs": [
        {
          "output_type": "stream",
          "name": "stdout",
          "text": [
            "Context tokens, shape (batch, s): (64, 22)\n",
            "Encoder output, shape (batch, s, units): (64, 22, 256)\n"
          ]
        }
      ],
      "source": [
        "# Encode the input sequence.\n",
        "encoder = Encoder(context_text_processor, UNITS)\n",
        "ex_context = encoder(ex_context_tok)\n",
        "\n",
        "print(f'Context tokens, shape (batch, s): {ex_context_tok.shape}')\n",
        "print(f'Encoder output, shape (batch, s, units): {ex_context.shape}')"
      ]
    },
    {
      "cell_type": "markdown",
      "metadata": {
        "id": "45xM_Gl1MgXY"
      },
      "source": [
        "### The attention layer"
      ]
    },
    {
      "cell_type": "code",
      "execution_count": 26,
      "metadata": {
        "id": "-Ql3ymqwD8LS"
      },
      "outputs": [],
      "source": [
        "class CrossAttention(tf.keras.layers.Layer):\n",
        "  def __init__(self, units, **kwargs):\n",
        "    super().__init__()\n",
        "    self.mha = tf.keras.layers.MultiHeadAttention(key_dim=units, num_heads=1, **kwargs)\n",
        "    self.layernorm = tf.keras.layers.LayerNormalization()\n",
        "    self.add = tf.keras.layers.Add()\n",
        "\n",
        "  def call(self, x, context):\n",
        "    shape_checker = ShapeChecker()\n",
        " \n",
        "    shape_checker(x, 'batch t units')\n",
        "    shape_checker(context, 'batch s units')\n",
        "\n",
        "    attn_output, attn_scores = self.mha(\n",
        "        query=x,\n",
        "        value=context,\n",
        "        return_attention_scores=True)\n",
        "    \n",
        "    shape_checker(x, 'batch t units')\n",
        "    shape_checker(attn_scores, 'batch heads t s')\n",
        "    \n",
        "    # Cache the attention scores for plotting later.\n",
        "    attn_scores = tf.reduce_mean(attn_scores, axis=1)\n",
        "    shape_checker(attn_scores, 'batch t s')\n",
        "    self.last_attention_weights = attn_scores\n",
        "\n",
        "    x = self.add([x, attn_output])\n",
        "    x = self.layernorm(x)\n",
        "\n",
        "    return x"
      ]
    },
    {
      "cell_type": "code",
      "execution_count": 27,
      "metadata": {
        "id": "7y7hjPkNMmHh",
        "colab": {
          "base_uri": "https://localhost:8080/"
        },
        "outputId": "1d2cef93-fe61-4aad-ff4a-2094c9db23fb"
      },
      "outputs": [
        {
          "output_type": "stream",
          "name": "stdout",
          "text": [
            "Context sequence, shape (batch, s, units): (64, 22, 256)\n",
            "Target sequence, shape (batch, t, units): (64, 17, 256)\n",
            "Attention result, shape (batch, t, units): (64, 17, 256)\n",
            "Attention weights, shape (batch, t, s):    (64, 17, 22)\n"
          ]
        }
      ],
      "source": [
        "attention_layer = CrossAttention(UNITS)\n",
        "\n",
        "# Attend to the encoded tokens\n",
        "embed = tf.keras.layers.Embedding(target_text_processor.vocabulary_size(),\n",
        "                                  output_dim=UNITS, mask_zero=True)\n",
        "ex_tar_embed = embed(ex_tar_in)\n",
        "\n",
        "result = attention_layer(ex_tar_embed, ex_context)\n",
        "\n",
        "print(f'Context sequence, shape (batch, s, units): {ex_context.shape}')\n",
        "print(f'Target sequence, shape (batch, t, units): {ex_tar_embed.shape}')\n",
        "print(f'Attention result, shape (batch, t, units): {result.shape}')\n",
        "print(f'Attention weights, shape (batch, t, s):    {attention_layer.last_attention_weights.shape}')"
      ]
    },
    {
      "cell_type": "markdown",
      "metadata": {
        "id": "vx9fUhi3Pmwp"
      },
      "source": [
        "The attention weights will sum to `1` over the context sequence, at each location in the target sequence."
      ]
    },
    {
      "cell_type": "code",
      "execution_count": 28,
      "metadata": {
        "id": "zxyR7cmQPn9P",
        "colab": {
          "base_uri": "https://localhost:8080/"
        },
        "outputId": "c3d6606e-7ffa-4d02-ce2a-c1380d049878"
      },
      "outputs": [
        {
          "output_type": "execute_result",
          "data": {
            "text/plain": [
              "array([1., 1., 1., 1., 1., 1., 1., 1., 1., 1., 1., 1., 1., 1., 1., 1., 1.],\n",
              "      dtype=float32)"
            ]
          },
          "metadata": {},
          "execution_count": 28
        }
      ],
      "source": [
        "attention_layer.last_attention_weights[0].numpy().sum(axis=-1).round()"
      ]
    },
    {
      "cell_type": "markdown",
      "metadata": {
        "id": "AagyXMH-Jhqt"
      },
      "source": [
        "\n",
        "\n",
        "Here are the attention weights across the context sequences at `t=0`:"
      ]
    },
    {
      "cell_type": "code",
      "execution_count": 29,
      "metadata": {
        "id": "Rqr8XGsAJlf6",
        "colab": {
          "base_uri": "https://localhost:8080/",
          "height": 281
        },
        "outputId": "a17ffbed-cddb-4dae-a2a1-123a2dad3d95"
      },
      "outputs": [
        {
          "output_type": "display_data",
          "data": {
            "text/plain": [
              "<Figure size 432x288 with 2 Axes>"
            ],
            "image/png": "[encoded data removed]"
          },
          "metadata": {
            "needs_background": "light"
          }
        }
      ],
      "source": [
        "attention_weights = attention_layer.last_attention_weights\n",
        "mask=(ex_context_tok != 0).numpy()\n",
        "\n",
        "plt.subplot(1, 2, 1)\n",
        "plt.pcolormesh(mask*attention_weights[:, 0, :])\n",
        "plt.title('Attention weights')\n",
        "\n",
        "plt.subplot(1, 2, 2)\n",
        "plt.pcolormesh(mask)\n",
        "plt.title('Mask');\n"
      ]
    },
    {
      "cell_type": "markdown",
      "metadata": {
        "id": "6Eil-C_NN1rp"
      },
      "source": [
        "Because of the small-random initialization the attention weights are initially all close to `1/(sequence_length)`. The model will learn to make these less uniform as training progresses."
      ]
    },
    {
      "cell_type": "markdown",
      "metadata": {
        "id": "aQ638eHN4iCK"
      },
      "source": [
        "### The decoder"
      ]
    },
    {
      "cell_type": "markdown",
      "metadata": {
        "id": "pZsQJMqNmg_L"
      },
      "source": [
        "Here is the `Decoder` class' initializer. The initializer creates all the necessary layers."
      ]
    },
    {
      "cell_type": "code",
      "execution_count": 30,
      "metadata": {
        "id": "erYvHIgAl8kh"
      },
      "outputs": [],
      "source": [
        "class Decoder(tf.keras.layers.Layer):\n",
        "  @classmethod\n",
        "  def add_method(cls, fun):\n",
        "    setattr(cls, fun.__name__, fun)\n",
        "    return fun\n",
        "\n",
        "  def __init__(self, text_processor, units):\n",
        "    super(Decoder, self).__init__()\n",
        "    self.text_processor = text_processor\n",
        "    self.vocab_size = text_processor.vocabulary_size()\n",
        "    self.word_to_id = tf.keras.layers.StringLookup(\n",
        "        vocabulary=text_processor.get_vocabulary(),\n",
        "        mask_token='', oov_token='[UNK]')\n",
        "    self.id_to_word = tf.keras.layers.StringLookup(\n",
        "        vocabulary=text_processor.get_vocabulary(),\n",
        "        mask_token='', oov_token='[UNK]',\n",
        "        invert=True)\n",
        "    self.start_token = self.word_to_id('<s>')\n",
        "    self.end_token = self.word_to_id('</s>')\n",
        "\n",
        "    self.units = units\n",
        "\n",
        "\n",
        "    # 1. The embedding layer converts token IDs to vectors\n",
        "    self.embedding = tf.keras.layers.Embedding(self.vocab_size,\n",
        "                                               units, mask_zero=True)\n",
        "\n",
        "    # 2. The RNN keeps track of what's been generated so far.\n",
        "    self.rnn = tf.keras.layers.GRU(units,\n",
        "                                   return_sequences=True,\n",
        "                                   return_state=True,\n",
        "                                   recurrent_initializer='glorot_uniform')\n",
        "\n",
        "    # 3. The RNN output will be the query for the attention layer.\n",
        "    self.attention = CrossAttention(units)\n",
        "\n",
        "    # 4. This fully connected layer produces the logits for each\n",
        "    # output token.\n",
        "    self.output_layer = tf.keras.layers.Dense(self.vocab_size)"
      ]
    },
    {
      "cell_type": "markdown",
      "metadata": {
        "id": "Sd8-nRNzFR8x"
      },
      "source": [
        "#### Training"
      ]
    },
    {
      "cell_type": "code",
      "execution_count": 31,
      "metadata": {
        "id": "PJOi5btHAPNK"
      },
      "outputs": [],
      "source": [
        "@Decoder.add_method\n",
        "def call(self,\n",
        "         context, x,\n",
        "         state=None,\n",
        "         return_state=False):  \n",
        "  shape_checker = ShapeChecker()\n",
        "  shape_checker(x, 'batch t')\n",
        "  shape_checker(context, 'batch s units')\n",
        "\n",
        "  # 1. Lookup the embeddings\n",
        "  x = self.embedding(x)\n",
        "  shape_checker(x, 'batch t units')\n",
        "\n",
        "  # 2. Process the target sequence.\n",
        "  x, state = self.rnn(x, initial_state=state)\n",
        "  shape_checker(x, 'batch t units')\n",
        "\n",
        "  # 3. Use the RNN output as the query for the attention over the context.\n",
        "  x = self.attention(x, context)\n",
        "  self.last_attention_weights = self.attention.last_attention_weights\n",
        "  shape_checker(x, 'batch t units')\n",
        "  shape_checker(self.last_attention_weights, 'batch t s')\n",
        "\n",
        "  # Step 4. Generate logit predictions for the next token.\n",
        "  logits = self.output_layer(x)\n",
        "  shape_checker(logits, 'batch t target_vocab_size')\n",
        "\n",
        "  if return_state:\n",
        "    return logits, state\n",
        "  else:\n",
        "    return logits"
      ]
    },
    {
      "cell_type": "markdown",
      "metadata": {
        "id": "E1-mLAcUEXpK"
      },
      "source": [
        "That will be sufficient for training. Create an instance of the decoder to test out:"
      ]
    },
    {
      "cell_type": "code",
      "execution_count": 32,
      "metadata": {
        "id": "4ZUMbYXIEVeA"
      },
      "outputs": [],
      "source": [
        "decoder = Decoder(target_text_processor, UNITS)"
      ]
    },
    {
      "cell_type": "markdown",
      "metadata": {
        "id": "SFWaI4wqzt4t"
      },
      "source": [
        "In training decoder will be used like this:\n",
        "\n",
        "Given the context and target tokens, for each target token it predicts the next target token. "
      ]
    },
    {
      "cell_type": "code",
      "execution_count": 33,
      "metadata": {
        "id": "5YM-lD7bzx18",
        "colab": {
          "base_uri": "https://localhost:8080/"
        },
        "outputId": "e1d94b8d-81fa-464d-b997-69efe3952f51"
      },
      "outputs": [
        {
          "output_type": "stream",
          "name": "stdout",
          "text": [
            "encoder output shape: (batch, s, units) (64, 22, 256)\n",
            "input target tokens shape: (batch, t) (64, 17)\n",
            "logits shape shape: (batch, target_vocabulary_size) (64, 17, 27436)\n"
          ]
        }
      ],
      "source": [
        "logits = decoder(ex_context, ex_tar_in)\n",
        "\n",
        "print(f'encoder output shape: (batch, s, units) {ex_context.shape}')\n",
        "print(f'input target tokens shape: (batch, t) {ex_tar_in.shape}')\n",
        "print(f'logits shape shape: (batch, target_vocabulary_size) {logits.shape}')"
      ]
    },
    {
      "cell_type": "markdown",
      "metadata": {
        "id": "zhS_tbk7VQkX"
      },
      "source": [
        "#### Inference\n",
        "\n",
        "To use it for inference we'll need a couple more methods:"
      ]
    },
    {
      "cell_type": "code",
      "execution_count": 34,
      "metadata": {
        "id": "SPm12cnIVRQr"
      },
      "outputs": [],
      "source": [
        "@Decoder.add_method\n",
        "def get_initial_state(self, context):\n",
        "  batch_size = tf.shape(context)[0]\n",
        "  start_tokens = tf.fill([batch_size, 1], self.start_token)\n",
        "  done = tf.zeros([batch_size, 1], dtype=tf.bool)\n",
        "  embedded = self.embedding(start_tokens)\n",
        "  return start_tokens, done, self.rnn.get_initial_state(embedded)[0]"
      ]
    },
    {
      "cell_type": "code",
      "execution_count": 35,
      "metadata": {
        "id": "TzeOhpBvVS5L"
      },
      "outputs": [],
      "source": [
        "@Decoder.add_method\n",
        "def tokens_to_text(self, tokens):\n",
        "  words = self.id_to_word(tokens)\n",
        "  result = tf.strings.reduce_join(words, axis=-1, separator=' ')\n",
        "  result = tf.strings.regex_replace(result, '^ *\\<s\\> *', '')\n",
        "  result = tf.strings.regex_replace(result, ' *\\<\\/s\\> *$', '')\n",
        "  return result"
      ]
    },
    {
      "cell_type": "code",
      "execution_count": 36,
      "metadata": {
        "id": "v6ildnz_V1MA"
      },
      "outputs": [],
      "source": [
        "@Decoder.add_method\n",
        "def get_next_token(self, context, next_token, done, state, temperature = 0.0):\n",
        "  logits, state = self(\n",
        "    context, next_token,\n",
        "    state = state,\n",
        "    return_state=True) \n",
        "  \n",
        "  if temperature == 0.0:\n",
        "    next_token = tf.argmax(logits, axis=-1)\n",
        "  else:\n",
        "    logits = logits[:, -1, :]/temperature\n",
        "    next_token = tf.random.categorical(logits, num_samples=1)\n",
        "\n",
        "  # If a sequence produces an `end_token`, set it `done`\n",
        "  done = done | (next_token == self.end_token)\n",
        "  # Once a sequence is done it only produces 0-padding.\n",
        "  next_token = tf.where(done, tf.constant(0, dtype=tf.int64), next_token)\n",
        "  \n",
        "  return next_token, done, state"
      ]
    },
    {
      "cell_type": "markdown",
      "metadata": {
        "id": "9WiXLrVs-FTE"
      },
      "source": [
        "With those extra functions, we can write a generation loop:"
      ]
    },
    {
      "cell_type": "code",
      "execution_count": 37,
      "metadata": {
        "id": "SuehagxL-JBZ",
        "colab": {
          "base_uri": "https://localhost:8080/"
        },
        "outputId": "fd522384-780d-4d3a-9923-b4370b8d7cf4"
      },
      "outputs": [
        {
          "output_type": "execute_result",
          "data": {
            "text/plain": [
              "array([b'matereellaan baatetti deentpilaas baasan kanniisa jeeequu iraaqitti filatamuu yugaandaatti qoosamuu',\n",
              "       b\"gosni gravel lenjistoota veepiingiin dhuftaniif buiinsa kaawoo kaffalaa hanshin 'clumsy'\",\n",
              "       b\"widet'n dirqamsiisu jahaatti ibsadhu amanatte deebiii hidhachiifneerra chaayinaati walta'iinsaa masfin\"],\n",
              "      dtype=object)"
            ]
          },
          "metadata": {},
          "execution_count": 37
        }
      ],
      "source": [
        "# Setup the loop variables.\n",
        "next_token, done, state = decoder.get_initial_state(ex_context)\n",
        "tokens = []\n",
        "\n",
        "for n in range(10):\n",
        "  # Run one step.\n",
        "  next_token, done, state = decoder.get_next_token(\n",
        "      ex_context, next_token, done, state, temperature=1.0)\n",
        "  # Add the token to the output.\n",
        "  tokens.append(next_token)\n",
        "\n",
        "# Stack all the tokens together.\n",
        "tokens = tf.concat(tokens, axis=-1) # (batch, t)\n",
        "\n",
        "# Convert the tokens back to a a string\n",
        "result = decoder.tokens_to_text(tokens)\n",
        "result[:3].numpy()"
      ]
    },
    {
      "cell_type": "markdown",
      "metadata": {
        "id": "5ALTdqCMLGSY"
      },
      "source": [
        "Since the model's untrained, its output items from the vocabulary almost uniformly at random."
      ]
    },
    {
      "cell_type": "markdown",
      "metadata": {
        "id": "B6xyru86m914"
      },
      "source": [
        "## The model\n",
        "\n",
        "Now that we have all the model components, we can combine them to build the model for training:"
      ]
    },
    {
      "cell_type": "code",
      "execution_count": 38,
      "metadata": {
        "id": "WWIyuy71TkJT"
      },
      "outputs": [],
      "source": [
        "class Translator(tf.keras.Model):\n",
        "  @classmethod\n",
        "  def add_method(cls, fun):\n",
        "    setattr(cls, fun.__name__, fun)\n",
        "    return fun\n",
        "\n",
        "  def __init__(self, units,\n",
        "               context_text_processor,\n",
        "               target_text_processor):\n",
        "    super().__init__()\n",
        "    # Build the encoder and decoder\n",
        "    encoder = Encoder(context_text_processor, units)\n",
        "    decoder = Decoder(target_text_processor, units)\n",
        "\n",
        "    self.encoder = encoder\n",
        "    self.decoder = decoder\n",
        "\n",
        "  def call(self, inputs):\n",
        "    context, x = inputs\n",
        "    context = self.encoder(context)\n",
        "    logits = self.decoder(context, x)\n",
        "\n",
        "    #TODO(b/250038731): remove this\n",
        "    try:\n",
        "      # Delete the keras mask, so keras doesn't scale the loss+accuracy. \n",
        "      del logits._keras_mask\n",
        "    except AttributeError:\n",
        "      pass\n",
        "\n",
        "    return logits"
      ]
    },
    {
      "cell_type": "markdown",
      "metadata": {
        "id": "5rPi0FkS2iA5"
      },
      "source": [
        "During training the model will be used like this:"
      ]
    },
    {
      "cell_type": "code",
      "execution_count": 39,
      "metadata": {
        "id": "8vhjTh84K6Mg",
        "colab": {
          "base_uri": "https://localhost:8080/"
        },
        "outputId": "19957a2e-bf6f-44ae-e45d-fd11ba1a96f6"
      },
      "outputs": [
        {
          "output_type": "stream",
          "name": "stdout",
          "text": [
            "Context tokens, shape: (batch, s, units) (64, 22)\n",
            "Target tokens, shape: (batch, t) (64, 17)\n",
            "logits, shape: (batch, t, target_vocabulary_size) (64, 17, 27436)\n"
          ]
        }
      ],
      "source": [
        "model = Translator(UNITS, context_text_processor, target_text_processor)\n",
        "\n",
        "logits = model((ex_context_tok, ex_tar_in))\n",
        "\n",
        "print(f'Context tokens, shape: (batch, s, units) {ex_context_tok.shape}')\n",
        "print(f'Target tokens, shape: (batch, t) {ex_tar_in.shape}')\n",
        "print(f'logits, shape: (batch, t, target_vocabulary_size) {logits.shape}')"
      ]
    },
    {
      "cell_type": "markdown",
      "metadata": {
        "id": "_ch_71VbIRfK"
      },
      "source": [
        "### Train"
      ]
    },
    {
      "cell_type": "markdown",
      "metadata": {
        "id": "8FmzjGmprVmE"
      },
      "source": [
        "For training, we need to implement our own masked loss and accuracy functions:"
      ]
    },
    {
      "cell_type": "code",
      "execution_count": 40,
      "metadata": {
        "id": "WmTHr5iV3jFr"
      },
      "outputs": [],
      "source": [
        "def masked_loss(y_true, y_pred):\n",
        "    # Calculate the loss for each item in the batch.\n",
        "    loss_fn = tf.keras.losses.SparseCategoricalCrossentropy(\n",
        "        from_logits=True, reduction='none')\n",
        "    loss = loss_fn(y_true, y_pred)\n",
        "\n",
        "    # Mask off the losses on padding.\n",
        "    mask = tf.cast(y_true != 0, loss.dtype)\n",
        "    loss *= mask\n",
        "\n",
        "    # Return the total.\n",
        "    return tf.reduce_sum(loss)/tf.reduce_sum(mask)"
      ]
    },
    {
      "cell_type": "code",
      "execution_count": 41,
      "metadata": {
        "id": "nRB1CTmQWOIL"
      },
      "outputs": [],
      "source": [
        "def masked_acc(y_true, y_pred):\n",
        "    # Calculate the loss for each item in the batch.\n",
        "    y_pred = tf.argmax(y_pred, axis=-1)\n",
        "    y_pred = tf.cast(y_pred, y_true.dtype)\n",
        "    \n",
        "    match = tf.cast(y_true == y_pred, tf.float32)\n",
        "    mask = tf.cast(y_true != 0, tf.float32)\n",
        "    \n",
        "    return tf.reduce_sum(match)/tf.reduce_sum(mask)"
      ]
    },
    {
      "cell_type": "markdown",
      "metadata": {
        "id": "f32GuAhw2nXm"
      },
      "source": [
        "Configure the model for training:"
      ]
    },
    {
      "cell_type": "code",
      "execution_count": 42,
      "metadata": {
        "id": "9g0DRRvm3l9X"
      },
      "outputs": [],
      "source": [
        "model.compile(optimizer='adam',\n",
        "              loss=masked_loss, \n",
        "              metrics=[masked_acc, masked_loss])"
      ]
    },
    {
      "cell_type": "markdown",
      "metadata": {
        "id": "5DWLI3pssjnx"
      },
      "source": [
        "The model is randomly initialized, and should give roughly uniform output probabilities. So it's easy to predict what the initial values of the metrics should be:"
      ]
    },
    {
      "cell_type": "code",
      "execution_count": 43,
      "metadata": {
        "id": "BuP3_LFENMJG",
        "colab": {
          "base_uri": "https://localhost:8080/"
        },
        "outputId": "8a9d2f36-9dd5-4efa-ae8b-4127acb8003b"
      },
      "outputs": [
        {
          "output_type": "execute_result",
          "data": {
            "text/plain": [
              "{'expected_loss': 10.219611, 'expected_acc': 3.644846187490888e-05}"
            ]
          },
          "metadata": {},
          "execution_count": 43
        }
      ],
      "source": [
        "vocab_size = 1.0 * target_text_processor.vocabulary_size()\n",
        "\n",
        "{\"expected_loss\": tf.math.log(vocab_size).numpy(),\n",
        " \"expected_acc\": 1/vocab_size}"
      ]
    },
    {
      "cell_type": "markdown",
      "metadata": {
        "id": "frVba49Usd0Z"
      },
      "source": [
        "That should roughly match the values returned by running a few steps of evaluation:"
      ]
    },
    {
      "cell_type": "code",
      "execution_count": 44,
      "metadata": {
        "id": "8rJITfxEsHKR",
        "colab": {
          "base_uri": "https://localhost:8080/"
        },
        "outputId": "b7cdf58a-4db4-4e39-bf02-1e5e145eb6fc"
      },
      "outputs": [
        {
          "output_type": "stream",
          "name": "stdout",
          "text": [
            "20/20 [==============================] - 10s 90ms/step - loss: 10.2321 - masked_acc: 0.0000e+00 - masked_loss: 10.2321\n"
          ]
        },
        {
          "output_type": "execute_result",
          "data": {
            "text/plain": [
              "{'loss': 10.23212718963623,\n",
              " 'masked_acc': 0.0,\n",
              " 'masked_loss': 10.23212718963623}"
            ]
          },
          "metadata": {},
          "execution_count": 44
        }
      ],
      "source": [
        "model.evaluate(val_ds, steps=20, return_dict=True)"
      ]
    },
    {
      "cell_type": "code",
      "execution_count": 45,
      "metadata": {
        "id": "BQd_esVVoSf3",
        "colab": {
          "base_uri": "https://localhost:8080/"
        },
        "outputId": "19833557-3979-430c-a3f1-7c5349e82fd8"
      },
      "outputs": [
        {
          "output_type": "stream",
          "name": "stdout",
          "text": [
            "Epoch 1/100\n",
            "100/100 [==============================] - 50s 338ms/step - loss: 6.4888 - masked_acc: 0.2220 - masked_loss: 6.4888 - val_loss: 5.5736 - val_masked_acc: 0.2863 - val_masked_loss: 5.5736\n",
            "Epoch 2/100\n",
            "100/100 [==============================] - 19s 188ms/step - loss: 5.2143 - masked_acc: 0.3175 - masked_loss: 5.2143 - val_loss: 4.9758 - val_masked_acc: 0.3345 - val_masked_loss: 4.9758\n",
            "Epoch 3/100\n",
            "100/100 [==============================] - 17s 166ms/step - loss: 4.7448 - masked_acc: 0.3564 - masked_loss: 4.7448 - val_loss: 4.5769 - val_masked_acc: 0.3745 - val_masked_loss: 4.5769\n",
            "Epoch 4/100\n",
            "100/100 [==============================] - 15s 153ms/step - loss: 4.3533 - masked_acc: 0.4008 - masked_loss: 4.3533 - val_loss: 4.2128 - val_masked_acc: 0.4092 - val_masked_loss: 4.2128\n",
            "Epoch 5/100\n",
            "100/100 [==============================] - 14s 144ms/step - loss: 3.9812 - masked_acc: 0.4398 - masked_loss: 3.9812 - val_loss: 3.7681 - val_masked_acc: 0.4590 - val_masked_loss: 3.7681\n",
            "Epoch 6/100\n",
            "100/100 [==============================] - 14s 144ms/step - loss: 3.7364 - masked_acc: 0.4668 - masked_loss: 3.7364 - val_loss: 3.6569 - val_masked_acc: 0.4748 - val_masked_loss: 3.6569\n",
            "Epoch 7/100\n",
            "100/100 [==============================] - 15s 149ms/step - loss: 3.4103 - masked_acc: 0.5009 - masked_loss: 3.4103 - val_loss: 3.3104 - val_masked_acc: 0.5175 - val_masked_loss: 3.3104\n",
            "Epoch 8/100\n",
            "100/100 [==============================] - 16s 158ms/step - loss: 3.3001 - masked_acc: 0.5151 - masked_loss: 3.3001 - val_loss: 3.1243 - val_masked_acc: 0.5349 - val_masked_loss: 3.1243\n",
            "Epoch 9/100\n",
            "100/100 [==============================] - 13s 134ms/step - loss: 3.0637 - masked_acc: 0.5411 - masked_loss: 3.0637 - val_loss: 2.9492 - val_masked_acc: 0.5580 - val_masked_loss: 2.9492\n",
            "Epoch 10/100\n",
            "100/100 [==============================] - 16s 157ms/step - loss: 2.9097 - masked_acc: 0.5569 - masked_loss: 2.9097 - val_loss: 2.7301 - val_masked_acc: 0.5803 - val_masked_loss: 2.7301\n",
            "Epoch 11/100\n",
            "100/100 [==============================] - 26s 261ms/step - loss: 2.8710 - masked_acc: 0.5631 - masked_loss: 2.8710 - val_loss: 2.7606 - val_masked_acc: 0.5756 - val_masked_loss: 2.7606\n",
            "Epoch 12/100\n",
            "100/100 [==============================] - 14s 144ms/step - loss: 2.7135 - masked_acc: 0.5770 - masked_loss: 2.7135 - val_loss: 2.6975 - val_masked_acc: 0.5763 - val_masked_loss: 2.6975\n",
            "Epoch 13/100\n",
            "100/100 [==============================] - 14s 136ms/step - loss: 2.6141 - masked_acc: 0.5860 - masked_loss: 2.6141 - val_loss: 2.5032 - val_masked_acc: 0.5962 - val_masked_loss: 2.5032\n",
            "Epoch 14/100\n",
            "100/100 [==============================] - 14s 139ms/step - loss: 2.5533 - masked_acc: 0.5951 - masked_loss: 2.5533 - val_loss: 2.5729 - val_masked_acc: 0.5902 - val_masked_loss: 2.5729\n",
            "Epoch 15/100\n",
            "100/100 [==============================] - 15s 149ms/step - loss: 2.4451 - masked_acc: 0.6062 - masked_loss: 2.4451 - val_loss: 2.3389 - val_masked_acc: 0.6155 - val_masked_loss: 2.3389\n",
            "Epoch 16/100\n",
            "100/100 [==============================] - 15s 152ms/step - loss: 1.8975 - masked_acc: 0.6564 - masked_loss: 1.8981 - val_loss: 2.3789 - val_masked_acc: 0.6138 - val_masked_loss: 2.3789\n",
            "Epoch 17/100\n",
            "100/100 [==============================] - 15s 146ms/step - loss: 1.8911 - masked_acc: 0.6590 - masked_loss: 1.8911 - val_loss: 2.4498 - val_masked_acc: 0.6078 - val_masked_loss: 2.4498\n",
            "Epoch 18/100\n",
            "100/100 [==============================] - 14s 141ms/step - loss: 1.8493 - masked_acc: 0.6586 - masked_loss: 1.8493 - val_loss: 2.2370 - val_masked_acc: 0.6372 - val_masked_loss: 2.2370\n",
            "Epoch 19/100\n",
            "100/100 [==============================] - 14s 140ms/step - loss: 1.8448 - masked_acc: 0.6633 - masked_loss: 1.8448 - val_loss: 2.1842 - val_masked_acc: 0.6396 - val_masked_loss: 2.1842\n",
            "Epoch 20/100\n",
            "100/100 [==============================] - 14s 141ms/step - loss: 1.8436 - masked_acc: 0.6661 - masked_loss: 1.8436 - val_loss: 2.3089 - val_masked_acc: 0.6407 - val_masked_loss: 2.3089\n",
            "Epoch 21/100\n",
            "100/100 [==============================] - 14s 143ms/step - loss: 1.8080 - masked_acc: 0.6683 - masked_loss: 1.8080 - val_loss: 2.2375 - val_masked_acc: 0.6300 - val_masked_loss: 2.2375\n",
            "Epoch 22/100\n",
            "100/100 [==============================] - 14s 140ms/step - loss: 1.7744 - masked_acc: 0.6751 - masked_loss: 1.7744 - val_loss: 2.2040 - val_masked_acc: 0.6385 - val_masked_loss: 2.2040\n",
            "Epoch 23/100\n",
            "100/100 [==============================] - 14s 140ms/step - loss: 1.8089 - masked_acc: 0.6678 - masked_loss: 1.8089 - val_loss: 2.1843 - val_masked_acc: 0.6455 - val_masked_loss: 2.1843\n",
            "Epoch 24/100\n",
            "100/100 [==============================] - 14s 143ms/step - loss: 1.7746 - masked_acc: 0.6749 - masked_loss: 1.7746 - val_loss: 2.1100 - val_masked_acc: 0.6520 - val_masked_loss: 2.1100\n",
            "Epoch 25/100\n",
            "100/100 [==============================] - 14s 139ms/step - loss: 1.7355 - masked_acc: 0.6796 - masked_loss: 1.7355 - val_loss: 1.9943 - val_masked_acc: 0.6589 - val_masked_loss: 1.9943\n",
            "Epoch 26/100\n",
            "100/100 [==============================] - 14s 143ms/step - loss: 1.7098 - masked_acc: 0.6830 - masked_loss: 1.7098 - val_loss: 2.1198 - val_masked_acc: 0.6492 - val_masked_loss: 2.1198\n",
            "Epoch 27/100\n",
            "100/100 [==============================] - 14s 144ms/step - loss: 1.7692 - masked_acc: 0.6765 - masked_loss: 1.7692 - val_loss: 2.1146 - val_masked_acc: 0.6508 - val_masked_loss: 2.1146\n",
            "Epoch 28/100\n",
            "100/100 [==============================] - 14s 140ms/step - loss: 1.6754 - masked_acc: 0.6889 - masked_loss: 1.6754 - val_loss: 1.9767 - val_masked_acc: 0.6630 - val_masked_loss: 1.9767\n",
            "Epoch 29/100\n",
            "100/100 [==============================] - 14s 137ms/step - loss: 1.7005 - masked_acc: 0.6862 - masked_loss: 1.7005 - val_loss: 1.8647 - val_masked_acc: 0.6807 - val_masked_loss: 1.8647\n",
            "Epoch 30/100\n",
            "100/100 [==============================] - 14s 142ms/step - loss: 1.6438 - masked_acc: 0.6931 - masked_loss: 1.6438 - val_loss: 2.0872 - val_masked_acc: 0.6628 - val_masked_loss: 2.0872\n",
            "Epoch 31/100\n",
            "100/100 [==============================] - 14s 144ms/step - loss: 1.0303 - masked_acc: 0.7684 - masked_loss: 1.0312 - val_loss: 2.1099 - val_masked_acc: 0.6677 - val_masked_loss: 2.1099\n",
            "Epoch 32/100\n",
            "100/100 [==============================] - 14s 143ms/step - loss: 1.0397 - masked_acc: 0.7632 - masked_loss: 1.0397 - val_loss: 2.0857 - val_masked_acc: 0.6678 - val_masked_loss: 2.0857\n",
            "Epoch 33/100\n",
            "100/100 [==============================] - 14s 138ms/step - loss: 1.0185 - masked_acc: 0.7674 - masked_loss: 1.0185 - val_loss: 2.1206 - val_masked_acc: 0.6643 - val_masked_loss: 2.1206\n",
            "Epoch 34/100\n",
            "100/100 [==============================] - 14s 136ms/step - loss: 1.0487 - masked_acc: 0.7613 - masked_loss: 1.0487 - val_loss: 1.8889 - val_masked_acc: 0.6877 - val_masked_loss: 1.8889\n",
            "Epoch 35/100\n",
            "100/100 [==============================] - 14s 138ms/step - loss: 1.0670 - masked_acc: 0.7587 - masked_loss: 1.0670 - val_loss: 2.2900 - val_masked_acc: 0.6532 - val_masked_loss: 2.2900\n",
            "Epoch 36/100\n",
            "100/100 [==============================] - 14s 139ms/step - loss: 1.0609 - masked_acc: 0.7573 - masked_loss: 1.0609 - val_loss: 2.1981 - val_masked_acc: 0.6603 - val_masked_loss: 2.1981\n",
            "Epoch 37/100\n",
            "100/100 [==============================] - 14s 140ms/step - loss: 1.0850 - masked_acc: 0.7554 - masked_loss: 1.0850 - val_loss: 2.0069 - val_masked_acc: 0.6713 - val_masked_loss: 2.0069\n",
            "Epoch 38/100\n",
            "100/100 [==============================] - 14s 141ms/step - loss: 1.1250 - masked_acc: 0.7488 - masked_loss: 1.1250 - val_loss: 1.9602 - val_masked_acc: 0.6825 - val_masked_loss: 1.9602\n",
            "Epoch 39/100\n",
            "100/100 [==============================] - 14s 140ms/step - loss: 1.1100 - masked_acc: 0.7525 - masked_loss: 1.1100 - val_loss: 1.9713 - val_masked_acc: 0.6847 - val_masked_loss: 1.9713\n",
            "Epoch 40/100\n",
            "100/100 [==============================] - 14s 145ms/step - loss: 1.1586 - masked_acc: 0.7426 - masked_loss: 1.1586 - val_loss: 2.0608 - val_masked_acc: 0.6764 - val_masked_loss: 2.0608\n",
            "Epoch 41/100\n",
            "100/100 [==============================] - 14s 143ms/step - loss: 1.1508 - masked_acc: 0.7448 - masked_loss: 1.1508 - val_loss: 2.0715 - val_masked_acc: 0.6783 - val_masked_loss: 2.0715\n",
            "Epoch 42/100\n",
            "100/100 [==============================] - 14s 137ms/step - loss: 1.1051 - masked_acc: 0.7545 - masked_loss: 1.1051 - val_loss: 2.0000 - val_masked_acc: 0.6825 - val_masked_loss: 2.0000\n",
            "Epoch 43/100\n",
            "100/100 [==============================] - 14s 137ms/step - loss: 1.1268 - masked_acc: 0.7500 - masked_loss: 1.1268 - val_loss: 1.8981 - val_masked_acc: 0.6883 - val_masked_loss: 1.8981\n",
            "Epoch 44/100\n",
            "100/100 [==============================] - 14s 140ms/step - loss: 1.1431 - masked_acc: 0.7481 - masked_loss: 1.1431 - val_loss: 2.1074 - val_masked_acc: 0.6774 - val_masked_loss: 2.1074\n",
            "Epoch 45/100\n",
            "100/100 [==============================] - 14s 140ms/step - loss: 1.1494 - masked_acc: 0.7486 - masked_loss: 1.1494 - val_loss: 1.9789 - val_masked_acc: 0.6854 - val_masked_loss: 1.9789\n",
            "Epoch 46/100\n",
            "100/100 [==============================] - 14s 143ms/step - loss: 0.6398 - masked_acc: 0.8393 - masked_loss: 0.6415 - val_loss: 2.1051 - val_masked_acc: 0.6883 - val_masked_loss: 2.1051\n",
            "Epoch 47/100\n",
            "100/100 [==============================] - 14s 141ms/step - loss: 0.6077 - masked_acc: 0.8438 - masked_loss: 0.6077 - val_loss: 1.9795 - val_masked_acc: 0.6914 - val_masked_loss: 1.9795\n",
            "Epoch 48/100\n",
            "100/100 [==============================] - 14s 140ms/step - loss: 0.6355 - masked_acc: 0.8381 - masked_loss: 0.6355 - val_loss: 2.1552 - val_masked_acc: 0.6796 - val_masked_loss: 2.1552\n",
            "Epoch 49/100\n",
            "100/100 [==============================] - 14s 139ms/step - loss: 0.6575 - masked_acc: 0.8313 - masked_loss: 0.6575 - val_loss: 2.0349 - val_masked_acc: 0.6869 - val_masked_loss: 2.0349\n",
            "Epoch 50/100\n",
            "100/100 [==============================] - 14s 144ms/step - loss: 0.6585 - masked_acc: 0.8287 - masked_loss: 0.6585 - val_loss: 1.8706 - val_masked_acc: 0.7051 - val_masked_loss: 1.8706\n",
            "Epoch 51/100\n",
            "100/100 [==============================] - 14s 137ms/step - loss: 0.6901 - masked_acc: 0.8237 - masked_loss: 0.6901 - val_loss: 2.0950 - val_masked_acc: 0.6841 - val_masked_loss: 2.0950\n",
            "Epoch 52/100\n",
            "100/100 [==============================] - 14s 141ms/step - loss: 0.7196 - masked_acc: 0.8172 - masked_loss: 0.7196 - val_loss: 2.1692 - val_masked_acc: 0.6829 - val_masked_loss: 2.1692\n",
            "Epoch 53/100\n",
            "100/100 [==============================] - 14s 140ms/step - loss: 0.7320 - masked_acc: 0.8157 - masked_loss: 0.7320 - val_loss: 2.0242 - val_masked_acc: 0.6943 - val_masked_loss: 2.0242\n",
            "Epoch 54/100\n",
            "100/100 [==============================] - 14s 140ms/step - loss: 0.7378 - masked_acc: 0.8154 - masked_loss: 0.7378 - val_loss: 2.1461 - val_masked_acc: 0.6790 - val_masked_loss: 2.1461\n",
            "Epoch 55/100\n",
            "100/100 [==============================] - 14s 136ms/step - loss: 0.7321 - masked_acc: 0.8143 - masked_loss: 0.7321 - val_loss: 2.0567 - val_masked_acc: 0.6879 - val_masked_loss: 2.0567\n",
            "Epoch 56/100\n",
            "100/100 [==============================] - 14s 137ms/step - loss: 0.7421 - masked_acc: 0.8140 - masked_loss: 0.7421 - val_loss: 2.0598 - val_masked_acc: 0.6915 - val_masked_loss: 2.0598\n",
            "Epoch 57/100\n",
            "100/100 [==============================] - 14s 142ms/step - loss: 0.7756 - masked_acc: 0.8060 - masked_loss: 0.7756 - val_loss: 2.1645 - val_masked_acc: 0.6844 - val_masked_loss: 2.1645\n",
            "Epoch 58/100\n",
            "100/100 [==============================] - 14s 136ms/step - loss: 0.7668 - masked_acc: 0.8089 - masked_loss: 0.7668 - val_loss: 2.2063 - val_masked_acc: 0.6750 - val_masked_loss: 2.2063\n",
            "Epoch 59/100\n",
            "100/100 [==============================] - 14s 140ms/step - loss: 0.7740 - masked_acc: 0.8057 - masked_loss: 0.7740 - val_loss: 1.9722 - val_masked_acc: 0.6936 - val_masked_loss: 1.9722\n",
            "Epoch 60/100\n",
            "100/100 [==============================] - 14s 141ms/step - loss: 0.7711 - masked_acc: 0.8071 - masked_loss: 0.7711 - val_loss: 2.1870 - val_masked_acc: 0.6851 - val_masked_loss: 2.1870\n",
            "Epoch 61/100\n",
            "100/100 [==============================] - 14s 143ms/step - loss: 0.4831 - masked_acc: 0.8705 - masked_loss: 0.4843 - val_loss: 2.1771 - val_masked_acc: 0.6906 - val_masked_loss: 2.1771\n",
            "Epoch 62/100\n",
            "100/100 [==============================] - 14s 138ms/step - loss: 0.4529 - masked_acc: 0.8760 - masked_loss: 0.4529 - val_loss: 2.0498 - val_masked_acc: 0.7003 - val_masked_loss: 2.0498\n",
            "Epoch 63/100\n",
            "100/100 [==============================] - 14s 139ms/step - loss: 0.4693 - masked_acc: 0.8700 - masked_loss: 0.4693 - val_loss: 2.0232 - val_masked_acc: 0.6992 - val_masked_loss: 2.0232\n",
            "Epoch 64/100\n",
            "100/100 [==============================] - 14s 137ms/step - loss: 0.4640 - masked_acc: 0.8731 - masked_loss: 0.4640 - val_loss: 2.1790 - val_masked_acc: 0.6899 - val_masked_loss: 2.1790\n",
            "Epoch 65/100\n",
            "100/100 [==============================] - 14s 140ms/step - loss: 0.4934 - masked_acc: 0.8666 - masked_loss: 0.4934 - val_loss: 2.1558 - val_masked_acc: 0.6951 - val_masked_loss: 2.1558\n",
            "Epoch 66/100\n",
            "100/100 [==============================] - 14s 142ms/step - loss: 0.5068 - masked_acc: 0.8648 - masked_loss: 0.5068 - val_loss: 2.0100 - val_masked_acc: 0.7063 - val_masked_loss: 2.0100\n",
            "Epoch 67/100\n",
            "100/100 [==============================] - 14s 139ms/step - loss: 0.4992 - masked_acc: 0.8637 - masked_loss: 0.4992 - val_loss: 2.1848 - val_masked_acc: 0.6938 - val_masked_loss: 2.1848\n",
            "Epoch 68/100\n",
            "100/100 [==============================] - 14s 141ms/step - loss: 0.5253 - masked_acc: 0.8581 - masked_loss: 0.5253 - val_loss: 2.1400 - val_masked_acc: 0.6971 - val_masked_loss: 2.1400\n",
            "Epoch 69/100\n",
            "100/100 [==============================] - 14s 140ms/step - loss: 0.5268 - masked_acc: 0.8594 - masked_loss: 0.5268 - val_loss: 2.2776 - val_masked_acc: 0.6881 - val_masked_loss: 2.2776\n",
            "Epoch 70/100\n",
            "100/100 [==============================] - 14s 139ms/step - loss: 0.5365 - masked_acc: 0.8541 - masked_loss: 0.5365 - val_loss: 2.1173 - val_masked_acc: 0.6973 - val_masked_loss: 2.1173\n",
            "Epoch 71/100\n",
            "100/100 [==============================] - 14s 142ms/step - loss: 0.5646 - masked_acc: 0.8489 - masked_loss: 0.5646 - val_loss: 2.2296 - val_masked_acc: 0.6874 - val_masked_loss: 2.2296\n",
            "Epoch 72/100\n",
            "100/100 [==============================] - 14s 140ms/step - loss: 0.5770 - masked_acc: 0.8472 - masked_loss: 0.5770 - val_loss: 2.1396 - val_masked_acc: 0.6994 - val_masked_loss: 2.1396\n",
            "Epoch 73/100\n",
            "100/100 [==============================] - 14s 138ms/step - loss: 0.5772 - masked_acc: 0.8470 - masked_loss: 0.5772 - val_loss: 2.0006 - val_masked_acc: 0.7108 - val_masked_loss: 2.0006\n",
            "Epoch 74/100\n",
            "100/100 [==============================] - 14s 145ms/step - loss: 0.5865 - masked_acc: 0.8445 - masked_loss: 0.5865 - val_loss: 2.1920 - val_masked_acc: 0.6918 - val_masked_loss: 2.1920\n",
            "Epoch 75/100\n",
            "100/100 [==============================] - 14s 141ms/step - loss: 0.5990 - masked_acc: 0.8422 - masked_loss: 0.5990 - val_loss: 2.0702 - val_masked_acc: 0.7053 - val_masked_loss: 2.0702\n",
            "Epoch 76/100\n",
            "100/100 [==============================] - 14s 144ms/step - loss: 0.3663 - masked_acc: 0.8977 - masked_loss: 0.3670 - val_loss: 2.2040 - val_masked_acc: 0.6935 - val_masked_loss: 2.2040\n",
            "Epoch 77/100\n",
            "100/100 [==============================] - 14s 136ms/step - loss: 0.3467 - masked_acc: 0.9014 - masked_loss: 0.3467 - val_loss: 2.0801 - val_masked_acc: 0.7070 - val_masked_loss: 2.0801\n",
            "Epoch 78/100\n",
            "100/100 [==============================] - 14s 140ms/step - loss: 0.3643 - masked_acc: 0.8976 - masked_loss: 0.3643 - val_loss: 2.0211 - val_masked_acc: 0.7160 - val_masked_loss: 2.0211\n",
            "Epoch 79/100\n",
            "100/100 [==============================] - 14s 137ms/step - loss: 0.3757 - masked_acc: 0.8941 - masked_loss: 0.3757 - val_loss: 2.0767 - val_masked_acc: 0.7118 - val_masked_loss: 2.0767\n",
            "Epoch 80/100\n",
            "100/100 [==============================] - 14s 138ms/step - loss: 0.3791 - masked_acc: 0.8937 - masked_loss: 0.3791 - val_loss: 2.0954 - val_masked_acc: 0.7092 - val_masked_loss: 2.0954\n",
            "Epoch 81/100\n",
            "100/100 [==============================] - 14s 140ms/step - loss: 0.3952 - masked_acc: 0.8897 - masked_loss: 0.3952 - val_loss: 2.3241 - val_masked_acc: 0.6970 - val_masked_loss: 2.3241\n",
            "Epoch 82/100\n",
            "100/100 [==============================] - 14s 140ms/step - loss: 0.4137 - masked_acc: 0.8848 - masked_loss: 0.4137 - val_loss: 2.2428 - val_masked_acc: 0.7026 - val_masked_loss: 2.2428\n",
            "Epoch 83/100\n",
            "100/100 [==============================] - 14s 141ms/step - loss: 0.4215 - masked_acc: 0.8833 - masked_loss: 0.4215 - val_loss: 2.2530 - val_masked_acc: 0.7017 - val_masked_loss: 2.2530\n",
            "Epoch 84/100\n",
            "100/100 [==============================] - 14s 135ms/step - loss: 0.4313 - masked_acc: 0.8797 - masked_loss: 0.4313 - val_loss: 2.1335 - val_masked_acc: 0.7003 - val_masked_loss: 2.1335\n",
            "Epoch 85/100\n",
            "100/100 [==============================] - 13s 134ms/step - loss: 0.4412 - masked_acc: 0.8786 - masked_loss: 0.4412 - val_loss: 2.1225 - val_masked_acc: 0.7001 - val_masked_loss: 2.1225\n",
            "Epoch 86/100\n",
            "100/100 [==============================] - 14s 135ms/step - loss: 0.4444 - masked_acc: 0.8770 - masked_loss: 0.4444 - val_loss: 2.1266 - val_masked_acc: 0.7123 - val_masked_loss: 2.1266\n",
            "Epoch 87/100\n",
            "100/100 [==============================] - 14s 135ms/step - loss: 0.4584 - masked_acc: 0.8722 - masked_loss: 0.4584 - val_loss: 2.0894 - val_masked_acc: 0.7098 - val_masked_loss: 2.0894\n",
            "Epoch 88/100\n",
            "100/100 [==============================] - 14s 140ms/step - loss: 0.4800 - masked_acc: 0.8685 - masked_loss: 0.4800 - val_loss: 2.1717 - val_masked_acc: 0.6982 - val_masked_loss: 2.1717\n",
            "Epoch 89/100\n",
            "100/100 [==============================] - 14s 136ms/step - loss: 0.4585 - masked_acc: 0.8721 - masked_loss: 0.4585 - val_loss: 2.1457 - val_masked_acc: 0.7073 - val_masked_loss: 2.1457\n",
            "Epoch 90/100\n",
            "100/100 [==============================] - 14s 137ms/step - loss: 0.4677 - masked_acc: 0.8702 - masked_loss: 0.4677 - val_loss: 1.9979 - val_masked_acc: 0.7166 - val_masked_loss: 1.9979\n",
            "Epoch 91/100\n",
            "100/100 [==============================] - 14s 139ms/step - loss: 0.2985 - masked_acc: 0.9143 - masked_loss: 0.2992 - val_loss: 2.2228 - val_masked_acc: 0.7078 - val_masked_loss: 2.2228\n",
            "Epoch 92/100\n",
            "100/100 [==============================] - 14s 138ms/step - loss: 0.2751 - masked_acc: 0.9213 - masked_loss: 0.2751 - val_loss: 2.3344 - val_masked_acc: 0.6997 - val_masked_loss: 2.3344\n",
            "Epoch 93/100\n",
            "100/100 [==============================] - 14s 138ms/step - loss: 0.2850 - masked_acc: 0.9160 - masked_loss: 0.2850 - val_loss: 2.2929 - val_masked_acc: 0.7072 - val_masked_loss: 2.2929\n",
            "Epoch 94/100\n",
            "100/100 [==============================] - 14s 137ms/step - loss: 0.3051 - masked_acc: 0.9120 - masked_loss: 0.3051 - val_loss: 2.3323 - val_masked_acc: 0.6994 - val_masked_loss: 2.3323\n",
            "Epoch 95/100\n",
            "100/100 [==============================] - 14s 143ms/step - loss: 0.3161 - masked_acc: 0.9109 - masked_loss: 0.3161 - val_loss: 2.3220 - val_masked_acc: 0.6987 - val_masked_loss: 2.3220\n",
            "Epoch 96/100\n",
            "100/100 [==============================] - 15s 149ms/step - loss: 0.3252 - masked_acc: 0.9054 - masked_loss: 0.3252 - val_loss: 2.1519 - val_masked_acc: 0.7068 - val_masked_loss: 2.1519\n",
            "Epoch 97/100\n",
            "100/100 [==============================] - 14s 139ms/step - loss: 0.3351 - masked_acc: 0.9035 - masked_loss: 0.3351 - val_loss: 2.2287 - val_masked_acc: 0.7120 - val_masked_loss: 2.2287\n",
            "Epoch 98/100\n",
            "100/100 [==============================] - 14s 143ms/step - loss: 0.3467 - masked_acc: 0.9007 - masked_loss: 0.3467 - val_loss: 2.2751 - val_masked_acc: 0.7052 - val_masked_loss: 2.2751\n",
            "Epoch 99/100\n",
            "100/100 [==============================] - 14s 138ms/step - loss: 0.3391 - masked_acc: 0.9031 - masked_loss: 0.3391 - val_loss: 2.4003 - val_masked_acc: 0.7006 - val_masked_loss: 2.4003\n",
            "Epoch 100/100\n",
            "100/100 [==============================] - 14s 137ms/step - loss: 0.3571 - masked_acc: 0.8979 - masked_loss: 0.3571 - val_loss: 2.4745 - val_masked_acc: 0.6922 - val_masked_loss: 2.4745\n"
          ]
        }
      ],
      "source": [
        "history = model.fit(\n",
        "    train_ds.repeat(), \n",
        "    epochs=100,\n",
        "    steps_per_epoch = 100,\n",
        "    validation_data=val_ds,\n",
        "    validation_steps = 20,\n",
        "    #callbacks=[tf.keras.callbacks.EarlyStopping(patience=5)]\n",
        "    )"
      ]
    },
    {
      "cell_type": "code",
      "execution_count": 46,
      "metadata": {
        "id": "38rLdlmtQHCm",
        "colab": {
          "base_uri": "https://localhost:8080/",
          "height": 296
        },
        "outputId": "43bd699a-f70c-49d7-9841-52873183175d"
      },
      "outputs": [
        {
          "output_type": "execute_result",
          "data": {
            "text/plain": [
              "<matplotlib.legend.Legend at 0x7f2535ccdc40>"
            ]
          },
          "metadata": {},
          "execution_count": 46
        },
        {
          "output_type": "display_data",
          "data": {
            "text/plain": [
              "<Figure size 432x288 with 1 Axes>"
            ],
            "image/png": "[encoded data removed]"
          },
          "metadata": {
            "needs_background": "light"
          }
        }
      ],
      "source": [
        "plt.plot(history.history['loss'], label='loss')\n",
        "plt.plot(history.history['val_loss'], label='val_loss')\n",
        "plt.ylim([0, max(plt.ylim())])\n",
        "plt.xlabel('Epoch #')\n",
        "plt.ylabel('CE/token')\n",
        "plt.legend()"
      ]
    },
    {
      "cell_type": "code",
      "execution_count": 47,
      "metadata": {
        "id": "KkhXRASNG80_",
        "colab": {
          "base_uri": "https://localhost:8080/",
          "height": 296
        },
        "outputId": "11877311-0b3a-4827-efcd-d77d7dfb5fb1"
      },
      "outputs": [
        {
          "output_type": "execute_result",
          "data": {
            "text/plain": [
              "<matplotlib.legend.Legend at 0x7f25cadcb190>"
            ]
          },
          "metadata": {},
          "execution_count": 47
        },
        {
          "output_type": "display_data",
          "data": {
            "text/plain": [
              "<Figure size 432x288 with 1 Axes>"
            ],
            "image/png": "[encoded data removed]"
          },
          "metadata": {
            "needs_background": "light"
          }
        }
      ],
      "source": [
        "plt.plot(history.history['masked_acc'], label='accuracy')\n",
        "plt.plot(history.history['val_masked_acc'], label='val_accuracy')\n",
        "plt.ylim([0, max(plt.ylim())])\n",
        "plt.xlabel('Epoch #')\n",
        "plt.ylabel('CE/token')\n",
        "plt.legend()"
      ]
    },
    {
      "cell_type": "markdown",
      "metadata": {
        "id": "mU3Ce8M6I3rz"
      },
      "source": [
        "### Translate\n"
      ]
    },
    {
      "cell_type": "code",
      "execution_count": 48,
      "metadata": {
        "id": "mmgYPCVgEwp_"
      },
      "outputs": [],
      "source": [
        "@Translator.add_method\n",
        "def translate(self,\n",
        "              texts, *,\n",
        "              max_length=50,\n",
        "              temperature=0.0):\n",
        "  # Process the input texts\n",
        "  context = self.encoder.convert_input(texts)\n",
        "  batch_size = tf.shape(texts)[0]\n",
        "\n",
        "  # Setup the loop inputs\n",
        "  tokens = []\n",
        "  attention_weights = []\n",
        "  next_token, done, state = self.decoder.get_initial_state(context)\n",
        "\n",
        "  for _ in range(max_length):\n",
        "    # Generate the next token\n",
        "    next_token, done, state = self.decoder.get_next_token(\n",
        "        context, next_token, done,  state, temperature)\n",
        "        \n",
        "    # Collect the generated tokens\n",
        "    tokens.append(next_token)\n",
        "    attention_weights.append(self.decoder.last_attention_weights)\n",
        "    \n",
        "    if tf.executing_eagerly() and tf.reduce_all(done):\n",
        "      break\n",
        "\n",
        "  # Stack the lists of tokens and attention weights.\n",
        "  tokens = tf.concat(tokens, axis=-1)   # t*[(batch 1)] -> (batch, t)\n",
        "  self.last_attention_weights = tf.concat(attention_weights, axis=1)  # t*[(batch 1 s)] -> (batch, t s)\n",
        "\n",
        "  result = self.decoder.tokens_to_text(tokens)\n",
        "  result = tf.strings.regex_replace(result, r' ([.?!]) ', r'\\1')\n",
        "  return result"
      ]
    },
    {
      "cell_type": "markdown",
      "metadata": {
        "id": "U4XufRntbbva"
      },
      "source": [
        "Here are the two helper methods, used above, to convert tokens to text, and to get the next token:"
      ]
    },
    {
      "cell_type": "code",
      "execution_count": 49,
      "metadata": {
        "id": "E5hqvbR5FUCD",
        "colab": {
          "base_uri": "https://localhost:8080/",
          "height": 35
        },
        "outputId": "49dc7409-f6ef-4add-f690-84b99860341b"
      },
      "outputs": [
        {
          "output_type": "execute_result",
          "data": {
            "text/plain": [
              "'galatoomaa.'"
            ],
            "application/vnd.google.colaboratory.intrinsic+json": {
              "type": "string"
            }
          },
          "metadata": {},
          "execution_count": 49
        }
      ],
      "source": [
        "result = model.translate(['Thanks.']) # Galatoomaa.\n",
        "result = result[0].numpy().decode()\n",
        "result"
      ]
    },
    {
      "cell_type": "markdown",
      "metadata": {
        "id": "wQ1iU63cVgfs"
      },
      "source": [
        "Use that to generate the attention plot:"
      ]
    },
    {
      "cell_type": "code",
      "execution_count": 50,
      "metadata": {
        "id": "s5hQWlbN3jGF"
      },
      "outputs": [],
      "source": [
        "@Translator.add_method\n",
        "def plot_attention(self, text, **kwargs):\n",
        "  assert isinstance(text, str)\n",
        "  output = self.translate([text], **kwargs)\n",
        "  output = output[0].numpy().decode()\n",
        "\n",
        "  attention = self.last_attention_weights[0]\n",
        "\n",
        "  context = tf_lower_and_split_punct(text)\n",
        "  context = context.numpy().decode().split()\n",
        "\n",
        "  output = tf_lower_and_split_punct(output)\n",
        "  output = output.numpy().decode().split()[1:]\n",
        "\n",
        "  fig = plt.figure(figsize=(10, 10))\n",
        "  ax = fig.add_subplot(1, 1, 1)\n",
        "\n",
        "  ax.matshow(attention, cmap='viridis', vmin=0.0)\n",
        "\n",
        "  fontdict = {'fontsize': 14}\n",
        "\n",
        "  ax.set_xticklabels([''] + context, fontdict=fontdict, rotation=90)\n",
        "  ax.set_yticklabels([''] + output, fontdict=fontdict)\n",
        "\n",
        "  ax.xaxis.set_major_locator(ticker.MultipleLocator(1))\n",
        "  ax.yaxis.set_major_locator(ticker.MultipleLocator(1))\n",
        "\n",
        "  ax.set_xlabel('Input text')\n",
        "  ax.set_ylabel('Output text')"
      ]
    },
    {
      "cell_type": "code",
      "execution_count": 51,
      "metadata": {
        "id": "rrGawQv2eiA4",
        "colab": {
          "base_uri": "https://localhost:8080/",
          "height": 590
        },
        "outputId": "8bb403ba-aa70-49aa-fd93-093302d31254"
      },
      "outputs": [
        {
          "output_type": "stream",
          "name": "stderr",
          "text": [
            "<ipython-input-50-935149928b90>:22: UserWarning: FixedFormatter should only be used together with FixedLocator\n",
            "  ax.set_xticklabels([''] + context, fontdict=fontdict, rotation=90)\n",
            "<ipython-input-50-935149928b90>:23: UserWarning: FixedFormatter should only be used together with FixedLocator\n",
            "  ax.set_yticklabels([''] + output, fontdict=fontdict)\n"
          ]
        },
        {
          "output_type": "display_data",
          "data": {
            "text/plain": [
              "<Figure size 720x720 with 1 Axes>"
            ],
            "image/png": "[encoded data removed]"
          },
          "metadata": {
            "needs_background": "light"
          }
        }
      ],
      "source": [
        "model.plot_attention('Thanks.') # Thanks"
      ]
    },
    {
      "cell_type": "markdown",
      "metadata": {
        "id": "JHBdOf9duumm"
      },
      "source": [
        "Translate a few more sentences and plot them:"
      ]
    },
    {
      "cell_type": "code",
      "execution_count": 52,
      "metadata": {
        "id": "flT0VlQZK11s",
        "colab": {
          "base_uri": "https://localhost:8080/",
          "height": 594
        },
        "outputId": "329f91f5-37f3-43ff-bc84-66cfcc94a349"
      },
      "outputs": [
        {
          "output_type": "stream",
          "name": "stderr",
          "text": [
            "<ipython-input-50-935149928b90>:22: UserWarning: FixedFormatter should only be used together with FixedLocator\n",
            "  ax.set_xticklabels([''] + context, fontdict=fontdict, rotation=90)\n",
            "<ipython-input-50-935149928b90>:23: UserWarning: FixedFormatter should only be used together with FixedLocator\n",
            "  ax.set_yticklabels([''] + output, fontdict=fontdict)\n"
          ]
        },
        {
          "output_type": "stream",
          "name": "stdout",
          "text": [
            "CPU times: user 414 ms, sys: 38.2 ms, total: 452 ms\n",
            "Wall time: 422 ms\n"
          ]
        },
        {
          "output_type": "display_data",
          "data": {
            "text/plain": [
              "<Figure size 720x720 with 1 Axes>"
            ],
            "image/png": "[encoded data removed]"
          },
          "metadata": {
            "needs_background": "light"
          }
        }
      ],
      "source": [
        "%%time\n",
        "# This is my life.\n",
        "model.plot_attention('This is my life.') # Kun jireenya kooti."
      ]
    },
    {
      "cell_type": "code",
      "execution_count": 76,
      "metadata": {
        "id": "t-fPYP_9K8xa",
        "colab": {
          "base_uri": "https://localhost:8080/",
          "height": 598
        },
        "outputId": "a5b98fd4-1118-49e6-e14d-ba785d590d2a"
      },
      "outputs": [
        {
          "output_type": "stream",
          "name": "stderr",
          "text": [
            "<ipython-input-50-935149928b90>:22: UserWarning: FixedFormatter should only be used together with FixedLocator\n",
            "  ax.set_xticklabels([''] + context, fontdict=fontdict, rotation=90)\n",
            "<ipython-input-50-935149928b90>:23: UserWarning: FixedFormatter should only be used together with FixedLocator\n",
            "  ax.set_yticklabels([''] + output, fontdict=fontdict)\n"
          ]
        },
        {
          "output_type": "stream",
          "name": "stdout",
          "text": [
            "CPU times: user 700 ms, sys: 6.41 ms, total: 706 ms\n",
            "Wall time: 820 ms\n"
          ]
        },
        {
          "output_type": "display_data",
          "data": {
            "text/plain": [
              "<Figure size 720x720 with 1 Axes>"
            ],
            "image/png": "[encoded data removed]"
          },
          "metadata": {
            "needs_background": "light"
          }
        }
      ],
      "source": [
        "%%time\n",
        " # Try to find out.'\n",
        "model.plot_attention(\"Do you come today?\") # Akkam!"
      ]
    },
    {
      "cell_type": "markdown",
      "metadata": {
        "id": "Vtz6QBoGWqT2"
      },
      "source": [
        "The raw data is sorted by length, so try translating the longest sequence:"
      ]
    },
    {
      "cell_type": "code",
      "execution_count": 81,
      "metadata": {
        "id": "-FUHFLEvSMbG",
        "colab": {
          "base_uri": "https://localhost:8080/"
        },
        "outputId": "5944a015-eb83-49de-ada1-e27ef5e43767"
      },
      "outputs": [
        {
          "output_type": "stream",
          "name": "stdout",
          "text": [
            "Expected output:\n",
            " Dorgommiileen ispoortii adda addaa, agarsiisonni fi\n",
            "simpooziyemiiwwanis qophiilee festivaalicha irratti karoorfamaniidha.\n"
          ]
        }
      ],
      "source": [
        "long_text = context_raw[-1]\n",
        "import textwrap\n",
        "print('Expected output:\\n', '\\n'.join(textwrap.wrap(target_raw[-1])))"
      ]
    },
    {
      "cell_type": "code",
      "execution_count": 85,
      "metadata": {
        "colab": {
          "base_uri": "https://localhost:8080/"
        },
        "outputId": "294f9ef6-60a7-4303-8bcd-9daba7a7b1af",
        "id": "ASxmrqlCg_rr"
      },
      "outputs": [
        {
          "output_type": "stream",
          "name": "stdout",
          "text": [
            "Expected output:\n",
            " Afaan Ingilizii barachuuf karaan hundarra gaariin gara Ameerikaa\n",
            "deemuudha.\n"
          ]
        }
      ],
      "source": [
        "long_text = \"The best way to learn English is to go to America.\"\n",
        "import textwrap\n",
        "print('Expected output:\\n', '\\n'.join(textwrap.wrap(\"Afaan Ingilizii barachuuf karaan hundarra gaariin gara Ameerikaa deemuudha.\")))"
      ]
    },
    {
      "cell_type": "code",
      "execution_count": 86,
      "metadata": {
        "id": "lDa_8NaN_RUy",
        "colab": {
          "base_uri": "https://localhost:8080/",
          "height": 620
        },
        "outputId": "a86fc9c0-6e66-408f-b673-eb16c8d4b3d4"
      },
      "outputs": [
        {
          "output_type": "stream",
          "name": "stderr",
          "text": [
            "<ipython-input-50-935149928b90>:22: UserWarning: FixedFormatter should only be used together with FixedLocator\n",
            "  ax.set_xticklabels([''] + context, fontdict=fontdict, rotation=90)\n",
            "<ipython-input-50-935149928b90>:23: UserWarning: FixedFormatter should only be used together with FixedLocator\n",
            "  ax.set_yticklabels([''] + output, fontdict=fontdict)\n"
          ]
        },
        {
          "output_type": "display_data",
          "data": {
            "text/plain": [
              "<Figure size 720x720 with 1 Axes>"
            ],
            "image/png": "[encoded data removed]"
          },
          "metadata": {
            "needs_background": "light"
          }
        }
      ],
      "source": [
        "model.plot_attention(long_text)"
      ]
    },
    {
      "cell_type": "markdown",
      "metadata": {
        "id": "PToqG3GiIUPM"
      },
      "source": [
        "The `translate` function works on batches:"
      ]
    },
    {
      "cell_type": "code",
      "execution_count": 56,
      "metadata": {
        "id": "1-FLCjBVEMXL"
      },
      "outputs": [],
      "source": [
        "inputs = [\n",
        "    \"It is really cold here.\", # \"As baayyee qorra.\"\n",
        "    \"This is my life.\", # \"Kun jireenya kooti.\"\n",
        "    \"His room is a mess.\" # \"Kutaan isaa jeequmsa.\"\n",
        "]"
      ]
    },
    {
      "cell_type": "code",
      "execution_count": 57,
      "metadata": {
        "id": "sT68i4jYEQ7q",
        "colab": {
          "base_uri": "https://localhost:8080/"
        },
        "outputId": "7df4bfa8-7e3d-4c4a-8697-72154e94a0ce"
      },
      "outputs": [
        {
          "output_type": "stream",
          "name": "stdout",
          "text": [
            "dhuguma as jira.\n",
            "kun jireenya kooti.\n",
            "kutaan isaa jeequmsa.\n",
            "\n",
            "CPU times: user 1.1 s, sys: 7.45 ms, total: 1.1 s\n",
            "Wall time: 1.08 s\n"
          ]
        }
      ],
      "source": [
        "%%time\n",
        "for t in inputs:\n",
        "  print(model.translate([t])[0].numpy().decode())\n",
        "\n",
        "print()"
      ]
    },
    {
      "cell_type": "code",
      "execution_count": 58,
      "metadata": {
        "id": "hd2rgyHwVVrv",
        "colab": {
          "base_uri": "https://localhost:8080/"
        },
        "outputId": "b4f373da-9958-4a5e-b22b-9ea311e18f5d"
      },
      "outputs": [
        {
          "output_type": "stream",
          "name": "stdout",
          "text": [
            "dhuguma as jira.\n",
            "kun jireenya kooti.\n",
            "kutaan isaa jeequmsa.\n",
            "\n",
            "CPU times: user 421 ms, sys: 8.92 ms, total: 430 ms\n",
            "Wall time: 437 ms\n"
          ]
        }
      ],
      "source": [
        "%%time\n",
        "result = model.translate(inputs)\n",
        "\n",
        "print(result[0].numpy().decode())\n",
        "print(result[1].numpy().decode())\n",
        "print(result[2].numpy().decode())\n",
        "print()"
      ]
    },
    {
      "cell_type": "markdown",
      "metadata": {
        "id": "uvhMqIw26Bwd"
      },
      "source": [
        "So overall this text generation function mostly gets the job done, but so you've only used it here in python with eager execution. Let's try to export it next:"
      ]
    },
    {
      "cell_type": "markdown",
      "metadata": {
        "id": "X4POAuUgLxLv"
      },
      "source": [
        "### Export"
      ]
    },
    {
      "cell_type": "markdown",
      "metadata": {
        "id": "S-6cFyqeUPQm"
      },
      "source": [
        "If you want to export this model you'll need to wrap the `translate` method in a `tf.function`. That implementation will get the job done:\n"
      ]
    },
    {
      "cell_type": "code",
      "execution_count": 59,
      "metadata": {
        "id": "fNhGwQaVKIAy"
      },
      "outputs": [],
      "source": [
        "class Export(tf.Module):\n",
        "  def __init__(self, model):\n",
        "    self.model = model\n",
        "\n",
        "  @tf.function(input_signature=[tf.TensorSpec(dtype=tf.string, shape=[None])])\n",
        "  def translate(self, inputs):\n",
        "    return self.model.translate(inputs)"
      ]
    },
    {
      "cell_type": "code",
      "execution_count": 60,
      "metadata": {
        "id": "5Tjqs9FzNwW5"
      },
      "outputs": [],
      "source": [
        "export = Export(model)"
      ]
    },
    {
      "cell_type": "markdown",
      "metadata": {
        "id": "fkccvHDvXCa8"
      },
      "source": [
        "Run the `tf.function` once to compile it:"
      ]
    },
    {
      "cell_type": "code",
      "execution_count": 61,
      "metadata": {
        "id": "_NzrixLvVBjQ",
        "colab": {
          "base_uri": "https://localhost:8080/"
        },
        "outputId": "d805e32e-495d-42b6-f490-86da31f5e513"
      },
      "outputs": [
        {
          "output_type": "stream",
          "name": "stdout",
          "text": [
            "CPU times: user 1min 11s, sys: 1.61 s, total: 1min 12s\n",
            "Wall time: 1min 12s\n"
          ]
        }
      ],
      "source": [
        "%%time\n",
        "_ = export.translate(tf.constant(inputs))"
      ]
    },
    {
      "cell_type": "code",
      "execution_count": 62,
      "metadata": {
        "id": "USJdu00tVFbd",
        "colab": {
          "base_uri": "https://localhost:8080/"
        },
        "outputId": "beadaed7-5c33-47ea-a485-60ed9cc95901"
      },
      "outputs": [
        {
          "output_type": "stream",
          "name": "stdout",
          "text": [
            "dhuguma as jira.                                             \n",
            "kun jireenya kooti.                                             \n",
            "kutaan isaa jeequmsa.                                             \n",
            "\n",
            "CPU times: user 165 ms, sys: 10.2 ms, total: 176 ms\n",
            "Wall time: 286 ms\n"
          ]
        }
      ],
      "source": [
        "%%time\n",
        "result = export.translate(tf.constant(inputs))\n",
        "\n",
        "print(result[0].numpy().decode())\n",
        "print(result[1].numpy().decode())\n",
        "print(result[2].numpy().decode())\n",
        "print()"
      ]
    },
    {
      "cell_type": "markdown",
      "metadata": {
        "id": "NP2dNtEXJPEL"
      },
      "source": [
        "Now that the function has been traced it can be exported using `saved_model.save`:"
      ]
    },
    {
      "cell_type": "code",
      "execution_count": 63,
      "metadata": {
        "id": "OyvxT5V0_X5B",
        "colab": {
          "base_uri": "https://localhost:8080/"
        },
        "outputId": "25eb1c3b-516b-44bc-abf4-89df03f6cee2"
      },
      "outputs": [
        {
          "output_type": "stream",
          "name": "stderr",
          "text": [
            "WARNING:absl:Found untraced functions such as embedding_3_layer_call_fn, embedding_3_layer_call_and_return_conditional_losses, embedding_4_layer_call_fn, embedding_4_layer_call_and_return_conditional_losses, cross_attention_2_layer_call_fn while saving (showing 5 of 32). These functions will not be directly callable after loading.\n"
          ]
        },
        {
          "output_type": "stream",
          "name": "stdout",
          "text": [
            "CPU times: user 1min 42s, sys: 2.82 s, total: 1min 44s\n",
            "Wall time: 1min 45s\n"
          ]
        }
      ],
      "source": [
        "%%time\n",
        "tf.saved_model.save(export, 'eng_translator_newest',\n",
        "                    signatures={'serving_default': export.translate})"
      ]
    },
    {
      "cell_type": "code",
      "execution_count": 64,
      "metadata": {
        "id": "-I0j3i3ekOba",
        "colab": {
          "base_uri": "https://localhost:8080/"
        },
        "outputId": "619a0dd0-0918-40f9-8eeb-dacf6c7844f5"
      },
      "outputs": [
        {
          "output_type": "stream",
          "name": "stdout",
          "text": [
            "CPU times: user 1min 6s, sys: 1.5 s, total: 1min 8s\n",
            "Wall time: 1min 7s\n"
          ]
        }
      ],
      "source": [
        "%%time\n",
        "reloaded = tf.saved_model.load('eng_translator_newest')\n",
        "_ = reloaded.translate(tf.constant(inputs)) #warmup"
      ]
    },
    {
      "cell_type": "code",
      "source": [
        "from nltk.translate.bleu_score import corpus_bleu, sentence_bleu, SmoothingFunction\n",
        "\n",
        "def compute_bleu_score(references, translations, weights=(0.25, 0.25, 0.25, 0.25)):\n",
        "    \"\"\"\n",
        "    Compute the BLEU score for a set of translations and their corresponding reference translations.\n",
        "    :param references: A list of reference translations, where each translation is a list of tokens.\n",
        "    :param translations: A list of translations to evaluate, where each translation is a list of tokens.\n",
        "    :param weights: A tuple of weights to use for each n-gram score, where len(weights) = max_n in the n-gram scores.\n",
        "    :return: The BLEU score for the translations, as a float between 0 and 1.\n",
        "    \"\"\"\n",
        "    # Use smoothing to avoid division by zero\n",
        "    smoothing_function = SmoothingFunction().method1\n",
        "\n",
        "    # Compute the BLEU score for the translations and their reference translations\n",
        "    bleu_score = corpus_bleu([[ref] for ref in references], translations, weights=weights, smoothing_function=smoothing_function)\n",
        "\n",
        "    return bleu_score\n"
      ],
      "metadata": {
        "id": "X_OzcoA9WjYm"
      },
      "execution_count": 65,
      "outputs": []
    },
    {
      "cell_type": "code",
      "source": [
        "result = reloaded.translate(tf.constant(context_raw[10000:20000]))"
      ],
      "metadata": {
        "id": "FGBe14ipWVoH"
      },
      "execution_count": 66,
      "outputs": []
    },
    {
      "cell_type": "code",
      "source": [
        "import re\n",
        "result = [x.numpy().decode() for x in result]\n",
        "pattern = r\"(?<=[.?!])\\s+\"\n",
        "result = [re.sub(pattern, \"\", x) for x in result]"
      ],
      "metadata": {
        "id": "jvj_24nIWzfu"
      },
      "execution_count": 67,
      "outputs": []
    },
    {
      "cell_type": "code",
      "source": [
        "# Compute the BLEU score for the translations and their reference translations\n",
        "bleu_score = compute_bleu_score(target_raw[10000:20000], result)\n",
        "\n",
        "print(\"BLEU score:\", bleu_score)"
      ],
      "metadata": {
        "id": "H9LrcyWsdLJ-",
        "colab": {
          "base_uri": "https://localhost:8080/"
        },
        "outputId": "dce06d87-a7a5-42bb-cdfc-2d27c5303a2d"
      },
      "execution_count": 68,
      "outputs": [
        {
          "output_type": "stream",
          "name": "stdout",
          "text": [
            "BLEU score: 0.8382584232382377\n"
          ]
        }
      ]
    },
    {
      "cell_type": "code",
      "source": [
        "result[:10]"
      ],
      "metadata": {
        "colab": {
          "base_uri": "https://localhost:8080/"
        },
        "id": "Z7kB3ZfTXHwF",
        "outputId": "08c50240-f3b2-4555-a931-f243d56afdce"
      },
      "execution_count": 69,
      "outputs": [
        {
          "output_type": "execute_result",
          "data": {
            "text/plain": [
              "['maariyaam tomboy dha.',\n",
              " 'maariyaam nama hawwatuudha.',\n",
              " 'maariyaam intala obboleessa kooti.',\n",
              " 'maariyaam ulfooftee jirti.',\n",
              " 'maariyaam si jaalladha.',\n",
              " \"qaruuraa banuun danda'aa?\",\n",
              " \"asitti tamboo xuuxuu danda'aa?\",\n",
              " \"tarii qorra ni bu'a.\",\n",
              " \"tarii ni hojjeta ta'a.\",\n",
              " 'afaan faransaayii koo hamaadha.']"
            ]
          },
          "metadata": {},
          "execution_count": 69
        }
      ]
    },
    {
      "cell_type": "code",
      "execution_count": 70,
      "metadata": {
        "id": "GXZF__FZXJCm",
        "colab": {
          "base_uri": "https://localhost:8080/"
        },
        "outputId": "758c916c-0e59-4cbc-b96e-98e9cd28ef0f"
      },
      "outputs": [
        {
          "output_type": "stream",
          "name": "stdout",
          "text": [
            "dhuguma as jira.                                             \n",
            "kun jireenya kooti.                                             \n",
            "kutaan isaa jeequmsa.                                             \n",
            "\n",
            "CPU times: user 172 ms, sys: 13.3 ms, total: 185 ms\n",
            "Wall time: 309 ms\n"
          ]
        }
      ],
      "source": [
        "%%time\n",
        "result = reloaded.translate(tf.constant(inputs))\n",
        "\n",
        "print(result[0].numpy().decode())\n",
        "print(result[1].numpy().decode())\n",
        "print(result[2].numpy().decode())\n",
        "print()"
      ]
    },
    {
      "cell_type": "code",
      "source": [
        "result = reloaded.translate([\"do you come today?\"]) #Har'a ni dhufta?\n",
        "print(result[0].numpy().decode())"
      ],
      "metadata": {
        "colab": {
          "base_uri": "https://localhost:8080/"
        },
        "id": "AeGIEWQ67ICm",
        "outputId": "cf608d47-3689-4566-87cc-2d38a60aa3c1"
      },
      "execution_count": 88,
      "outputs": [
        {
          "output_type": "stream",
          "name": "stdout",
          "text": [
            "har'a ni dhuftaa?                                             \n"
          ]
        }
      ]
    },
    {
      "cell_type": "code",
      "source": [],
      "metadata": {
        "id": "bTGmR2mp7QW0"
      },
      "execution_count": 71,
      "outputs": []
    }
  ],
  "metadata": {
    "accelerator": "GPU",
    "colab": {
      "provenance": [],
      "include_colab_link": true
    },
    "kernelspec": {
      "display_name": "Python 3",
      "name": "python3"
    },
    "gpuClass": "standard"
  },
  "nbformat": 4,
  "nbformat_minor": 0
}