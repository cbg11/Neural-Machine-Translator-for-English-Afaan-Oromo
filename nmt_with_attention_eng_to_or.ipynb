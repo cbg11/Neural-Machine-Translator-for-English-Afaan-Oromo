{
  "cells": [
    {
      "cell_type": "markdown",
      "metadata": {
        "id": "view-in-github",
        "colab_type": "text"
      },
      "source": [
        "<a href=\"https://colab.research.google.com/github/cbg11/Neural-Machine-Translator-for-English-Afaan-Oromo/blob/main/nmt_with_attention_eng_to_or.ipynb\" target=\"_parent\"><img src=\"https://colab.research.google.com/assets/colab-badge.svg\" alt=\"Open In Colab\"/></a>"
      ]
    },
    {
      "cell_type": "markdown",
      "metadata": {
        "id": "J0Qjg6vuaHNt"
      },
      "source": [
        "# Neural machine translation with attention"
      ]
    },
    {
      "cell_type": "markdown",
      "metadata": {
        "id": "yAmSR1FaqKrl"
      },
      "source": [
        "## Setup"
      ]
    },
    {
      "cell_type": "code",
      "execution_count": 2,
      "metadata": {
        "id": "DGFTkuRvzWqc",
        "colab": {
          "base_uri": "https://localhost:8080/"
        },
        "outputId": "84145fcf-f4a6-4a37-8bd8-b01b34b1a824"
      },
      "outputs": [
        {
          "output_type": "stream",
          "name": "stdout",
          "text": [
            "Looking in indexes: https://pypi.org/simple, https://us-python.pkg.dev/colab-wheels/public/simple/\n",
            "Collecting tensorflow-text>=2.10\n",
            "  Downloading tensorflow_text-2.11.0-cp38-cp38-manylinux_2_17_x86_64.manylinux2014_x86_64.whl (5.8 MB)\n",
            "\u001b[2K     \u001b[90m━━━━━━━━━━━━━━━━━━━━━━━━━━━━━━━━━━━━━━━━\u001b[0m \u001b[32m5.8/5.8 MB\u001b[0m \u001b[31m39.1 MB/s\u001b[0m eta \u001b[36m0:00:00\u001b[0m\n",
            "\u001b[?25hRequirement already satisfied: tensorflow<2.12,>=2.11.0 in /usr/local/lib/python3.8/dist-packages (from tensorflow-text>=2.10) (2.11.0)\n",
            "Requirement already satisfied: tensorflow-hub>=0.8.0 in /usr/local/lib/python3.8/dist-packages (from tensorflow-text>=2.10) (0.12.0)\n",
            "Requirement already satisfied: numpy>=1.20 in /usr/local/lib/python3.8/dist-packages (from tensorflow<2.12,>=2.11.0->tensorflow-text>=2.10) (1.22.4)\n",
            "Requirement already satisfied: packaging in /usr/local/lib/python3.8/dist-packages (from tensorflow<2.12,>=2.11.0->tensorflow-text>=2.10) (23.0)\n",
            "Requirement already satisfied: astunparse>=1.6.0 in /usr/local/lib/python3.8/dist-packages (from tensorflow<2.12,>=2.11.0->tensorflow-text>=2.10) (1.6.3)\n",
            "Requirement already satisfied: tensorflow-estimator<2.12,>=2.11.0 in /usr/local/lib/python3.8/dist-packages (from tensorflow<2.12,>=2.11.0->tensorflow-text>=2.10) (2.11.0)\n",
            "Requirement already satisfied: gast<=0.4.0,>=0.2.1 in /usr/local/lib/python3.8/dist-packages (from tensorflow<2.12,>=2.11.0->tensorflow-text>=2.10) (0.4.0)\n",
            "Requirement already satisfied: wrapt>=1.11.0 in /usr/local/lib/python3.8/dist-packages (from tensorflow<2.12,>=2.11.0->tensorflow-text>=2.10) (1.14.1)\n",
            "Requirement already satisfied: opt-einsum>=2.3.2 in /usr/local/lib/python3.8/dist-packages (from tensorflow<2.12,>=2.11.0->tensorflow-text>=2.10) (3.3.0)\n",
            "Requirement already satisfied: google-pasta>=0.1.1 in /usr/local/lib/python3.8/dist-packages (from tensorflow<2.12,>=2.11.0->tensorflow-text>=2.10) (0.2.0)\n",
            "Requirement already satisfied: keras<2.12,>=2.11.0 in /usr/local/lib/python3.8/dist-packages (from tensorflow<2.12,>=2.11.0->tensorflow-text>=2.10) (2.11.0)\n",
            "Requirement already satisfied: termcolor>=1.1.0 in /usr/local/lib/python3.8/dist-packages (from tensorflow<2.12,>=2.11.0->tensorflow-text>=2.10) (2.2.0)\n",
            "Requirement already satisfied: libclang>=13.0.0 in /usr/local/lib/python3.8/dist-packages (from tensorflow<2.12,>=2.11.0->tensorflow-text>=2.10) (15.0.6.1)\n",
            "Requirement already satisfied: setuptools in /usr/local/lib/python3.8/dist-packages (from tensorflow<2.12,>=2.11.0->tensorflow-text>=2.10) (57.4.0)\n",
            "Requirement already satisfied: typing-extensions>=3.6.6 in /usr/local/lib/python3.8/dist-packages (from tensorflow<2.12,>=2.11.0->tensorflow-text>=2.10) (4.5.0)\n",
            "Requirement already satisfied: six>=1.12.0 in /usr/local/lib/python3.8/dist-packages (from tensorflow<2.12,>=2.11.0->tensorflow-text>=2.10) (1.15.0)\n",
            "Requirement already satisfied: h5py>=2.9.0 in /usr/local/lib/python3.8/dist-packages (from tensorflow<2.12,>=2.11.0->tensorflow-text>=2.10) (3.1.0)\n",
            "Requirement already satisfied: grpcio<2.0,>=1.24.3 in /usr/local/lib/python3.8/dist-packages (from tensorflow<2.12,>=2.11.0->tensorflow-text>=2.10) (1.51.1)\n",
            "Requirement already satisfied: tensorflow-io-gcs-filesystem>=0.23.1 in /usr/local/lib/python3.8/dist-packages (from tensorflow<2.12,>=2.11.0->tensorflow-text>=2.10) (0.30.0)\n",
            "Requirement already satisfied: absl-py>=1.0.0 in /usr/local/lib/python3.8/dist-packages (from tensorflow<2.12,>=2.11.0->tensorflow-text>=2.10) (1.4.0)\n",
            "Requirement already satisfied: tensorboard<2.12,>=2.11 in /usr/local/lib/python3.8/dist-packages (from tensorflow<2.12,>=2.11.0->tensorflow-text>=2.10) (2.11.2)\n",
            "Requirement already satisfied: protobuf<3.20,>=3.9.2 in /usr/local/lib/python3.8/dist-packages (from tensorflow<2.12,>=2.11.0->tensorflow-text>=2.10) (3.19.6)\n",
            "Requirement already satisfied: flatbuffers>=2.0 in /usr/local/lib/python3.8/dist-packages (from tensorflow<2.12,>=2.11.0->tensorflow-text>=2.10) (23.1.21)\n",
            "Requirement already satisfied: wheel<1.0,>=0.23.0 in /usr/local/lib/python3.8/dist-packages (from astunparse>=1.6.0->tensorflow<2.12,>=2.11.0->tensorflow-text>=2.10) (0.38.4)\n",
            "Requirement already satisfied: google-auth-oauthlib<0.5,>=0.4.1 in /usr/local/lib/python3.8/dist-packages (from tensorboard<2.12,>=2.11->tensorflow<2.12,>=2.11.0->tensorflow-text>=2.10) (0.4.6)\n",
            "Requirement already satisfied: werkzeug>=1.0.1 in /usr/local/lib/python3.8/dist-packages (from tensorboard<2.12,>=2.11->tensorflow<2.12,>=2.11.0->tensorflow-text>=2.10) (1.0.1)\n",
            "Requirement already satisfied: requests<3,>=2.21.0 in /usr/local/lib/python3.8/dist-packages (from tensorboard<2.12,>=2.11->tensorflow<2.12,>=2.11.0->tensorflow-text>=2.10) (2.25.1)\n",
            "Requirement already satisfied: tensorboard-data-server<0.7.0,>=0.6.0 in /usr/local/lib/python3.8/dist-packages (from tensorboard<2.12,>=2.11->tensorflow<2.12,>=2.11.0->tensorflow-text>=2.10) (0.6.1)\n",
            "Requirement already satisfied: tensorboard-plugin-wit>=1.6.0 in /usr/local/lib/python3.8/dist-packages (from tensorboard<2.12,>=2.11->tensorflow<2.12,>=2.11.0->tensorflow-text>=2.10) (1.8.1)\n",
            "Requirement already satisfied: google-auth<3,>=1.6.3 in /usr/local/lib/python3.8/dist-packages (from tensorboard<2.12,>=2.11->tensorflow<2.12,>=2.11.0->tensorflow-text>=2.10) (2.16.1)\n",
            "Requirement already satisfied: markdown>=2.6.8 in /usr/local/lib/python3.8/dist-packages (from tensorboard<2.12,>=2.11->tensorflow<2.12,>=2.11.0->tensorflow-text>=2.10) (3.4.1)\n",
            "Requirement already satisfied: cachetools<6.0,>=2.0.0 in /usr/local/lib/python3.8/dist-packages (from google-auth<3,>=1.6.3->tensorboard<2.12,>=2.11->tensorflow<2.12,>=2.11.0->tensorflow-text>=2.10) (5.3.0)\n",
            "Requirement already satisfied: pyasn1-modules>=0.2.1 in /usr/local/lib/python3.8/dist-packages (from google-auth<3,>=1.6.3->tensorboard<2.12,>=2.11->tensorflow<2.12,>=2.11.0->tensorflow-text>=2.10) (0.2.8)\n",
            "Requirement already satisfied: rsa<5,>=3.1.4 in /usr/local/lib/python3.8/dist-packages (from google-auth<3,>=1.6.3->tensorboard<2.12,>=2.11->tensorflow<2.12,>=2.11.0->tensorflow-text>=2.10) (4.9)\n",
            "Requirement already satisfied: requests-oauthlib>=0.7.0 in /usr/local/lib/python3.8/dist-packages (from google-auth-oauthlib<0.5,>=0.4.1->tensorboard<2.12,>=2.11->tensorflow<2.12,>=2.11.0->tensorflow-text>=2.10) (1.3.1)\n",
            "Requirement already satisfied: importlib-metadata>=4.4 in /usr/local/lib/python3.8/dist-packages (from markdown>=2.6.8->tensorboard<2.12,>=2.11->tensorflow<2.12,>=2.11.0->tensorflow-text>=2.10) (6.0.0)\n",
            "Requirement already satisfied: certifi>=2017.4.17 in /usr/local/lib/python3.8/dist-packages (from requests<3,>=2.21.0->tensorboard<2.12,>=2.11->tensorflow<2.12,>=2.11.0->tensorflow-text>=2.10) (2022.12.7)\n",
            "Requirement already satisfied: idna<3,>=2.5 in /usr/local/lib/python3.8/dist-packages (from requests<3,>=2.21.0->tensorboard<2.12,>=2.11->tensorflow<2.12,>=2.11.0->tensorflow-text>=2.10) (2.10)\n",
            "Requirement already satisfied: urllib3<1.27,>=1.21.1 in /usr/local/lib/python3.8/dist-packages (from requests<3,>=2.21.0->tensorboard<2.12,>=2.11->tensorflow<2.12,>=2.11.0->tensorflow-text>=2.10) (1.24.3)\n",
            "Requirement already satisfied: chardet<5,>=3.0.2 in /usr/local/lib/python3.8/dist-packages (from requests<3,>=2.21.0->tensorboard<2.12,>=2.11->tensorflow<2.12,>=2.11.0->tensorflow-text>=2.10) (4.0.0)\n",
            "Requirement already satisfied: zipp>=0.5 in /usr/local/lib/python3.8/dist-packages (from importlib-metadata>=4.4->markdown>=2.6.8->tensorboard<2.12,>=2.11->tensorflow<2.12,>=2.11.0->tensorflow-text>=2.10) (3.14.0)\n",
            "Requirement already satisfied: pyasn1<0.5.0,>=0.4.6 in /usr/local/lib/python3.8/dist-packages (from pyasn1-modules>=0.2.1->google-auth<3,>=1.6.3->tensorboard<2.12,>=2.11->tensorflow<2.12,>=2.11.0->tensorflow-text>=2.10) (0.4.8)\n",
            "Requirement already satisfied: oauthlib>=3.0.0 in /usr/local/lib/python3.8/dist-packages (from requests-oauthlib>=0.7.0->google-auth-oauthlib<0.5,>=0.4.1->tensorboard<2.12,>=2.11->tensorflow<2.12,>=2.11.0->tensorflow-text>=2.10) (3.2.2)\n",
            "Installing collected packages: tensorflow-text\n",
            "Successfully installed tensorflow-text-2.11.0\n",
            "Looking in indexes: https://pypi.org/simple, https://us-python.pkg.dev/colab-wheels/public/simple/\n",
            "Collecting einops\n",
            "  Downloading einops-0.6.0-py3-none-any.whl (41 kB)\n",
            "\u001b[2K     \u001b[90m━━━━━━━━━━━━━━━━━━━━━━━━━━━━━━━━━━━━━━━━\u001b[0m \u001b[32m41.6/41.6 KB\u001b[0m \u001b[31m2.0 MB/s\u001b[0m eta \u001b[36m0:00:00\u001b[0m\n",
            "\u001b[?25hInstalling collected packages: einops\n",
            "Successfully installed einops-0.6.0\n"
          ]
        }
      ],
      "source": [
        "!pip install \"tensorflow-text>=2.10\"\n",
        "!pip install einops"
      ]
    },
    {
      "cell_type": "code",
      "execution_count": 3,
      "metadata": {
        "id": "tnxXKDjq3jEL"
      },
      "outputs": [],
      "source": [
        "import numpy as np\n",
        "\n",
        "import typing\n",
        "from typing import Any, Tuple\n",
        "\n",
        "import einops\n",
        "import matplotlib.pyplot as plt\n",
        "import matplotlib.ticker as ticker\n",
        "\n",
        "import tensorflow as tf\n",
        "import tensorflow_text as tf_text"
      ]
    },
    {
      "cell_type": "markdown",
      "metadata": {
        "id": "l_yq8kvIqoqQ"
      },
      "source": [
        "This class is used to check shapes throughout the project.\n"
      ]
    },
    {
      "cell_type": "code",
      "execution_count": 4,
      "metadata": {
        "id": "KqFqKi4fqN9X"
      },
      "outputs": [],
      "source": [
        "class ShapeChecker():\n",
        "  def __init__(self):\n",
        "    # Keep a cache of every axis-name seen\n",
        "    self.shapes = {}\n",
        "\n",
        "  def __call__(self, tensor, names, broadcast=False):\n",
        "    if not tf.executing_eagerly():\n",
        "      return\n",
        "\n",
        "    parsed = einops.parse_shape(tensor, names)\n",
        "\n",
        "    for name, new_dim in parsed.items():\n",
        "      old_dim = self.shapes.get(name, None)\n",
        "      \n",
        "      if (broadcast and new_dim == 1):\n",
        "        continue\n",
        "\n",
        "      if old_dim is None:\n",
        "        # If the axis name is new, add its length to the cache.\n",
        "        self.shapes[name] = new_dim\n",
        "        continue\n",
        "\n",
        "      if new_dim != old_dim:\n",
        "        raise ValueError(f\"Shape mismatch for dimension: '{name}'\\n\"\n",
        "                         f\"    found: {new_dim}\\n\"\n",
        "                         f\"    expected: {old_dim}\\n\")"
      ]
    },
    {
      "cell_type": "markdown",
      "metadata": {
        "id": "gjUROhJfH3ML"
      },
      "source": [
        "## The data"
      ]
    },
    {
      "cell_type": "markdown",
      "metadata": {
        "id": "puE_K74DIE9W"
      },
      "source": [
        "The Project uses a language dataset similar with provided by [Anki](http://www.manythings.org/anki/). This dataset contains language translation pairs separated by tab in the format:\n",
        "\n",
        "```\n",
        "I know a few things.\tWaan muraasa beeka.\n",
        "```"
      ]
    },
    {
      "cell_type": "markdown",
      "metadata": {
        "id": "wfodePkj3jEa"
      },
      "source": [
        "### Download and prepare the dataset"
      ]
    },
    {
      "cell_type": "code",
      "execution_count": 5,
      "metadata": {
        "id": "kRVATYOgJs1b",
        "colab": {
          "base_uri": "https://localhost:8080/"
        },
        "outputId": "be079395-5449-4ca8-b8ee-7b4bf071cea6"
      },
      "outputs": [
        {
          "output_type": "stream",
          "name": "stdout",
          "text": [
            "Mounted at /content/drive/\n",
            "/content/drive/My Drive/MT\n"
          ]
        }
      ],
      "source": [
        "# Download the file\n",
        "import pathlib\n",
        "from google.colab import drive\n",
        "drive.mount('/content/drive/', force_remount=True)\n",
        "%cd /content/drive/My Drive/MT\n",
        "path_to_file = \"eng_or_tr_final.txt\""
      ]
    },
    {
      "cell_type": "code",
      "source": [
        "def data_loader(f_name):\n",
        "    target = []\n",
        "    context = []\n",
        "    with open(f_name, 'r', encoding='utf-8') as f:\n",
        "        for line in f:\n",
        "            trg, cnt = line.strip().split('\\t')\n",
        "            target.append(trg)\n",
        "            context.append(cnt)\n",
        "    return np.array(target), np.array(context)"
      ],
      "metadata": {
        "id": "Ump1tLruRzc_"
      },
      "execution_count": 6,
      "outputs": []
    },
    {
      "cell_type": "code",
      "execution_count": 7,
      "metadata": {
        "id": "cTbSbBz55QtF",
        "colab": {
          "base_uri": "https://localhost:8080/"
        },
        "outputId": "f5f7c6b3-84fd-40b6-adcc-b078082caddc"
      },
      "outputs": [
        {
          "output_type": "stream",
          "name": "stdout",
          "text": [
            "Length of the dataset:  120169\n",
            "Sample sentece on line 800: I can sing.\n",
            "Sample transcription on line 800: Sirbuu nan danda'a.\n"
          ]
        }
      ],
      "source": [
        "context_raw, target_raw = data_loader(path_to_file)\n",
        "print(\"Length of the dataset: \", len(context_raw))\n",
        "print(\"Sample sentece on line 800:\", context_raw[800])\n",
        "print(\"Sample transcription on line 800:\", target_raw[800])\n"
      ]
    },
    {
      "cell_type": "markdown",
      "metadata": {
        "id": "rgCLkfv5uO3d"
      },
      "source": [
        "### Create a tf.data dataset"
      ]
    },
    {
      "cell_type": "code",
      "execution_count": 8,
      "metadata": {
        "id": "3rZFgz69nMPa"
      },
      "outputs": [],
      "source": [
        "BUFFER_SIZE = len(context_raw)\n",
        "BATCH_SIZE = 64\n",
        "\n",
        "is_train = np.random.uniform(size=(len(target_raw),)) < 0.8\n",
        "\n",
        "train_raw = (\n",
        "    tf.data.Dataset\n",
        "    .from_tensor_slices((context_raw[is_train], target_raw[is_train]))\n",
        "    .shuffle(BUFFER_SIZE)\n",
        "    .batch(BATCH_SIZE))\n",
        "val_raw = (\n",
        "    tf.data.Dataset\n",
        "    .from_tensor_slices((context_raw[~is_train], target_raw[~is_train]))\n",
        "    .shuffle(BUFFER_SIZE)\n",
        "    .batch(BATCH_SIZE))"
      ]
    },
    {
      "cell_type": "code",
      "execution_count": 9,
      "metadata": {
        "id": "qc6-NK1GtWQt",
        "colab": {
          "base_uri": "https://localhost:8080/"
        },
        "outputId": "de22425e-06fd-4836-971e-e4aa35367f3f"
      },
      "outputs": [
        {
          "output_type": "stream",
          "name": "stdout",
          "text": [
            "tf.Tensor(\n",
            "[b'We used to be close friends.'\n",
            " b'Tom is running in order to catch the bus.' b\"You'd better believe it.\"\n",
            " b'Tom is sick.'\n",
            " b'Tom was very unhappy about having to spend Christmas in the hospital.'], shape=(5,), dtype=string)\n",
            "\n",
            "tf.Tensor(\n",
            "[b'Duraan michoota dhihoo turre.'\n",
            " b'Toom otobusii qabachuuf jecha fiigaa jira.' b'Amanuu wayya.'\n",
            " b'Toom dhukkubsatee jira.'\n",
            " b'Toom Ayyaana Qillee hospitaala keessatti dabarsuu waan qabuuf baay\\xca\\xbcee hin gammanne.'], shape=(5,), dtype=string)\n"
          ]
        }
      ],
      "source": [
        "for example_context_strings, example_target_strings in train_raw.take(1):\n",
        "  print(example_context_strings[:5])\n",
        "  print()\n",
        "  print(example_target_strings[:5])\n",
        "  break"
      ]
    },
    {
      "cell_type": "markdown",
      "metadata": {
        "id": "zCoxLcuN3bwv"
      },
      "source": [
        "### Text preprocessing"
      ]
    },
    {
      "cell_type": "markdown",
      "metadata": {
        "id": "EOQ5n55X4uDB"
      },
      "source": [
        "#### Standardization"
      ]
    },
    {
      "cell_type": "code",
      "execution_count": 10,
      "metadata": {
        "id": "chTF5N885F0P"
      },
      "outputs": [],
      "source": [
        "def tf_lower_and_split_punct(text):\n",
        "  # Split accented characters.\n",
        "  #text = tf_text.normalize_utf8(text, 'NFKD')\n",
        "  text = tf.strings.lower(text)\n",
        "  # Keep space, a to z, and selected punctuation.\n",
        "  text = tf.strings.regex_replace(text, \"[^ a-z.?!,]\", '')\n",
        "  # Add spaces around punctuation.\n",
        "  text = tf.strings.regex_replace(text, '[.?!,]', r' \\0 ')\n",
        "  # Strip whitespace.\n",
        "  text = tf.strings.strip(text)\n",
        "\n",
        "  text = tf.strings.join(['<s>', text, '</s>'], separator=' ')\n",
        "  return text"
      ]
    },
    {
      "cell_type": "code",
      "source": [
        "example_text = example_context_strings[0]"
      ],
      "metadata": {
        "id": "ij83pTCnq_L6"
      },
      "execution_count": 11,
      "outputs": []
    },
    {
      "cell_type": "code",
      "execution_count": 12,
      "metadata": {
        "id": "UREvDg3sEKYa",
        "colab": {
          "base_uri": "https://localhost:8080/"
        },
        "outputId": "7e79223e-4e62-4fc0-8a3b-4a28333b312d"
      },
      "outputs": [
        {
          "output_type": "stream",
          "name": "stdout",
          "text": [
            "We used to be close friends.\n",
            "<s> we used to be close friends . </s>\n"
          ]
        }
      ],
      "source": [
        "print(example_text.numpy().decode())\n",
        "print(tf_lower_and_split_punct(example_text).numpy().decode())"
      ]
    },
    {
      "cell_type": "markdown",
      "metadata": {
        "id": "4q-sKsSI7xRZ"
      },
      "source": [
        "#### Text Vectorization"
      ]
    },
    {
      "cell_type": "code",
      "execution_count": 13,
      "metadata": {
        "id": "eAY9k49G3jE_"
      },
      "outputs": [],
      "source": [
        "max_vocab_size = 30000\n",
        "\n",
        "context_text_processor = tf.keras.layers.TextVectorization(\n",
        "    standardize=tf_lower_and_split_punct,\n",
        "    max_tokens=max_vocab_size,\n",
        "    ragged=True)"
      ]
    },
    {
      "cell_type": "markdown",
      "metadata": {
        "id": "7kbC6ODP8IK_"
      },
      "source": [
        "The `TextVectorization` layer and many other [Keras preprocessing layers](https://www.tensorflow.org/guide/keras/preprocessing_layers) have an `adapt` method. This method reads one epoch of the training data, and works a lot like `Model.fit`. This `adapt` method initializes the layer based on the data. Here it determines the vocabulary:"
      ]
    },
    {
      "cell_type": "code",
      "execution_count": 14,
      "metadata": {
        "id": "bmsI1Yql8FYe",
        "colab": {
          "base_uri": "https://localhost:8080/"
        },
        "outputId": "53990ebf-d614-4dd1-e0c5-ff20a2939549"
      },
      "outputs": [
        {
          "output_type": "stream",
          "name": "stderr",
          "text": [
            "WARNING:tensorflow:From /usr/local/lib/python3.8/dist-packages/tensorflow/python/autograph/pyct/static_analysis/liveness.py:83: Analyzer.lamba_check (from tensorflow.python.autograph.pyct.static_analysis.liveness) is deprecated and will be removed after 2023-09-23.\n",
            "Instructions for updating:\n",
            "Lambda fuctions will be no more assumed to be used in the statement where they are used, or at least in the same block. https://github.com/tensorflow/tensorflow/issues/56089\n"
          ]
        },
        {
          "output_type": "execute_result",
          "data": {
            "text/plain": [
              "['', '[UNK]', '<s>', '</s>', '.', 'the', 'to', 'i', 'tom', 'you']"
            ]
          },
          "metadata": {},
          "execution_count": 14
        }
      ],
      "source": [
        "context_text_processor.adapt(train_raw.map(lambda context, target: context))\n",
        "\n",
        "# Here are the first 10 words from the vocabulary:\n",
        "context_text_processor.get_vocabulary()[:10]"
      ]
    },
    {
      "cell_type": "code",
      "source": [
        "print(\"Length of vocabulary of English:\", len(context_text_processor.get_vocabulary()))"
      ],
      "metadata": {
        "colab": {
          "base_uri": "https://localhost:8080/"
        },
        "id": "yiOzVQULqm09",
        "outputId": "f6a8d906-c99c-4729-eabe-835cf06f4ced"
      },
      "execution_count": 15,
      "outputs": [
        {
          "output_type": "stream",
          "name": "stdout",
          "text": [
            "Length of vocabulary of English: 16814\n"
          ]
        }
      ]
    },
    {
      "cell_type": "markdown",
      "metadata": {
        "id": "9kGjIFjX8_Wp"
      },
      "source": [
        "That's the Afaan Oromoo `TextVectorization` layer, now build and `.adapt()` the English one:"
      ]
    },
    {
      "cell_type": "code",
      "execution_count": 16,
      "metadata": {
        "id": "jlC4xuZnKLBS",
        "colab": {
          "base_uri": "https://localhost:8080/"
        },
        "outputId": "043a8117-4ccd-48c6-8fc3-f9776470e8da"
      },
      "outputs": [
        {
          "output_type": "execute_result",
          "data": {
            "text/plain": [
              "['', '[UNK]', '<s>', '</s>', '.', 'hin', 'toom', '?', 'akka', 'ture']"
            ]
          },
          "metadata": {},
          "execution_count": 16
        }
      ],
      "source": [
        "target_text_processor = tf.keras.layers.TextVectorization(\n",
        "    standardize=tf_lower_and_split_punct,\n",
        "    max_tokens=max_vocab_size,\n",
        "    ragged=True)\n",
        "\n",
        "target_text_processor.adapt(train_raw.map(lambda context, target: target))\n",
        "target_text_processor.get_vocabulary()[:10]"
      ]
    },
    {
      "cell_type": "code",
      "source": [
        "print(\"Length of vocabulary of Afaan Oromoo:\", len(target_text_processor.get_vocabulary()))"
      ],
      "metadata": {
        "colab": {
          "base_uri": "https://localhost:8080/"
        },
        "id": "HXAYigZjmYuK",
        "outputId": "ba3b261d-3c97-40f9-ff19-7c09f01d78a1"
      },
      "execution_count": 17,
      "outputs": [
        {
          "output_type": "stream",
          "name": "stdout",
          "text": [
            "Length of vocabulary of Afaan Oromoo: 26916\n"
          ]
        }
      ]
    },
    {
      "cell_type": "markdown",
      "metadata": {
        "id": "BWQqlP_s9eIv"
      },
      "source": [
        "Now these layers can convert a batch of strings into a batch of token IDs:"
      ]
    },
    {
      "cell_type": "code",
      "execution_count": 18,
      "metadata": {
        "id": "9KZxj8IrNZ9S",
        "colab": {
          "base_uri": "https://localhost:8080/"
        },
        "outputId": "ab01073e-d7d6-4c74-aa65-e9e9852578f7"
      },
      "outputs": [
        {
          "output_type": "execute_result",
          "data": {
            "text/plain": [
              "<tf.RaggedTensor [[2, 28, 214, 6, 35, 493, 216, 4, 3],\n",
              " [2, 8, 12, 722, 13, 637, 6, 778, 5, 340, 4, 3],\n",
              " [2, 445, 171, 227, 18, 4, 3]]>"
            ]
          },
          "metadata": {},
          "execution_count": 18
        }
      ],
      "source": [
        "example_tokens = context_text_processor(example_context_strings)\n",
        "example_tokens[:3, :]"
      ]
    },
    {
      "cell_type": "markdown",
      "metadata": {
        "id": "AA9rUn9G9n78"
      },
      "source": [
        "The `get_vocabulary` method can be used to convert token IDs back to text:"
      ]
    },
    {
      "cell_type": "code",
      "execution_count": 19,
      "metadata": {
        "id": "98g9rcxGQY0I",
        "colab": {
          "base_uri": "https://localhost:8080/"
        },
        "outputId": "2b6bcc73-7218-4de5-b12c-940276751248"
      },
      "outputs": [
        {
          "output_type": "execute_result",
          "data": {
            "text/plain": [
              "<tf.Tensor: shape=(9,), dtype=int64, numpy=array([  2,  28, 214,   6,  35, 493, 216,   4,   3])>"
            ]
          },
          "metadata": {},
          "execution_count": 19
        }
      ],
      "source": [
        "example_tokens[0]"
      ]
    },
    {
      "cell_type": "code",
      "source": [
        "context_vocab = np.array(context_text_processor.get_vocabulary())\n",
        "tokens = context_vocab[example_tokens[0].numpy()]\n",
        "' '.join(tokens)"
      ],
      "metadata": {
        "colab": {
          "base_uri": "https://localhost:8080/",
          "height": 35
        },
        "id": "wKtkvmHbDJsO",
        "outputId": "b7cafd51-b0a1-4c01-da5c-00a6edae71bf"
      },
      "execution_count": 20,
      "outputs": [
        {
          "output_type": "execute_result",
          "data": {
            "text/plain": [
              "'<s> we used to be close friends . </s>'"
            ],
            "application/vnd.google.colaboratory.intrinsic+json": {
              "type": "string"
            }
          },
          "metadata": {},
          "execution_count": 20
        }
      ]
    },
    {
      "cell_type": "markdown",
      "metadata": {
        "id": "Ot0aCL9t-Ghi"
      },
      "source": [
        "The returned token IDs are zero-padded. This can easily be turned into a mask:"
      ]
    },
    {
      "cell_type": "code",
      "execution_count": 21,
      "metadata": {
        "id": "_jx4Or_eFRSz",
        "colab": {
          "base_uri": "https://localhost:8080/",
          "height": 298
        },
        "outputId": "a4332d2d-4364-47ca-ff2b-8f2cf3f7fee8"
      },
      "outputs": [
        {
          "output_type": "execute_result",
          "data": {
            "text/plain": [
              "Text(0.5, 1.0, 'Mask')"
            ]
          },
          "metadata": {},
          "execution_count": 21
        },
        {
          "output_type": "display_data",
          "data": {
            "text/plain": [
              "<Figure size 432x288 with 2 Axes>"
            ],
            "image/png": "[encoded data removed]"
          },
          "metadata": {
            "needs_background": "light"
          }
        }
      ],
      "source": [
        "plt.subplot(1, 2, 1)\n",
        "plt.pcolormesh(example_tokens.to_tensor())\n",
        "plt.title('Token IDs')\n",
        "\n",
        "plt.subplot(1, 2, 2)\n",
        "plt.pcolormesh(example_tokens.to_tensor() != 0)\n",
        "plt.title('Mask')"
      ]
    },
    {
      "cell_type": "markdown",
      "metadata": {
        "id": "3O0B4XdFlRgc"
      },
      "source": [
        "### Process the dataset\n",
        "\n"
      ]
    },
    {
      "cell_type": "markdown",
      "metadata": {
        "id": "rVCuyuSp_whd"
      },
      "source": [
        "The `process_text` function below converts the `Datasets` of strings, into  0-padded tensors of token IDs. It also converts from a `(context, target)` pair to an `((context, target_in), target_out)` pair for training with `keras.Model.fit`. Keras expects `(inputs, labels)` pairs, the inputs are the `(context, target_in)` and the labels are `target_out`. The difference between `target_in` and `target_out` is that they are shifted by one step relative to eachother, so that at each location the label is the next token."
      ]
    },
    {
      "cell_type": "code",
      "execution_count": 22,
      "metadata": {
        "id": "wk5tbZWQl5u1"
      },
      "outputs": [],
      "source": [
        "def process_text(context, target):\n",
        "  context = context_text_processor(context).to_tensor()\n",
        "  target = target_text_processor(target)\n",
        "  targ_in = target[:,:-1].to_tensor()\n",
        "  targ_out = target[:,1:].to_tensor()\n",
        "  return (context, targ_in), targ_out\n",
        "\n",
        "\n",
        "train_ds = train_raw.map(process_text, tf.data.AUTOTUNE)\n",
        "val_ds = val_raw.map(process_text, tf.data.AUTOTUNE)"
      ]
    },
    {
      "cell_type": "markdown",
      "metadata": {
        "id": "4iGi7X2m_tbM"
      },
      "source": [
        "Here is the first sequence of each, from the first batch:"
      ]
    },
    {
      "cell_type": "code",
      "execution_count": 23,
      "metadata": {
        "id": "woQBWAjLsJkr",
        "colab": {
          "base_uri": "https://localhost:8080/"
        },
        "outputId": "2c5f8875-c4cd-4fe0-bbe5-8fb036ba58ae"
      },
      "outputs": [
        {
          "output_type": "stream",
          "name": "stdout",
          "text": [
            "[  2  72  58 103   6   5 449  16   5 306]\n",
            "\n",
            "[   2   10  318   24 6204  696   33  308 4917    9]\n",
            "[  10  318   24 6204  696   33  308 4917    9    4]\n"
          ]
        }
      ],
      "source": [
        "for (ex_context_tok, ex_tar_in), ex_tar_out in train_ds.take(1):\n",
        "  print(ex_context_tok[0, :10].numpy()) \n",
        "  print()\n",
        "  print(ex_tar_in[0, :10].numpy()) \n",
        "  print(ex_tar_out[0, :10].numpy()) "
      ]
    },
    {
      "cell_type": "markdown",
      "metadata": {
        "id": "TNfHIF71ulLu"
      },
      "source": [
        "## The encoder/decoder\n"
      ]
    },
    {
      "cell_type": "markdown",
      "metadata": {
        "id": "gzQWx2saImMV"
      },
      "source": [
        "Before getting into it define constants for the model:"
      ]
    },
    {
      "cell_type": "code",
      "execution_count": 24,
      "metadata": {
        "id": "_a9uNz3-IrF-"
      },
      "outputs": [],
      "source": [
        "UNITS = 256"
      ]
    },
    {
      "cell_type": "markdown",
      "metadata": {
        "id": "blNgVbLSzpsr"
      },
      "source": [
        "### The encoder"
      ]
    },
    {
      "cell_type": "code",
      "execution_count": 25,
      "metadata": {
        "id": "nZ2rI24i3jFg"
      },
      "outputs": [],
      "source": [
        "class Encoder(tf.keras.layers.Layer):\n",
        "  def __init__(self, text_processor, units):\n",
        "    super(Encoder, self).__init__()\n",
        "    self.text_processor = text_processor\n",
        "    self.vocab_size = text_processor.vocabulary_size()\n",
        "    self.units = units\n",
        "    \n",
        "    # The embedding layer converts tokens to vectors\n",
        "    self.embedding = tf.keras.layers.Embedding(self.vocab_size, units,\n",
        "                                               mask_zero=True)\n",
        "\n",
        "    # The RNN layer processes those vectors sequentially.\n",
        "    self.rnn = tf.keras.layers.Bidirectional(\n",
        "        merge_mode='sum',\n",
        "        layer=tf.keras.layers.GRU(units,\n",
        "                            # Return the sequence and state\n",
        "                            return_sequences=True,\n",
        "                            recurrent_initializer='glorot_uniform'))\n",
        "\n",
        "  def call(self, x):\n",
        "    shape_checker = ShapeChecker()\n",
        "    shape_checker(x, 'batch s')\n",
        "\n",
        "    # 2. The embedding layer looks up the embedding vector for each token.\n",
        "    x = self.embedding(x)\n",
        "    shape_checker(x, 'batch s units')\n",
        "\n",
        "    # 3. The GRU processes the sequence of embeddings.\n",
        "    x = self.rnn(x)\n",
        "    shape_checker(x, 'batch s units')\n",
        "\n",
        "    # 4. Returns the new sequence of embeddings.\n",
        "    return x\n",
        "\n",
        "  def convert_input(self, texts):\n",
        "    texts = tf.convert_to_tensor(texts)\n",
        "    if len(texts.shape) == 0:\n",
        "      texts = tf.convert_to_tensor(texts)[tf.newaxis]\n",
        "    context = self.text_processor(texts).to_tensor()\n",
        "    context = self(context)\n",
        "    return context"
      ]
    },
    {
      "cell_type": "markdown",
      "metadata": {
        "id": "D3SKkaQeGn-Q"
      },
      "source": [
        "Try it out:"
      ]
    },
    {
      "cell_type": "code",
      "execution_count": 26,
      "metadata": {
        "id": "60gSVh05Jl6l",
        "colab": {
          "base_uri": "https://localhost:8080/"
        },
        "outputId": "37c67470-9531-4308-afc2-133706c21407"
      },
      "outputs": [
        {
          "output_type": "stream",
          "name": "stdout",
          "text": [
            "Context tokens, shape (batch, s): (64, 20)\n",
            "Encoder output, shape (batch, s, units): (64, 20, 256)\n"
          ]
        }
      ],
      "source": [
        "# Encode the input sequence.\n",
        "encoder = Encoder(context_text_processor, UNITS)\n",
        "ex_context = encoder(ex_context_tok)\n",
        "\n",
        "print(f'Context tokens, shape (batch, s): {ex_context_tok.shape}')\n",
        "print(f'Encoder output, shape (batch, s, units): {ex_context.shape}')"
      ]
    },
    {
      "cell_type": "markdown",
      "metadata": {
        "id": "45xM_Gl1MgXY"
      },
      "source": [
        "### The attention layer"
      ]
    },
    {
      "cell_type": "code",
      "execution_count": 27,
      "metadata": {
        "id": "-Ql3ymqwD8LS"
      },
      "outputs": [],
      "source": [
        "class CrossAttention(tf.keras.layers.Layer):\n",
        "  def __init__(self, units, **kwargs):\n",
        "    super().__init__()\n",
        "    self.mha = tf.keras.layers.MultiHeadAttention(key_dim=units, num_heads=1, **kwargs)\n",
        "    self.layernorm = tf.keras.layers.LayerNormalization()\n",
        "    self.add = tf.keras.layers.Add()\n",
        "\n",
        "  def call(self, x, context):\n",
        "    shape_checker = ShapeChecker()\n",
        " \n",
        "    shape_checker(x, 'batch t units')\n",
        "    shape_checker(context, 'batch s units')\n",
        "\n",
        "    attn_output, attn_scores = self.mha(\n",
        "        query=x,\n",
        "        value=context,\n",
        "        return_attention_scores=True)\n",
        "    \n",
        "    shape_checker(x, 'batch t units')\n",
        "    shape_checker(attn_scores, 'batch heads t s')\n",
        "    \n",
        "    # Cache the attention scores for plotting later.\n",
        "    attn_scores = tf.reduce_mean(attn_scores, axis=1)\n",
        "    shape_checker(attn_scores, 'batch t s')\n",
        "    self.last_attention_weights = attn_scores\n",
        "\n",
        "    x = self.add([x, attn_output])\n",
        "    x = self.layernorm(x)\n",
        "\n",
        "    return x"
      ]
    },
    {
      "cell_type": "code",
      "execution_count": 28,
      "metadata": {
        "id": "7y7hjPkNMmHh",
        "colab": {
          "base_uri": "https://localhost:8080/"
        },
        "outputId": "adb909e7-f016-4df1-9ce5-d8c2f141fbcb"
      },
      "outputs": [
        {
          "output_type": "stream",
          "name": "stdout",
          "text": [
            "Context sequence, shape (batch, s, units): (64, 20, 256)\n",
            "Target sequence, shape (batch, t, units): (64, 19, 256)\n",
            "Attention result, shape (batch, t, units): (64, 19, 256)\n",
            "Attention weights, shape (batch, t, s):    (64, 19, 20)\n"
          ]
        }
      ],
      "source": [
        "attention_layer = CrossAttention(UNITS)\n",
        "\n",
        "# Attend to the encoded tokens\n",
        "embed = tf.keras.layers.Embedding(target_text_processor.vocabulary_size(),\n",
        "                                  output_dim=UNITS, mask_zero=True)\n",
        "ex_tar_embed = embed(ex_tar_in)\n",
        "\n",
        "result = attention_layer(ex_tar_embed, ex_context)\n",
        "\n",
        "print(f'Context sequence, shape (batch, s, units): {ex_context.shape}')\n",
        "print(f'Target sequence, shape (batch, t, units): {ex_tar_embed.shape}')\n",
        "print(f'Attention result, shape (batch, t, units): {result.shape}')\n",
        "print(f'Attention weights, shape (batch, t, s):    {attention_layer.last_attention_weights.shape}')"
      ]
    },
    {
      "cell_type": "markdown",
      "metadata": {
        "id": "vx9fUhi3Pmwp"
      },
      "source": [
        "The attention weights will sum to `1` over the context sequence, at each location in the target sequence."
      ]
    },
    {
      "cell_type": "code",
      "execution_count": 29,
      "metadata": {
        "id": "zxyR7cmQPn9P",
        "colab": {
          "base_uri": "https://localhost:8080/"
        },
        "outputId": "783ada7d-16c3-44d1-f15e-a7f27cf74cc3"
      },
      "outputs": [
        {
          "output_type": "execute_result",
          "data": {
            "text/plain": [
              "array([1., 1., 1., 1., 1., 1., 1., 1., 1., 1., 1., 1., 1., 1., 1., 1., 1.,\n",
              "       1., 1.], dtype=float32)"
            ]
          },
          "metadata": {},
          "execution_count": 29
        }
      ],
      "source": [
        "attention_layer.last_attention_weights[0].numpy().sum(axis=-1).round()"
      ]
    },
    {
      "cell_type": "markdown",
      "metadata": {
        "id": "AagyXMH-Jhqt"
      },
      "source": [
        "\n",
        "\n",
        "Here are the attention weights across the context sequences at `t=0`:"
      ]
    },
    {
      "cell_type": "code",
      "execution_count": 30,
      "metadata": {
        "id": "Rqr8XGsAJlf6",
        "colab": {
          "base_uri": "https://localhost:8080/",
          "height": 281
        },
        "outputId": "ea2edd6e-b96f-4b9b-da7e-42a03f0713ef"
      },
      "outputs": [
        {
          "output_type": "display_data",
          "data": {
            "text/plain": [
              "<Figure size 432x288 with 2 Axes>"
            ],
            "image/png": "[encoded data removed]"
          },
          "metadata": {
            "needs_background": "light"
          }
        }
      ],
      "source": [
        "attention_weights = attention_layer.last_attention_weights\n",
        "mask=(ex_context_tok != 0).numpy()\n",
        "\n",
        "plt.subplot(1, 2, 1)\n",
        "plt.pcolormesh(mask*attention_weights[:, 0, :])\n",
        "plt.title('Attention weights')\n",
        "\n",
        "plt.subplot(1, 2, 2)\n",
        "plt.pcolormesh(mask)\n",
        "plt.title('Mask');\n"
      ]
    },
    {
      "cell_type": "markdown",
      "metadata": {
        "id": "6Eil-C_NN1rp"
      },
      "source": [
        "Because of the small-random initialization the attention weights are initially all close to `1/(sequence_length)`. The model will learn to make these less uniform as training progresses."
      ]
    },
    {
      "cell_type": "markdown",
      "metadata": {
        "id": "aQ638eHN4iCK"
      },
      "source": [
        "### The decoder"
      ]
    },
    {
      "cell_type": "markdown",
      "metadata": {
        "id": "pZsQJMqNmg_L"
      },
      "source": [
        "Here is the `Decoder` class' initializer. The initializer creates all the necessary layers."
      ]
    },
    {
      "cell_type": "code",
      "execution_count": 31,
      "metadata": {
        "id": "erYvHIgAl8kh"
      },
      "outputs": [],
      "source": [
        "class Decoder(tf.keras.layers.Layer):\n",
        "  @classmethod\n",
        "  def add_method(cls, fun):\n",
        "    setattr(cls, fun.__name__, fun)\n",
        "    return fun\n",
        "\n",
        "  def __init__(self, text_processor, units):\n",
        "    super(Decoder, self).__init__()\n",
        "    self.text_processor = text_processor\n",
        "    self.vocab_size = text_processor.vocabulary_size()\n",
        "    self.word_to_id = tf.keras.layers.StringLookup(\n",
        "        vocabulary=text_processor.get_vocabulary(),\n",
        "        mask_token='', oov_token='[UNK]')\n",
        "    self.id_to_word = tf.keras.layers.StringLookup(\n",
        "        vocabulary=text_processor.get_vocabulary(),\n",
        "        mask_token='', oov_token='[UNK]',\n",
        "        invert=True)\n",
        "    self.start_token = self.word_to_id('<s>')\n",
        "    self.end_token = self.word_to_id('</s>')\n",
        "\n",
        "    self.units = units\n",
        "\n",
        "\n",
        "    # 1. The embedding layer converts token IDs to vectors\n",
        "    self.embedding = tf.keras.layers.Embedding(self.vocab_size,\n",
        "                                               units, mask_zero=True)\n",
        "\n",
        "    # 2. The RNN keeps track of what's been generated so far.\n",
        "    self.rnn = tf.keras.layers.GRU(units,\n",
        "                                   return_sequences=True,\n",
        "                                   return_state=True,\n",
        "                                   recurrent_initializer='glorot_uniform')\n",
        "\n",
        "    # 3. The RNN output will be the query for the attention layer.\n",
        "    self.attention = CrossAttention(units)\n",
        "\n",
        "    # 4. This fully connected layer produces the logits for each\n",
        "    # output token.\n",
        "    self.output_layer = tf.keras.layers.Dense(self.vocab_size)"
      ]
    },
    {
      "cell_type": "markdown",
      "metadata": {
        "id": "Sd8-nRNzFR8x"
      },
      "source": [
        "#### Training"
      ]
    },
    {
      "cell_type": "code",
      "execution_count": 32,
      "metadata": {
        "id": "PJOi5btHAPNK"
      },
      "outputs": [],
      "source": [
        "@Decoder.add_method\n",
        "def call(self,\n",
        "         context, x,\n",
        "         state=None,\n",
        "         return_state=False):  \n",
        "  shape_checker = ShapeChecker()\n",
        "  shape_checker(x, 'batch t')\n",
        "  shape_checker(context, 'batch s units')\n",
        "\n",
        "  # 1. Lookup the embeddings\n",
        "  x = self.embedding(x)\n",
        "  shape_checker(x, 'batch t units')\n",
        "\n",
        "  # 2. Process the target sequence.\n",
        "  x, state = self.rnn(x, initial_state=state)\n",
        "  shape_checker(x, 'batch t units')\n",
        "\n",
        "  # 3. Use the RNN output as the query for the attention over the context.\n",
        "  x = self.attention(x, context)\n",
        "  self.last_attention_weights = self.attention.last_attention_weights\n",
        "  shape_checker(x, 'batch t units')\n",
        "  shape_checker(self.last_attention_weights, 'batch t s')\n",
        "\n",
        "  # Step 4. Generate logit predictions for the next token.\n",
        "  logits = self.output_layer(x)\n",
        "  shape_checker(logits, 'batch t target_vocab_size')\n",
        "\n",
        "  if return_state:\n",
        "    return logits, state\n",
        "  else:\n",
        "    return logits"
      ]
    },
    {
      "cell_type": "markdown",
      "metadata": {
        "id": "E1-mLAcUEXpK"
      },
      "source": [
        "That will be sufficient for training. Create an instance of the decoder to test out:"
      ]
    },
    {
      "cell_type": "code",
      "execution_count": 33,
      "metadata": {
        "id": "4ZUMbYXIEVeA"
      },
      "outputs": [],
      "source": [
        "decoder = Decoder(target_text_processor, UNITS)"
      ]
    },
    {
      "cell_type": "markdown",
      "metadata": {
        "id": "SFWaI4wqzt4t"
      },
      "source": [
        "In training decoder will be used like this:\n",
        "\n",
        "Given the context and target tokens, for each target token it predicts the next target token. "
      ]
    },
    {
      "cell_type": "code",
      "execution_count": 34,
      "metadata": {
        "id": "5YM-lD7bzx18",
        "colab": {
          "base_uri": "https://localhost:8080/"
        },
        "outputId": "5a444a34-519f-4929-cf1e-aaa5babd6a72"
      },
      "outputs": [
        {
          "output_type": "stream",
          "name": "stdout",
          "text": [
            "encoder output shape: (batch, s, units) (64, 20, 256)\n",
            "input target tokens shape: (batch, t) (64, 19)\n",
            "logits shape shape: (batch, target_vocabulary_size) (64, 19, 26916)\n"
          ]
        }
      ],
      "source": [
        "logits = decoder(ex_context, ex_tar_in)\n",
        "\n",
        "print(f'encoder output shape: (batch, s, units) {ex_context.shape}')\n",
        "print(f'input target tokens shape: (batch, t) {ex_tar_in.shape}')\n",
        "print(f'logits shape shape: (batch, target_vocabulary_size) {logits.shape}')"
      ]
    },
    {
      "cell_type": "markdown",
      "metadata": {
        "id": "zhS_tbk7VQkX"
      },
      "source": [
        "#### Inference\n",
        "\n",
        "To use it for inference we'll need a couple more methods:"
      ]
    },
    {
      "cell_type": "code",
      "execution_count": 35,
      "metadata": {
        "id": "SPm12cnIVRQr"
      },
      "outputs": [],
      "source": [
        "@Decoder.add_method\n",
        "def get_initial_state(self, context):\n",
        "  batch_size = tf.shape(context)[0]\n",
        "  start_tokens = tf.fill([batch_size, 1], self.start_token)\n",
        "  done = tf.zeros([batch_size, 1], dtype=tf.bool)\n",
        "  embedded = self.embedding(start_tokens)\n",
        "  return start_tokens, done, self.rnn.get_initial_state(embedded)[0]"
      ]
    },
    {
      "cell_type": "code",
      "execution_count": 36,
      "metadata": {
        "id": "TzeOhpBvVS5L"
      },
      "outputs": [],
      "source": [
        "@Decoder.add_method\n",
        "def tokens_to_text(self, tokens):\n",
        "  words = self.id_to_word(tokens)\n",
        "  result = tf.strings.reduce_join(words, axis=-1, separator=' ')\n",
        "  result = tf.strings.regex_replace(result, '^ *\\<s\\> *', '')\n",
        "  result = tf.strings.regex_replace(result, ' *\\<\\/s\\> *$', '')\n",
        "  return result"
      ]
    },
    {
      "cell_type": "code",
      "execution_count": 37,
      "metadata": {
        "id": "v6ildnz_V1MA"
      },
      "outputs": [],
      "source": [
        "@Decoder.add_method\n",
        "def get_next_token(self, context, next_token, done, state, temperature = 0.0):\n",
        "  logits, state = self(\n",
        "    context, next_token,\n",
        "    state = state,\n",
        "    return_state=True) \n",
        "  \n",
        "  if temperature == 0.0:\n",
        "    next_token = tf.argmax(logits, axis=-1)\n",
        "  else:\n",
        "    logits = logits[:, -1, :]/temperature\n",
        "    next_token = tf.random.categorical(logits, num_samples=1)\n",
        "\n",
        "  # If a sequence produces an `end_token`, set it `done`\n",
        "  done = done | (next_token == self.end_token)\n",
        "  # Once a sequence is done it only produces 0-padding.\n",
        "  next_token = tf.where(done, tf.constant(0, dtype=tf.int64), next_token)\n",
        "  \n",
        "  return next_token, done, state"
      ]
    },
    {
      "cell_type": "markdown",
      "metadata": {
        "id": "9WiXLrVs-FTE"
      },
      "source": [
        "With those extra functions, we can write a generation loop:"
      ]
    },
    {
      "cell_type": "code",
      "execution_count": 38,
      "metadata": {
        "id": "SuehagxL-JBZ",
        "colab": {
          "base_uri": "https://localhost:8080/"
        },
        "outputId": "b095cdd2-31ed-4652-ba69-62649b09dc3f"
      },
      "outputs": [
        {
          "output_type": "execute_result",
          "data": {
            "text/plain": [
              "array([b'haasaan hoodii polisiin arganneef dubbadheeraa baarseloonaan tajaajiluun aristokraat isaaniiti arinu',\n",
              "       b'deebisnee kakadhellee jalqabsiifamuu inveesteroonni gurmuu gorsite dhaqxee qeeqin melindaa ayiland',\n",
              "       b'dibne salaattee gahuuf kumaatamatti galchanii ducked qormaata filatamuuf haquuf hiikkaa'],\n",
              "      dtype=object)"
            ]
          },
          "metadata": {},
          "execution_count": 38
        }
      ],
      "source": [
        "# Setup the loop variables.\n",
        "next_token, done, state = decoder.get_initial_state(ex_context)\n",
        "tokens = []\n",
        "\n",
        "for n in range(10):\n",
        "  # Run one step.\n",
        "  next_token, done, state = decoder.get_next_token(\n",
        "      ex_context, next_token, done, state, temperature=1.0)\n",
        "  # Add the token to the output.\n",
        "  tokens.append(next_token)\n",
        "\n",
        "# Stack all the tokens together.\n",
        "tokens = tf.concat(tokens, axis=-1) # (batch, t)\n",
        "\n",
        "# Convert the tokens back to a a string\n",
        "result = decoder.tokens_to_text(tokens)\n",
        "result[:3].numpy()"
      ]
    },
    {
      "cell_type": "markdown",
      "metadata": {
        "id": "5ALTdqCMLGSY"
      },
      "source": [
        "Since the model's untrained, its output items from the vocabulary almost uniformly at random."
      ]
    },
    {
      "cell_type": "markdown",
      "metadata": {
        "id": "B6xyru86m914"
      },
      "source": [
        "## The model\n",
        "\n",
        "Now that we have all the model components, we can combine them to build the model for training:"
      ]
    },
    {
      "cell_type": "code",
      "execution_count": 39,
      "metadata": {
        "id": "WWIyuy71TkJT"
      },
      "outputs": [],
      "source": [
        "class Translator(tf.keras.Model):\n",
        "  @classmethod\n",
        "  def add_method(cls, fun):\n",
        "    setattr(cls, fun.__name__, fun)\n",
        "    return fun\n",
        "\n",
        "  def __init__(self, units,\n",
        "               context_text_processor,\n",
        "               target_text_processor):\n",
        "    super().__init__()\n",
        "    # Build the encoder and decoder\n",
        "    encoder = Encoder(context_text_processor, units)\n",
        "    decoder = Decoder(target_text_processor, units)\n",
        "\n",
        "    self.encoder = encoder\n",
        "    self.decoder = decoder\n",
        "\n",
        "  def call(self, inputs):\n",
        "    context, x = inputs\n",
        "    context = self.encoder(context)\n",
        "    logits = self.decoder(context, x)\n",
        "\n",
        "    #TODO(b/250038731): remove this\n",
        "    try:\n",
        "      # Delete the keras mask, so keras doesn't scale the loss+accuracy. \n",
        "      del logits._keras_mask\n",
        "    except AttributeError:\n",
        "      pass\n",
        "\n",
        "    return logits"
      ]
    },
    {
      "cell_type": "markdown",
      "metadata": {
        "id": "5rPi0FkS2iA5"
      },
      "source": [
        "During training the model will be used like this:"
      ]
    },
    {
      "cell_type": "code",
      "execution_count": 40,
      "metadata": {
        "id": "8vhjTh84K6Mg",
        "colab": {
          "base_uri": "https://localhost:8080/"
        },
        "outputId": "f9eb55cb-0a32-4129-e704-82bca06be34c"
      },
      "outputs": [
        {
          "output_type": "stream",
          "name": "stdout",
          "text": [
            "Context tokens, shape: (batch, s, units) (64, 20)\n",
            "Target tokens, shape: (batch, t) (64, 19)\n",
            "logits, shape: (batch, t, target_vocabulary_size) (64, 19, 26916)\n"
          ]
        }
      ],
      "source": [
        "model = Translator(UNITS, context_text_processor, target_text_processor)\n",
        "\n",
        "logits = model((ex_context_tok, ex_tar_in))\n",
        "\n",
        "print(f'Context tokens, shape: (batch, s, units) {ex_context_tok.shape}')\n",
        "print(f'Target tokens, shape: (batch, t) {ex_tar_in.shape}')\n",
        "print(f'logits, shape: (batch, t, target_vocabulary_size) {logits.shape}')"
      ]
    },
    {
      "cell_type": "markdown",
      "metadata": {
        "id": "_ch_71VbIRfK"
      },
      "source": [
        "### Train"
      ]
    },
    {
      "cell_type": "markdown",
      "metadata": {
        "id": "8FmzjGmprVmE"
      },
      "source": [
        "For training, we need to implement our own masked loss and accuracy functions:"
      ]
    },
    {
      "cell_type": "code",
      "execution_count": 41,
      "metadata": {
        "id": "WmTHr5iV3jFr"
      },
      "outputs": [],
      "source": [
        "def masked_loss(y_true, y_pred):\n",
        "    # Calculate the loss for each item in the batch.\n",
        "    loss_fn = tf.keras.losses.SparseCategoricalCrossentropy(\n",
        "        from_logits=True, reduction='none')\n",
        "    loss = loss_fn(y_true, y_pred)\n",
        "\n",
        "    # Mask off the losses on padding.\n",
        "    mask = tf.cast(y_true != 0, loss.dtype)\n",
        "    loss *= mask\n",
        "\n",
        "    # Return the total.\n",
        "    return tf.reduce_sum(loss)/tf.reduce_sum(mask)"
      ]
    },
    {
      "cell_type": "code",
      "execution_count": 42,
      "metadata": {
        "id": "nRB1CTmQWOIL"
      },
      "outputs": [],
      "source": [
        "def masked_acc(y_true, y_pred):\n",
        "    # Calculate the loss for each item in the batch.\n",
        "    y_pred = tf.argmax(y_pred, axis=-1)\n",
        "    y_pred = tf.cast(y_pred, y_true.dtype)\n",
        "    \n",
        "    match = tf.cast(y_true == y_pred, tf.float32)\n",
        "    mask = tf.cast(y_true != 0, tf.float32)\n",
        "    \n",
        "    return tf.reduce_sum(match)/tf.reduce_sum(mask)"
      ]
    },
    {
      "cell_type": "markdown",
      "metadata": {
        "id": "f32GuAhw2nXm"
      },
      "source": [
        "Configure the model for training:"
      ]
    },
    {
      "cell_type": "code",
      "execution_count": 43,
      "metadata": {
        "id": "9g0DRRvm3l9X"
      },
      "outputs": [],
      "source": [
        "model.compile(optimizer='adam',\n",
        "              loss=masked_loss, \n",
        "              metrics=[masked_acc, masked_loss])"
      ]
    },
    {
      "cell_type": "markdown",
      "metadata": {
        "id": "5DWLI3pssjnx"
      },
      "source": [
        "The model is randomly initialized, and should give roughly uniform output probabilities. So it's easy to predict what the initial values of the metrics should be:"
      ]
    },
    {
      "cell_type": "code",
      "execution_count": 44,
      "metadata": {
        "id": "BuP3_LFENMJG",
        "colab": {
          "base_uri": "https://localhost:8080/"
        },
        "outputId": "72cf1d6d-3bbc-44d9-93d8-7c13cb6e0065"
      },
      "outputs": [
        {
          "output_type": "execute_result",
          "data": {
            "text/plain": [
              "{'expected_loss': 10.200477, 'expected_acc': 3.715262297518205e-05}"
            ]
          },
          "metadata": {},
          "execution_count": 44
        }
      ],
      "source": [
        "vocab_size = 1.0 * target_text_processor.vocabulary_size()\n",
        "\n",
        "{\"expected_loss\": tf.math.log(vocab_size).numpy(),\n",
        " \"expected_acc\": 1/vocab_size}"
      ]
    },
    {
      "cell_type": "markdown",
      "metadata": {
        "id": "frVba49Usd0Z"
      },
      "source": [
        "That should roughly match the values returned by running a few steps of evaluation:"
      ]
    },
    {
      "cell_type": "code",
      "execution_count": 45,
      "metadata": {
        "id": "8rJITfxEsHKR",
        "colab": {
          "base_uri": "https://localhost:8080/"
        },
        "outputId": "978fb5f3-955a-4ad6-b2e5-000c4cb51b66"
      },
      "outputs": [
        {
          "output_type": "stream",
          "name": "stdout",
          "text": [
            "20/20 [==============================] - 10s 88ms/step - loss: 10.2026 - masked_acc: 0.0000e+00 - masked_loss: 10.2026\n"
          ]
        },
        {
          "output_type": "execute_result",
          "data": {
            "text/plain": [
              "{'loss': 10.202579498291016,\n",
              " 'masked_acc': 0.0,\n",
              " 'masked_loss': 10.202579498291016}"
            ]
          },
          "metadata": {},
          "execution_count": 45
        }
      ],
      "source": [
        "model.evaluate(val_ds, steps=20, return_dict=True)"
      ]
    },
    {
      "cell_type": "code",
      "execution_count": 46,
      "metadata": {
        "id": "BQd_esVVoSf3",
        "colab": {
          "base_uri": "https://localhost:8080/"
        },
        "outputId": "7ef557d6-77c6-45a5-abc0-f5db81ec1035"
      },
      "outputs": [
        {
          "output_type": "stream",
          "name": "stdout",
          "text": [
            "Epoch 1/100\n",
            "100/100 [==============================] - 47s 308ms/step - loss: 6.4473 - masked_acc: 0.2111 - masked_loss: 6.4473 - val_loss: 5.5549 - val_masked_acc: 0.2875 - val_masked_loss: 5.5549\n",
            "Epoch 2/100\n",
            "100/100 [==============================] - 22s 222ms/step - loss: 5.2074 - masked_acc: 0.3138 - masked_loss: 5.2074 - val_loss: 4.9738 - val_masked_acc: 0.3291 - val_masked_loss: 4.9738\n",
            "Epoch 3/100\n",
            "100/100 [==============================] - 24s 245ms/step - loss: 4.7171 - masked_acc: 0.3561 - masked_loss: 4.7171 - val_loss: 4.6140 - val_masked_acc: 0.3711 - val_masked_loss: 4.6140\n",
            "Epoch 4/100\n",
            "100/100 [==============================] - 16s 159ms/step - loss: 4.3477 - masked_acc: 0.3973 - masked_loss: 4.3477 - val_loss: 4.1533 - val_masked_acc: 0.4177 - val_masked_loss: 4.1533\n",
            "Epoch 5/100\n",
            "100/100 [==============================] - 16s 159ms/step - loss: 3.9913 - masked_acc: 0.4347 - masked_loss: 3.9913 - val_loss: 3.9031 - val_masked_acc: 0.4503 - val_masked_loss: 3.9031\n",
            "Epoch 6/100\n",
            "100/100 [==============================] - 15s 148ms/step - loss: 3.7054 - masked_acc: 0.4669 - masked_loss: 3.7054 - val_loss: 3.5507 - val_masked_acc: 0.4873 - val_masked_loss: 3.5507\n",
            "Epoch 7/100\n",
            "100/100 [==============================] - 15s 149ms/step - loss: 3.4379 - masked_acc: 0.4975 - masked_loss: 3.4379 - val_loss: 3.3649 - val_masked_acc: 0.5020 - val_masked_loss: 3.3649\n",
            "Epoch 8/100\n",
            "100/100 [==============================] - 14s 142ms/step - loss: 3.2798 - masked_acc: 0.5142 - masked_loss: 3.2798 - val_loss: 3.2266 - val_masked_acc: 0.5210 - val_masked_loss: 3.2266\n",
            "Epoch 9/100\n",
            "100/100 [==============================] - 15s 147ms/step - loss: 3.0617 - masked_acc: 0.5412 - masked_loss: 3.0617 - val_loss: 3.1786 - val_masked_acc: 0.5311 - val_masked_loss: 3.1786\n",
            "Epoch 10/100\n",
            "100/100 [==============================] - 14s 139ms/step - loss: 2.9199 - masked_acc: 0.5534 - masked_loss: 2.9199 - val_loss: 2.9345 - val_masked_acc: 0.5555 - val_masked_loss: 2.9345\n",
            "Epoch 11/100\n",
            "100/100 [==============================] - 14s 141ms/step - loss: 2.8187 - masked_acc: 0.5630 - masked_loss: 2.8187 - val_loss: 2.7720 - val_masked_acc: 0.5688 - val_masked_loss: 2.7720\n",
            "Epoch 12/100\n",
            "100/100 [==============================] - 14s 135ms/step - loss: 2.6852 - masked_acc: 0.5793 - masked_loss: 2.6852 - val_loss: 2.6879 - val_masked_acc: 0.5799 - val_masked_loss: 2.6879\n",
            "Epoch 13/100\n",
            "100/100 [==============================] - 14s 141ms/step - loss: 2.5903 - masked_acc: 0.5888 - masked_loss: 2.5903 - val_loss: 2.4813 - val_masked_acc: 0.6004 - val_masked_loss: 2.4813\n",
            "Epoch 14/100\n",
            "100/100 [==============================] - 14s 141ms/step - loss: 2.5675 - masked_acc: 0.5922 - masked_loss: 2.5675 - val_loss: 2.5106 - val_masked_acc: 0.6011 - val_masked_loss: 2.5106\n",
            "Epoch 15/100\n",
            "100/100 [==============================] - 14s 140ms/step - loss: 2.3603 - masked_acc: 0.6161 - masked_loss: 2.3603 - val_loss: 2.3501 - val_masked_acc: 0.6166 - val_masked_loss: 2.3501\n",
            "Epoch 16/100\n",
            "100/100 [==============================] - 14s 141ms/step - loss: 1.8479 - masked_acc: 0.6595 - masked_loss: 1.8488 - val_loss: 2.5679 - val_masked_acc: 0.5992 - val_masked_loss: 2.5679\n",
            "Epoch 17/100\n",
            "100/100 [==============================] - 15s 145ms/step - loss: 1.8936 - masked_acc: 0.6590 - masked_loss: 1.8936 - val_loss: 2.4227 - val_masked_acc: 0.6158 - val_masked_loss: 2.4227\n",
            "Epoch 18/100\n",
            "100/100 [==============================] - 15s 149ms/step - loss: 1.8363 - masked_acc: 0.6622 - masked_loss: 1.8363 - val_loss: 2.3630 - val_masked_acc: 0.6216 - val_masked_loss: 2.3630\n",
            "Epoch 19/100\n",
            "100/100 [==============================] - 14s 143ms/step - loss: 1.7944 - masked_acc: 0.6706 - masked_loss: 1.7944 - val_loss: 2.4727 - val_masked_acc: 0.6111 - val_masked_loss: 2.4727\n",
            "Epoch 20/100\n",
            "100/100 [==============================] - 14s 138ms/step - loss: 1.8012 - masked_acc: 0.6680 - masked_loss: 1.8012 - val_loss: 2.2179 - val_masked_acc: 0.6363 - val_masked_loss: 2.2179\n",
            "Epoch 21/100\n",
            "100/100 [==============================] - 14s 137ms/step - loss: 1.7960 - masked_acc: 0.6712 - masked_loss: 1.7960 - val_loss: 2.0760 - val_masked_acc: 0.6545 - val_masked_loss: 2.0760\n",
            "Epoch 22/100\n",
            "100/100 [==============================] - 13s 134ms/step - loss: 1.7363 - masked_acc: 0.6778 - masked_loss: 1.7363 - val_loss: 2.0815 - val_masked_acc: 0.6552 - val_masked_loss: 2.0815\n",
            "Epoch 23/100\n",
            "100/100 [==============================] - 14s 137ms/step - loss: 1.7397 - masked_acc: 0.6775 - masked_loss: 1.7397 - val_loss: 2.1846 - val_masked_acc: 0.6424 - val_masked_loss: 2.1846\n",
            "Epoch 24/100\n",
            "100/100 [==============================] - 13s 134ms/step - loss: 1.7588 - masked_acc: 0.6799 - masked_loss: 1.7588 - val_loss: 2.0949 - val_masked_acc: 0.6554 - val_masked_loss: 2.0949\n",
            "Epoch 25/100\n",
            "100/100 [==============================] - 14s 136ms/step - loss: 1.7905 - masked_acc: 0.6738 - masked_loss: 1.7905 - val_loss: 2.1804 - val_masked_acc: 0.6470 - val_masked_loss: 2.1804\n",
            "Epoch 26/100\n",
            "100/100 [==============================] - 14s 137ms/step - loss: 1.7242 - masked_acc: 0.6811 - masked_loss: 1.7242 - val_loss: 2.1309 - val_masked_acc: 0.6507 - val_masked_loss: 2.1309\n",
            "Epoch 27/100\n",
            "100/100 [==============================] - 14s 141ms/step - loss: 1.7198 - masked_acc: 0.6859 - masked_loss: 1.7198 - val_loss: 2.0044 - val_masked_acc: 0.6654 - val_masked_loss: 2.0044\n",
            "Epoch 28/100\n",
            "100/100 [==============================] - 14s 137ms/step - loss: 1.6572 - masked_acc: 0.6891 - masked_loss: 1.6572 - val_loss: 2.0796 - val_masked_acc: 0.6612 - val_masked_loss: 2.0796\n",
            "Epoch 29/100\n",
            "100/100 [==============================] - 14s 136ms/step - loss: 1.6516 - masked_acc: 0.6925 - masked_loss: 1.6516 - val_loss: 1.8555 - val_masked_acc: 0.6823 - val_masked_loss: 1.8555\n",
            "Epoch 30/100\n",
            "100/100 [==============================] - 14s 142ms/step - loss: 1.6905 - masked_acc: 0.6876 - masked_loss: 1.6905 - val_loss: 1.9839 - val_masked_acc: 0.6675 - val_masked_loss: 1.9839\n",
            "Epoch 31/100\n",
            "100/100 [==============================] - 15s 154ms/step - loss: 1.0322 - masked_acc: 0.7692 - masked_loss: 1.0362 - val_loss: 1.9323 - val_masked_acc: 0.6766 - val_masked_loss: 1.9323\n",
            "Epoch 32/100\n",
            "100/100 [==============================] - 13s 134ms/step - loss: 1.0064 - masked_acc: 0.7699 - masked_loss: 1.0064 - val_loss: 1.9121 - val_masked_acc: 0.6823 - val_masked_loss: 1.9121\n",
            "Epoch 33/100\n",
            "100/100 [==============================] - 14s 140ms/step - loss: 1.0348 - masked_acc: 0.7635 - masked_loss: 1.0348 - val_loss: 2.1276 - val_masked_acc: 0.6642 - val_masked_loss: 2.1276\n",
            "Epoch 34/100\n",
            "100/100 [==============================] - 14s 137ms/step - loss: 1.0418 - masked_acc: 0.7626 - masked_loss: 1.0418 - val_loss: 2.1008 - val_masked_acc: 0.6781 - val_masked_loss: 2.1008\n",
            "Epoch 35/100\n",
            "100/100 [==============================] - 14s 138ms/step - loss: 1.0747 - masked_acc: 0.7576 - masked_loss: 1.0747 - val_loss: 2.0336 - val_masked_acc: 0.6697 - val_masked_loss: 2.0336\n",
            "Epoch 36/100\n",
            "100/100 [==============================] - 14s 136ms/step - loss: 1.0738 - masked_acc: 0.7561 - masked_loss: 1.0738 - val_loss: 1.9856 - val_masked_acc: 0.6827 - val_masked_loss: 1.9856\n",
            "Epoch 37/100\n",
            "100/100 [==============================] - 13s 129ms/step - loss: 1.0930 - masked_acc: 0.7534 - masked_loss: 1.0930 - val_loss: 1.9397 - val_masked_acc: 0.6892 - val_masked_loss: 1.9397\n",
            "Epoch 38/100\n",
            "100/100 [==============================] - 13s 128ms/step - loss: 1.0919 - masked_acc: 0.7524 - masked_loss: 1.0919 - val_loss: 1.9121 - val_masked_acc: 0.6847 - val_masked_loss: 1.9121\n",
            "Epoch 39/100\n",
            "100/100 [==============================] - 13s 133ms/step - loss: 1.1273 - masked_acc: 0.7486 - masked_loss: 1.1273 - val_loss: 1.8700 - val_masked_acc: 0.6975 - val_masked_loss: 1.8700\n",
            "Epoch 40/100\n",
            "100/100 [==============================] - 14s 137ms/step - loss: 1.1299 - masked_acc: 0.7471 - masked_loss: 1.1299 - val_loss: 2.0025 - val_masked_acc: 0.6781 - val_masked_loss: 2.0025\n",
            "Epoch 41/100\n",
            "100/100 [==============================] - 13s 132ms/step - loss: 1.1373 - masked_acc: 0.7469 - masked_loss: 1.1373 - val_loss: 1.9949 - val_masked_acc: 0.6839 - val_masked_loss: 1.9949\n",
            "Epoch 42/100\n",
            "100/100 [==============================] - 13s 133ms/step - loss: 1.1251 - masked_acc: 0.7490 - masked_loss: 1.1251 - val_loss: 2.0243 - val_masked_acc: 0.6812 - val_masked_loss: 2.0243\n",
            "Epoch 43/100\n",
            "100/100 [==============================] - 13s 132ms/step - loss: 1.1192 - masked_acc: 0.7509 - masked_loss: 1.1192 - val_loss: 1.9151 - val_masked_acc: 0.6874 - val_masked_loss: 1.9151\n",
            "Epoch 44/100\n",
            "100/100 [==============================] - 15s 150ms/step - loss: 1.1294 - masked_acc: 0.7523 - masked_loss: 1.1294 - val_loss: 2.0894 - val_masked_acc: 0.6727 - val_masked_loss: 2.0894\n",
            "Epoch 45/100\n",
            "100/100 [==============================] - 13s 127ms/step - loss: 1.1104 - masked_acc: 0.7517 - masked_loss: 1.1104 - val_loss: 1.8883 - val_masked_acc: 0.6930 - val_masked_loss: 1.8883\n",
            "Epoch 46/100\n",
            "100/100 [==============================] - 13s 134ms/step - loss: 0.6183 - masked_acc: 0.8419 - masked_loss: 0.6202 - val_loss: 2.1276 - val_masked_acc: 0.6836 - val_masked_loss: 2.1276\n",
            "Epoch 47/100\n",
            "100/100 [==============================] - 13s 127ms/step - loss: 0.6156 - masked_acc: 0.8400 - masked_loss: 0.6156 - val_loss: 2.0692 - val_masked_acc: 0.6844 - val_masked_loss: 2.0692\n",
            "Epoch 48/100\n",
            "100/100 [==============================] - 14s 135ms/step - loss: 0.6426 - masked_acc: 0.8362 - masked_loss: 0.6426 - val_loss: 1.9164 - val_masked_acc: 0.7046 - val_masked_loss: 1.9164\n",
            "Epoch 49/100\n",
            "100/100 [==============================] - 14s 139ms/step - loss: 0.6627 - masked_acc: 0.8307 - masked_loss: 0.6627 - val_loss: 2.0668 - val_masked_acc: 0.6883 - val_masked_loss: 2.0668\n",
            "Epoch 50/100\n",
            "100/100 [==============================] - 14s 136ms/step - loss: 0.6730 - masked_acc: 0.8281 - masked_loss: 0.6730 - val_loss: 1.9957 - val_masked_acc: 0.6973 - val_masked_loss: 1.9957\n",
            "Epoch 51/100\n",
            "100/100 [==============================] - 13s 132ms/step - loss: 0.6994 - masked_acc: 0.8202 - masked_loss: 0.6994 - val_loss: 2.0552 - val_masked_acc: 0.6922 - val_masked_loss: 2.0552\n",
            "Epoch 52/100\n",
            "100/100 [==============================] - 13s 129ms/step - loss: 0.6961 - masked_acc: 0.8239 - masked_loss: 0.6961 - val_loss: 2.0767 - val_masked_acc: 0.6907 - val_masked_loss: 2.0767\n",
            "Epoch 53/100\n",
            "100/100 [==============================] - 13s 133ms/step - loss: 0.7279 - masked_acc: 0.8173 - masked_loss: 0.7279 - val_loss: 2.1340 - val_masked_acc: 0.6845 - val_masked_loss: 2.1340\n",
            "Epoch 54/100\n",
            "100/100 [==============================] - 13s 132ms/step - loss: 0.7359 - masked_acc: 0.8143 - masked_loss: 0.7359 - val_loss: 2.0518 - val_masked_acc: 0.6875 - val_masked_loss: 2.0518\n",
            "Epoch 55/100\n",
            "100/100 [==============================] - 13s 133ms/step - loss: 0.7534 - masked_acc: 0.8120 - masked_loss: 0.7534 - val_loss: 2.1190 - val_masked_acc: 0.6870 - val_masked_loss: 2.1190\n",
            "Epoch 56/100\n",
            "100/100 [==============================] - 13s 131ms/step - loss: 0.7464 - masked_acc: 0.8143 - masked_loss: 0.7464 - val_loss: 1.9509 - val_masked_acc: 0.7034 - val_masked_loss: 1.9509\n",
            "Epoch 57/100\n",
            "100/100 [==============================] - 13s 132ms/step - loss: 0.7552 - masked_acc: 0.8105 - masked_loss: 0.7552 - val_loss: 1.9991 - val_masked_acc: 0.7021 - val_masked_loss: 1.9991\n",
            "Epoch 58/100\n",
            "100/100 [==============================] - 15s 151ms/step - loss: 0.7805 - masked_acc: 0.8068 - masked_loss: 0.7805 - val_loss: 2.0558 - val_masked_acc: 0.6877 - val_masked_loss: 2.0558\n",
            "Epoch 59/100\n",
            "100/100 [==============================] - 13s 135ms/step - loss: 0.7615 - masked_acc: 0.8073 - masked_loss: 0.7615 - val_loss: 2.0829 - val_masked_acc: 0.7001 - val_masked_loss: 2.0829\n",
            "Epoch 60/100\n",
            "100/100 [==============================] - 13s 132ms/step - loss: 0.7620 - masked_acc: 0.8090 - masked_loss: 0.7620 - val_loss: 1.9269 - val_masked_acc: 0.7056 - val_masked_loss: 1.9269\n",
            "Epoch 61/100\n",
            "100/100 [==============================] - 14s 139ms/step - loss: 0.4563 - masked_acc: 0.8763 - masked_loss: 0.4583 - val_loss: 1.9697 - val_masked_acc: 0.7115 - val_masked_loss: 1.9697\n",
            "Epoch 62/100\n",
            "100/100 [==============================] - 14s 137ms/step - loss: 0.4466 - masked_acc: 0.8780 - masked_loss: 0.4466 - val_loss: 2.0992 - val_masked_acc: 0.6991 - val_masked_loss: 2.0992\n",
            "Epoch 63/100\n",
            "100/100 [==============================] - 13s 132ms/step - loss: 0.4685 - masked_acc: 0.8732 - masked_loss: 0.4685 - val_loss: 2.0081 - val_masked_acc: 0.7009 - val_masked_loss: 2.0081\n",
            "Epoch 64/100\n",
            "100/100 [==============================] - 13s 135ms/step - loss: 0.4711 - masked_acc: 0.8732 - masked_loss: 0.4711 - val_loss: 1.9341 - val_masked_acc: 0.7122 - val_masked_loss: 1.9341\n",
            "Epoch 65/100\n",
            "100/100 [==============================] - 14s 135ms/step - loss: 0.4852 - masked_acc: 0.8677 - masked_loss: 0.4852 - val_loss: 2.1591 - val_masked_acc: 0.6898 - val_masked_loss: 2.1591\n",
            "Epoch 66/100\n",
            "100/100 [==============================] - 14s 136ms/step - loss: 0.5028 - masked_acc: 0.8631 - masked_loss: 0.5028 - val_loss: 2.1151 - val_masked_acc: 0.6996 - val_masked_loss: 2.1151\n",
            "Epoch 67/100\n",
            "100/100 [==============================] - 13s 134ms/step - loss: 0.5231 - masked_acc: 0.8584 - masked_loss: 0.5231 - val_loss: 2.2463 - val_masked_acc: 0.6944 - val_masked_loss: 2.2463\n",
            "Epoch 68/100\n",
            "100/100 [==============================] - 14s 138ms/step - loss: 0.5314 - masked_acc: 0.8568 - masked_loss: 0.5314 - val_loss: 2.2119 - val_masked_acc: 0.6921 - val_masked_loss: 2.2119\n",
            "Epoch 69/100\n",
            "100/100 [==============================] - 14s 137ms/step - loss: 0.5193 - masked_acc: 0.8610 - masked_loss: 0.5193 - val_loss: 2.1225 - val_masked_acc: 0.6992 - val_masked_loss: 2.1225\n",
            "Epoch 70/100\n",
            "100/100 [==============================] - 13s 135ms/step - loss: 0.5530 - masked_acc: 0.8528 - masked_loss: 0.5530 - val_loss: 2.1394 - val_masked_acc: 0.7010 - val_masked_loss: 2.1394\n",
            "Epoch 71/100\n",
            "100/100 [==============================] - 15s 146ms/step - loss: 0.5610 - masked_acc: 0.8505 - masked_loss: 0.5610 - val_loss: 2.1545 - val_masked_acc: 0.6986 - val_masked_loss: 2.1545\n",
            "Epoch 72/100\n",
            "100/100 [==============================] - 14s 137ms/step - loss: 0.5667 - masked_acc: 0.8486 - masked_loss: 0.5667 - val_loss: 2.2027 - val_masked_acc: 0.6896 - val_masked_loss: 2.2027\n",
            "Epoch 73/100\n",
            "100/100 [==============================] - 14s 138ms/step - loss: 0.5834 - masked_acc: 0.8460 - masked_loss: 0.5834 - val_loss: 2.2588 - val_masked_acc: 0.6900 - val_masked_loss: 2.2588\n",
            "Epoch 74/100\n",
            "100/100 [==============================] - 14s 136ms/step - loss: 0.5962 - masked_acc: 0.8425 - masked_loss: 0.5962 - val_loss: 2.0929 - val_masked_acc: 0.6979 - val_masked_loss: 2.0929\n",
            "Epoch 75/100\n",
            "100/100 [==============================] - 14s 138ms/step - loss: 0.5924 - masked_acc: 0.8428 - masked_loss: 0.5924 - val_loss: 2.0841 - val_masked_acc: 0.7071 - val_masked_loss: 2.0841\n",
            "Epoch 76/100\n",
            "100/100 [==============================] - 14s 140ms/step - loss: 0.3620 - masked_acc: 0.8976 - masked_loss: 0.3634 - val_loss: 2.1128 - val_masked_acc: 0.7065 - val_masked_loss: 2.1128\n",
            "Epoch 77/100\n",
            "100/100 [==============================] - 14s 136ms/step - loss: 0.3463 - masked_acc: 0.9013 - masked_loss: 0.3463 - val_loss: 2.3036 - val_masked_acc: 0.6938 - val_masked_loss: 2.3036\n",
            "Epoch 78/100\n",
            "100/100 [==============================] - 14s 137ms/step - loss: 0.3558 - masked_acc: 0.8989 - masked_loss: 0.3558 - val_loss: 2.0994 - val_masked_acc: 0.7057 - val_masked_loss: 2.0994\n",
            "Epoch 79/100\n",
            "100/100 [==============================] - 14s 136ms/step - loss: 0.3786 - masked_acc: 0.8932 - masked_loss: 0.3786 - val_loss: 2.1359 - val_masked_acc: 0.7017 - val_masked_loss: 2.1359\n",
            "Epoch 80/100\n",
            "100/100 [==============================] - 14s 140ms/step - loss: 0.3788 - masked_acc: 0.8952 - masked_loss: 0.3788 - val_loss: 2.1921 - val_masked_acc: 0.6995 - val_masked_loss: 2.1921\n",
            "Epoch 81/100\n",
            "100/100 [==============================] - 14s 140ms/step - loss: 0.3973 - masked_acc: 0.8876 - masked_loss: 0.3973 - val_loss: 2.3140 - val_masked_acc: 0.6910 - val_masked_loss: 2.3140\n",
            "Epoch 82/100\n",
            "100/100 [==============================] - 14s 136ms/step - loss: 0.4055 - masked_acc: 0.8854 - masked_loss: 0.4055 - val_loss: 2.1139 - val_masked_acc: 0.7069 - val_masked_loss: 2.1139\n",
            "Epoch 83/100\n",
            "100/100 [==============================] - 14s 138ms/step - loss: 0.4155 - masked_acc: 0.8831 - masked_loss: 0.4155 - val_loss: 2.1755 - val_masked_acc: 0.6993 - val_masked_loss: 2.1755\n",
            "Epoch 84/100\n",
            "100/100 [==============================] - 14s 140ms/step - loss: 0.4316 - masked_acc: 0.8791 - masked_loss: 0.4316 - val_loss: 2.2588 - val_masked_acc: 0.6960 - val_masked_loss: 2.2588\n",
            "Epoch 85/100\n",
            "100/100 [==============================] - 14s 143ms/step - loss: 0.4384 - masked_acc: 0.8778 - masked_loss: 0.4384 - val_loss: 2.2585 - val_masked_acc: 0.6962 - val_masked_loss: 2.2585\n",
            "Epoch 86/100\n",
            "100/100 [==============================] - 14s 138ms/step - loss: 0.4574 - masked_acc: 0.8727 - masked_loss: 0.4574 - val_loss: 2.1194 - val_masked_acc: 0.7035 - val_masked_loss: 2.1194\n",
            "Epoch 87/100\n",
            "100/100 [==============================] - 13s 135ms/step - loss: 0.4523 - masked_acc: 0.8745 - masked_loss: 0.4523 - val_loss: 2.4215 - val_masked_acc: 0.6871 - val_masked_loss: 2.4215\n",
            "Epoch 88/100\n",
            "100/100 [==============================] - 14s 138ms/step - loss: 0.4592 - masked_acc: 0.8736 - masked_loss: 0.4592 - val_loss: 2.2930 - val_masked_acc: 0.6984 - val_masked_loss: 2.2930\n",
            "Epoch 89/100\n",
            "100/100 [==============================] - 14s 136ms/step - loss: 0.4657 - masked_acc: 0.8711 - masked_loss: 0.4657 - val_loss: 2.0256 - val_masked_acc: 0.7142 - val_masked_loss: 2.0256\n",
            "Epoch 90/100\n",
            "100/100 [==============================] - 14s 138ms/step - loss: 0.4716 - masked_acc: 0.8693 - masked_loss: 0.4716 - val_loss: 2.0412 - val_masked_acc: 0.7115 - val_masked_loss: 2.0412\n",
            "Epoch 91/100\n",
            "100/100 [==============================] - 13s 135ms/step - loss: 0.2984 - masked_acc: 0.9143 - masked_loss: 0.2992 - val_loss: 2.2516 - val_masked_acc: 0.7048 - val_masked_loss: 2.2516\n",
            "Epoch 92/100\n",
            "100/100 [==============================] - 14s 138ms/step - loss: 0.2824 - masked_acc: 0.9175 - masked_loss: 0.2824 - val_loss: 2.2518 - val_masked_acc: 0.7045 - val_masked_loss: 2.2518\n",
            "Epoch 93/100\n",
            "100/100 [==============================] - 14s 135ms/step - loss: 0.2869 - masked_acc: 0.9179 - masked_loss: 0.2869 - val_loss: 2.2256 - val_masked_acc: 0.7049 - val_masked_loss: 2.2256\n",
            "Epoch 94/100\n",
            "100/100 [==============================] - 14s 137ms/step - loss: 0.3106 - masked_acc: 0.9105 - masked_loss: 0.3106 - val_loss: 2.3615 - val_masked_acc: 0.6981 - val_masked_loss: 2.3615\n",
            "Epoch 95/100\n",
            "100/100 [==============================] - 14s 142ms/step - loss: 0.3097 - masked_acc: 0.9111 - masked_loss: 0.3097 - val_loss: 2.1783 - val_masked_acc: 0.7157 - val_masked_loss: 2.1783\n",
            "Epoch 96/100\n",
            "100/100 [==============================] - 13s 134ms/step - loss: 0.3208 - masked_acc: 0.9079 - masked_loss: 0.3208 - val_loss: 2.5668 - val_masked_acc: 0.6921 - val_masked_loss: 2.5668\n",
            "Epoch 97/100\n",
            "100/100 [==============================] - 13s 131ms/step - loss: 0.3380 - masked_acc: 0.9032 - masked_loss: 0.3380 - val_loss: 2.1434 - val_masked_acc: 0.7152 - val_masked_loss: 2.1434\n",
            "Epoch 98/100\n",
            "100/100 [==============================] - 15s 146ms/step - loss: 0.3429 - masked_acc: 0.9020 - masked_loss: 0.3429 - val_loss: 2.2738 - val_masked_acc: 0.7054 - val_masked_loss: 2.2738\n",
            "Epoch 99/100\n",
            "100/100 [==============================] - 13s 131ms/step - loss: 0.3477 - masked_acc: 0.9004 - masked_loss: 0.3477 - val_loss: 2.1961 - val_masked_acc: 0.7123 - val_masked_loss: 2.1961\n",
            "Epoch 100/100\n",
            "100/100 [==============================] - 13s 128ms/step - loss: 0.3597 - masked_acc: 0.8984 - masked_loss: 0.3597 - val_loss: 2.3433 - val_masked_acc: 0.7032 - val_masked_loss: 2.3433\n"
          ]
        }
      ],
      "source": [
        "history = model.fit(\n",
        "    train_ds.repeat(), \n",
        "    epochs=100,\n",
        "    steps_per_epoch = 100,\n",
        "    validation_data=val_ds,\n",
        "    validation_steps = 20,\n",
        "    #callbacks=[tf.keras.callbacks.EarlyStopping(patience=5)]\n",
        "    )"
      ]
    },
    {
      "cell_type": "code",
      "execution_count": 47,
      "metadata": {
        "id": "38rLdlmtQHCm",
        "colab": {
          "base_uri": "https://localhost:8080/",
          "height": 296
        },
        "outputId": "65dd9beb-b863-4eaa-88a3-d66f391930c1"
      },
      "outputs": [
        {
          "output_type": "execute_result",
          "data": {
            "text/plain": [
              "<matplotlib.legend.Legend at 0x7f7045e06af0>"
            ]
          },
          "metadata": {},
          "execution_count": 47
        },
        {
          "output_type": "display_data",
          "data": {
            "text/plain": [
              "<Figure size 432x288 with 1 Axes>"
            ],
            "image/png": "[encoded data removed]"
          },
          "metadata": {
            "needs_background": "light"
          }
        }
      ],
      "source": [
        "plt.plot(history.history['loss'], label='loss')\n",
        "plt.plot(history.history['val_loss'], label='val_loss')\n",
        "plt.ylim([0, max(plt.ylim())])\n",
        "plt.xlabel('Epoch #')\n",
        "plt.ylabel('CE/token')\n",
        "plt.legend()"
      ]
    },
    {
      "cell_type": "code",
      "execution_count": 48,
      "metadata": {
        "id": "KkhXRASNG80_",
        "colab": {
          "base_uri": "https://localhost:8080/",
          "height": 296
        },
        "outputId": "64a86f86-0a99-4cfc-afa2-d24a48222e94"
      },
      "outputs": [
        {
          "output_type": "execute_result",
          "data": {
            "text/plain": [
              "<matplotlib.legend.Legend at 0x7f70d1dbb1f0>"
            ]
          },
          "metadata": {},
          "execution_count": 48
        },
        {
          "output_type": "display_data",
          "data": {
            "text/plain": [
              "<Figure size 432x288 with 1 Axes>"
            ],
            "image/png": "[encoded data removed]"
          },
          "metadata": {
            "needs_background": "light"
          }
        }
      ],
      "source": [
        "plt.plot(history.history['masked_acc'], label='accuracy')\n",
        "plt.plot(history.history['val_masked_acc'], label='val_accuracy')\n",
        "plt.ylim([0, max(plt.ylim())])\n",
        "plt.xlabel('Epoch #')\n",
        "plt.ylabel('CE/token')\n",
        "plt.legend()"
      ]
    },
    {
      "cell_type": "markdown",
      "metadata": {
        "id": "mU3Ce8M6I3rz"
      },
      "source": [
        "### Translate\n"
      ]
    },
    {
      "cell_type": "code",
      "execution_count": 49,
      "metadata": {
        "id": "mmgYPCVgEwp_"
      },
      "outputs": [],
      "source": [
        "@Translator.add_method\n",
        "def translate(self,\n",
        "              texts, *,\n",
        "              max_length=50,\n",
        "              temperature=0.0):\n",
        "  # Process the input texts\n",
        "  context = self.encoder.convert_input(texts)\n",
        "  batch_size = tf.shape(texts)[0]\n",
        "\n",
        "  # Setup the loop inputs\n",
        "  tokens = []\n",
        "  attention_weights = []\n",
        "  next_token, done, state = self.decoder.get_initial_state(context)\n",
        "\n",
        "  for _ in range(max_length):\n",
        "    # Generate the next token\n",
        "    next_token, done, state = self.decoder.get_next_token(\n",
        "        context, next_token, done,  state, temperature)\n",
        "        \n",
        "    # Collect the generated tokens\n",
        "    tokens.append(next_token)\n",
        "    attention_weights.append(self.decoder.last_attention_weights)\n",
        "    \n",
        "    if tf.executing_eagerly() and tf.reduce_all(done):\n",
        "      break\n",
        "\n",
        "  # Stack the lists of tokens and attention weights.\n",
        "  tokens = tf.concat(tokens, axis=-1)   # t*[(batch 1)] -> (batch, t)\n",
        "  self.last_attention_weights = tf.concat(attention_weights, axis=1)  # t*[(batch 1 s)] -> (batch, t s)\n",
        "\n",
        "  result = self.decoder.tokens_to_text(tokens)\n",
        "  result = tf.strings.regex_replace(result, r' ([.?!]) ', r'\\1')\n",
        "  return result"
      ]
    },
    {
      "cell_type": "markdown",
      "metadata": {
        "id": "U4XufRntbbva"
      },
      "source": [
        "Here are the two helper methods, used above, to convert tokens to text, and to get the next token:"
      ]
    },
    {
      "cell_type": "code",
      "execution_count": 50,
      "metadata": {
        "id": "E5hqvbR5FUCD",
        "colab": {
          "base_uri": "https://localhost:8080/",
          "height": 35
        },
        "outputId": "090aaea3-9519-4226-fef6-dbc442aac710"
      },
      "outputs": [
        {
          "output_type": "execute_result",
          "data": {
            "text/plain": [
              "'galatoomaa.'"
            ],
            "application/vnd.google.colaboratory.intrinsic+json": {
              "type": "string"
            }
          },
          "metadata": {},
          "execution_count": 50
        }
      ],
      "source": [
        "result = model.translate(['Thanks.']) # Galatoomaa.\n",
        "result = result[0].numpy().decode()\n",
        "result"
      ]
    },
    {
      "cell_type": "markdown",
      "metadata": {
        "id": "wQ1iU63cVgfs"
      },
      "source": [
        "Use that to generate the attention plot:"
      ]
    },
    {
      "cell_type": "code",
      "execution_count": 51,
      "metadata": {
        "id": "s5hQWlbN3jGF"
      },
      "outputs": [],
      "source": [
        "@Translator.add_method\n",
        "def plot_attention(self, text, **kwargs):\n",
        "  assert isinstance(text, str)\n",
        "  output = self.translate([text], **kwargs)\n",
        "  output = output[0].numpy().decode()\n",
        "\n",
        "  attention = self.last_attention_weights[0]\n",
        "\n",
        "  context = tf_lower_and_split_punct(text)\n",
        "  context = context.numpy().decode().split()\n",
        "\n",
        "  output = tf_lower_and_split_punct(output)\n",
        "  output = output.numpy().decode().split()[1:]\n",
        "\n",
        "  fig = plt.figure(figsize=(10, 10))\n",
        "  ax = fig.add_subplot(1, 1, 1)\n",
        "\n",
        "  ax.matshow(attention, cmap='viridis', vmin=0.0)\n",
        "\n",
        "  fontdict = {'fontsize': 14}\n",
        "\n",
        "  ax.set_xticklabels([''] + context, fontdict=fontdict, rotation=90)\n",
        "  ax.set_yticklabels([''] + output, fontdict=fontdict)\n",
        "\n",
        "  ax.xaxis.set_major_locator(ticker.MultipleLocator(1))\n",
        "  ax.yaxis.set_major_locator(ticker.MultipleLocator(1))\n",
        "\n",
        "  ax.set_xlabel('Input text')\n",
        "  ax.set_ylabel('Output text')"
      ]
    },
    {
      "cell_type": "code",
      "execution_count": 52,
      "metadata": {
        "id": "rrGawQv2eiA4",
        "colab": {
          "base_uri": "https://localhost:8080/",
          "height": 590
        },
        "outputId": "e676f305-7ee6-4449-bd34-037489d340a4"
      },
      "outputs": [
        {
          "output_type": "stream",
          "name": "stderr",
          "text": [
            "<ipython-input-51-935149928b90>:22: UserWarning: FixedFormatter should only be used together with FixedLocator\n",
            "  ax.set_xticklabels([''] + context, fontdict=fontdict, rotation=90)\n",
            "<ipython-input-51-935149928b90>:23: UserWarning: FixedFormatter should only be used together with FixedLocator\n",
            "  ax.set_yticklabels([''] + output, fontdict=fontdict)\n"
          ]
        },
        {
          "output_type": "display_data",
          "data": {
            "text/plain": [
              "<Figure size 720x720 with 1 Axes>"
            ],
            "image/png": "[encoded data removed]"
          },
          "metadata": {
            "needs_background": "light"
          }
        }
      ],
      "source": [
        "model.plot_attention('Thanks.') # Thanks"
      ]
    },
    {
      "cell_type": "markdown",
      "metadata": {
        "id": "JHBdOf9duumm"
      },
      "source": [
        "Translate a few more sentences and plot them:"
      ]
    },
    {
      "cell_type": "code",
      "execution_count": 53,
      "metadata": {
        "id": "flT0VlQZK11s",
        "colab": {
          "base_uri": "https://localhost:8080/",
          "height": 594
        },
        "outputId": "62dfa6dc-dd94-4ba8-bda2-1cd37930c6fe"
      },
      "outputs": [
        {
          "output_type": "stream",
          "name": "stdout",
          "text": [
            "CPU times: user 395 ms, sys: 20 ms, total: 415 ms\n",
            "Wall time: 387 ms\n"
          ]
        },
        {
          "output_type": "stream",
          "name": "stderr",
          "text": [
            "<ipython-input-51-935149928b90>:22: UserWarning: FixedFormatter should only be used together with FixedLocator\n",
            "  ax.set_xticklabels([''] + context, fontdict=fontdict, rotation=90)\n",
            "<ipython-input-51-935149928b90>:23: UserWarning: FixedFormatter should only be used together with FixedLocator\n",
            "  ax.set_yticklabels([''] + output, fontdict=fontdict)\n"
          ]
        },
        {
          "output_type": "display_data",
          "data": {
            "text/plain": [
              "<Figure size 720x720 with 1 Axes>"
            ],
            "image/png": "[encoded data removed]"
          },
          "metadata": {
            "needs_background": "light"
          }
        }
      ],
      "source": [
        "%%time\n",
        "# This is my life.\n",
        "model.plot_attention('This is my life.') # Kun jireenya kooti."
      ]
    },
    {
      "cell_type": "code",
      "execution_count": 54,
      "metadata": {
        "id": "t-fPYP_9K8xa",
        "colab": {
          "base_uri": "https://localhost:8080/",
          "height": 614
        },
        "outputId": "829db632-c56b-4993-a207-55500bb73c7f"
      },
      "outputs": [
        {
          "output_type": "stream",
          "name": "stdout",
          "text": [
            "CPU times: user 259 ms, sys: 16 ms, total: 275 ms\n",
            "Wall time: 256 ms\n"
          ]
        },
        {
          "output_type": "stream",
          "name": "stderr",
          "text": [
            "<ipython-input-51-935149928b90>:22: UserWarning: FixedFormatter should only be used together with FixedLocator\n",
            "  ax.set_xticklabels([''] + context, fontdict=fontdict, rotation=90)\n",
            "<ipython-input-51-935149928b90>:23: UserWarning: FixedFormatter should only be used together with FixedLocator\n",
            "  ax.set_yticklabels([''] + output, fontdict=fontdict)\n"
          ]
        },
        {
          "output_type": "display_data",
          "data": {
            "text/plain": [
              "<Figure size 720x720 with 1 Axes>"
            ],
            "image/png": "[encoded data removed]"
          },
          "metadata": {
            "needs_background": "light"
          }
        }
      ],
      "source": [
        "%%time\n",
        " # Try to find out.'\n",
        "model.plot_attention(\"Hello!\") # Akkam!"
      ]
    },
    {
      "cell_type": "markdown",
      "metadata": {
        "id": "Vtz6QBoGWqT2"
      },
      "source": [
        "The raw data is sorted by length, so try translating the longest sequence:"
      ]
    },
    {
      "cell_type": "code",
      "execution_count": 55,
      "metadata": {
        "id": "-FUHFLEvSMbG",
        "colab": {
          "base_uri": "https://localhost:8080/"
        },
        "outputId": "843c37db-ce7e-49ab-94c0-01b1d5540ab7"
      },
      "outputs": [
        {
          "output_type": "stream",
          "name": "stdout",
          "text": [
            "Expected output:\n",
            " Dorgommiileen ispoortii adda addaa, agarsiisonni fi\n",
            "simpooziyemiiwwanis qophiilee festivaalicha irratti karoorfamaniidha.\n"
          ]
        }
      ],
      "source": [
        "long_text = context_raw[-1]\n",
        "import textwrap\n",
        "print('Expected output:\\n', '\\n'.join(textwrap.wrap(target_raw[-1])))"
      ]
    },
    {
      "cell_type": "code",
      "execution_count": 56,
      "metadata": {
        "id": "lDa_8NaN_RUy",
        "colab": {
          "base_uri": "https://localhost:8080/",
          "height": 675
        },
        "outputId": "2965e6d6-61f5-43c4-8aeb-7021a4c3e0a2"
      },
      "outputs": [
        {
          "output_type": "stream",
          "name": "stderr",
          "text": [
            "<ipython-input-51-935149928b90>:22: UserWarning: FixedFormatter should only be used together with FixedLocator\n",
            "  ax.set_xticklabels([''] + context, fontdict=fontdict, rotation=90)\n",
            "<ipython-input-51-935149928b90>:23: UserWarning: FixedFormatter should only be used together with FixedLocator\n",
            "  ax.set_yticklabels([''] + output, fontdict=fontdict)\n"
          ]
        },
        {
          "output_type": "display_data",
          "data": {
            "text/plain": [
              "<Figure size 720x720 with 1 Axes>"
            ],
            "image/png": "[encoded data removed]"
          },
          "metadata": {
            "needs_background": "light"
          }
        }
      ],
      "source": [
        "model.plot_attention(long_text)"
      ]
    },
    {
      "cell_type": "markdown",
      "metadata": {
        "id": "PToqG3GiIUPM"
      },
      "source": [
        "The `translate` function works on batches:"
      ]
    },
    {
      "cell_type": "code",
      "execution_count": 115,
      "metadata": {
        "id": "1-FLCjBVEMXL"
      },
      "outputs": [],
      "source": [
        "inputs = [\n",
        "    \"It is really cold here.\", # \"As baayyee qorra.\"\n",
        "    \"This is my life.\", # \"Kun jireenya kooti.\"\n",
        "    \"His room is a mess.\" # \"Kutaan isaa jeequmsa.\"\n",
        "]"
      ]
    },
    {
      "cell_type": "code",
      "execution_count": 116,
      "metadata": {
        "id": "sT68i4jYEQ7q",
        "colab": {
          "base_uri": "https://localhost:8080/"
        },
        "outputId": "b7efc79f-4c43-453d-e87b-009dba2a4930"
      },
      "outputs": [
        {
          "output_type": "stream",
          "name": "stdout",
          "text": [
            "dhuguma asitti qorra.\n",
            "kun jireenya kooti.\n",
            "kutaan isaa jeequmsa.\n",
            "\n",
            "CPU times: user 1.84 s, sys: 9.7 ms, total: 1.85 s\n",
            "Wall time: 1.91 s\n"
          ]
        }
      ],
      "source": [
        "%%time\n",
        "for t in inputs:\n",
        "  print(model.translate([t])[0].numpy().decode())\n",
        "\n",
        "print()"
      ]
    },
    {
      "cell_type": "code",
      "execution_count": 117,
      "metadata": {
        "id": "hd2rgyHwVVrv",
        "colab": {
          "base_uri": "https://localhost:8080/"
        },
        "outputId": "b59c663d-1907-403b-91f4-db2ccc0ffa5d"
      },
      "outputs": [
        {
          "output_type": "stream",
          "name": "stdout",
          "text": [
            "dhuguma asitti qorra.\n",
            "kun jireenya kooti.\n",
            "kutaan isaa jeequmsa.\n",
            "\n",
            "CPU times: user 407 ms, sys: 4.97 ms, total: 412 ms\n",
            "Wall time: 407 ms\n"
          ]
        }
      ],
      "source": [
        "%%time\n",
        "result = model.translate(inputs)\n",
        "\n",
        "print(result[0].numpy().decode())\n",
        "print(result[1].numpy().decode())\n",
        "print(result[2].numpy().decode())\n",
        "print()"
      ]
    },
    {
      "cell_type": "markdown",
      "metadata": {
        "id": "uvhMqIw26Bwd"
      },
      "source": [
        "So overall this text generation function mostly gets the job done, but so you've only used it here in python with eager execution. Let's try to export it next:"
      ]
    },
    {
      "cell_type": "markdown",
      "metadata": {
        "id": "X4POAuUgLxLv"
      },
      "source": [
        "### Export"
      ]
    },
    {
      "cell_type": "markdown",
      "metadata": {
        "id": "S-6cFyqeUPQm"
      },
      "source": [
        "If you want to export this model you'll need to wrap the `translate` method in a `tf.function`. That implementation will get the job done:\n"
      ]
    },
    {
      "cell_type": "code",
      "execution_count": 60,
      "metadata": {
        "id": "fNhGwQaVKIAy"
      },
      "outputs": [],
      "source": [
        "class Export(tf.Module):\n",
        "  def __init__(self, model):\n",
        "    self.model = model\n",
        "\n",
        "  @tf.function(input_signature=[tf.TensorSpec(dtype=tf.string, shape=[None])])\n",
        "  def translate(self, inputs):\n",
        "    return self.model.translate(inputs)"
      ]
    },
    {
      "cell_type": "code",
      "execution_count": 61,
      "metadata": {
        "id": "5Tjqs9FzNwW5"
      },
      "outputs": [],
      "source": [
        "export = Export(model)"
      ]
    },
    {
      "cell_type": "markdown",
      "metadata": {
        "id": "fkccvHDvXCa8"
      },
      "source": [
        "Run the `tf.function` once to compile it:"
      ]
    },
    {
      "cell_type": "code",
      "execution_count": 62,
      "metadata": {
        "id": "_NzrixLvVBjQ",
        "colab": {
          "base_uri": "https://localhost:8080/"
        },
        "outputId": "eb8243eb-9466-47c3-dab8-fb5c24c95ff2"
      },
      "outputs": [
        {
          "output_type": "stream",
          "name": "stdout",
          "text": [
            "CPU times: user 1min 8s, sys: 1.58 s, total: 1min 10s\n",
            "Wall time: 1min 9s\n"
          ]
        }
      ],
      "source": [
        "%%time\n",
        "_ = export.translate(tf.constant(inputs))"
      ]
    },
    {
      "cell_type": "code",
      "execution_count": 118,
      "metadata": {
        "id": "USJdu00tVFbd",
        "colab": {
          "base_uri": "https://localhost:8080/"
        },
        "outputId": "fbddb8bb-fe2a-4ec8-8ddf-541ffd1585b1"
      },
      "outputs": [
        {
          "output_type": "stream",
          "name": "stdout",
          "text": [
            "dhuguma asitti qorra.                                             \n",
            "kun jireenya kooti.                                             \n",
            "kutaan isaa jeequmsa.                                             \n",
            "\n",
            "CPU times: user 158 ms, sys: 18.5 ms, total: 177 ms\n",
            "Wall time: 305 ms\n"
          ]
        }
      ],
      "source": [
        "%%time\n",
        "result = export.translate(tf.constant(inputs))\n",
        "\n",
        "print(result[0].numpy().decode())\n",
        "print(result[1].numpy().decode())\n",
        "print(result[2].numpy().decode())\n",
        "print()"
      ]
    },
    {
      "cell_type": "markdown",
      "metadata": {
        "id": "NP2dNtEXJPEL"
      },
      "source": [
        "Now that the function has been traced it can be exported using `saved_model.save`:"
      ]
    },
    {
      "cell_type": "code",
      "execution_count": 64,
      "metadata": {
        "id": "OyvxT5V0_X5B",
        "colab": {
          "base_uri": "https://localhost:8080/"
        },
        "outputId": "0b28bb86-ed16-411a-898c-6647ff86ed50"
      },
      "outputs": [
        {
          "output_type": "stream",
          "name": "stderr",
          "text": [
            "WARNING:absl:Found untraced functions such as embedding_3_layer_call_fn, embedding_3_layer_call_and_return_conditional_losses, embedding_4_layer_call_fn, embedding_4_layer_call_and_return_conditional_losses, cross_attention_2_layer_call_fn while saving (showing 5 of 32). These functions will not be directly callable after loading.\n"
          ]
        },
        {
          "output_type": "stream",
          "name": "stdout",
          "text": [
            "CPU times: user 1min 42s, sys: 3.15 s, total: 1min 45s\n",
            "Wall time: 1min 46s\n"
          ]
        }
      ],
      "source": [
        "%%time\n",
        "tf.saved_model.save(export, 'eng_translator_new',\n",
        "                    signatures={'serving_default': export.translate})"
      ]
    },
    {
      "cell_type": "code",
      "execution_count": 65,
      "metadata": {
        "id": "-I0j3i3ekOba",
        "colab": {
          "base_uri": "https://localhost:8080/"
        },
        "outputId": "fd04d447-9740-41f4-db33-60b553c2a3e7"
      },
      "outputs": [
        {
          "output_type": "stream",
          "name": "stdout",
          "text": [
            "CPU times: user 1min 3s, sys: 1.48 s, total: 1min 5s\n",
            "Wall time: 1min 5s\n"
          ]
        }
      ],
      "source": [
        "%%time\n",
        "reloaded = tf.saved_model.load('eng_translator_new')\n",
        "_ = reloaded.translate(tf.constant(inputs)) #warmup"
      ]
    },
    {
      "cell_type": "code",
      "source": [
        "from nltk.translate.bleu_score import corpus_bleu, sentence_bleu, SmoothingFunction\n",
        "\n",
        "def compute_bleu_score(references, translations, weights=(0.25, 0.25, 0.25, 0.25)):\n",
        "    \"\"\"\n",
        "    Compute the BLEU score for a set of translations and their corresponding reference translations.\n",
        "    :param references: A list of reference translations, where each translation is a list of tokens.\n",
        "    :param translations: A list of translations to evaluate, where each translation is a list of tokens.\n",
        "    :param weights: A tuple of weights to use for each n-gram score, where len(weights) = max_n in the n-gram scores.\n",
        "    :return: The BLEU score for the translations, as a float between 0 and 1.\n",
        "    \"\"\"\n",
        "    # Use smoothing to avoid division by zero\n",
        "    smoothing_function = SmoothingFunction().method1\n",
        "\n",
        "    # Compute the BLEU score for the translations and their reference translations\n",
        "    bleu_score = corpus_bleu([[ref] for ref in references], translations, weights=weights, smoothing_function=smoothing_function)\n",
        "\n",
        "    return bleu_score\n"
      ],
      "metadata": {
        "id": "X_OzcoA9WjYm"
      },
      "execution_count": 69,
      "outputs": []
    },
    {
      "cell_type": "code",
      "source": [
        "result = reloaded.translate(tf.constant(context_raw[10000:20000]))"
      ],
      "metadata": {
        "id": "FGBe14ipWVoH"
      },
      "execution_count": 111,
      "outputs": []
    },
    {
      "cell_type": "code",
      "source": [
        "import re\n",
        "result = [x.numpy().decode() for x in result]\n",
        "pattern = r\"(?<=[.?!])\\s+\"\n",
        "result = [re.sub(pattern, \"\", x) for x in result]"
      ],
      "metadata": {
        "id": "jvj_24nIWzfu"
      },
      "execution_count": 112,
      "outputs": []
    },
    {
      "cell_type": "code",
      "source": [
        "# Compute the BLEU score for the translations and their reference translations\n",
        "bleu_score = compute_bleu_score(target_raw[10000:20000], result)\n",
        "\n",
        "print(\"BLEU score:\", bleu_score)"
      ],
      "metadata": {
        "id": "H9LrcyWsdLJ-",
        "colab": {
          "base_uri": "https://localhost:8080/"
        },
        "outputId": "19430973-2d42-4f97-9ec4-0b7d2c3882c4"
      },
      "execution_count": 92,
      "outputs": [
        {
          "output_type": "stream",
          "name": "stdout",
          "text": [
            "BLEU score: 0.8197302876600944\n"
          ]
        }
      ]
    },
    {
      "cell_type": "code",
      "source": [
        "result[:10]"
      ],
      "metadata": {
        "colab": {
          "base_uri": "https://localhost:8080/"
        },
        "id": "Z7kB3ZfTXHwF",
        "outputId": "fc11256a-8d41-4de1-dcf1-04ef44a9474a"
      },
      "execution_count": 113,
      "outputs": [
        {
          "output_type": "execute_result",
          "data": {
            "text/plain": [
              "['maariyaam tomboy dha.',\n",
              " 'maariyaam nama hawwatuudha.',\n",
              " 'maariyaam intala obboleessa kooti.',\n",
              " 'maariyaam ulfa taate.',\n",
              " 'maariyaam si jaalladha.',\n",
              " 'qaruuraa banuun dandaaa?',\n",
              " 'asitti tamboo xuuxuu dandaaa?',\n",
              " 'tarii qorri ni bua.',\n",
              " 'tarii ni hojiitti taa taa.',\n",
              " 'afaan faransaayii koo hamaadha.']"
            ]
          },
          "metadata": {},
          "execution_count": 113
        }
      ]
    },
    {
      "cell_type": "code",
      "execution_count": 119,
      "metadata": {
        "id": "GXZF__FZXJCm",
        "colab": {
          "base_uri": "https://localhost:8080/"
        },
        "outputId": "d09b61eb-b6ba-4a31-c6a9-3a69aaacf99d"
      },
      "outputs": [
        {
          "output_type": "stream",
          "name": "stdout",
          "text": [
            "dhuguma asitti qorra.                                             \n",
            "kun jireenya kooti.                                             \n",
            "kutaan isaa jeequmsa.                                             \n",
            "\n",
            "CPU times: user 165 ms, sys: 16.4 ms, total: 181 ms\n",
            "Wall time: 314 ms\n"
          ]
        }
      ],
      "source": [
        "%%time\n",
        "result = reloaded.translate(tf.constant(inputs))\n",
        "\n",
        "print(result[0].numpy().decode())\n",
        "print(result[1].numpy().decode())\n",
        "print(result[2].numpy().decode())\n",
        "print()"
      ]
    },
    {
      "cell_type": "code",
      "source": [
        "result = reloaded.translate([\"I like to say thank you!\"]) #Galatoomaa jechuun barbaada!\n",
        "print(result[0].numpy().decode())"
      ],
      "metadata": {
        "colab": {
          "base_uri": "https://localhost:8080/"
        },
        "id": "AeGIEWQ67ICm",
        "outputId": "7b8b7a35-9344-440c-80af-132e61506e6b"
      },
      "execution_count": 114,
      "outputs": [
        {
          "output_type": "stream",
          "name": "stdout",
          "text": [
            "galatoomaa jechuun barbaada!                                             \n"
          ]
        }
      ]
    },
    {
      "cell_type": "code",
      "source": [],
      "metadata": {
        "id": "bTGmR2mp7QW0"
      },
      "execution_count": 71,
      "outputs": []
    }
  ],
  "metadata": {
    "accelerator": "GPU",
    "colab": {
      "provenance": [],
      "include_colab_link": true
    },
    "kernelspec": {
      "display_name": "Python 3",
      "name": "python3"
    },
    "gpuClass": "standard"
  },
  "nbformat": 4,
  "nbformat_minor": 0
}